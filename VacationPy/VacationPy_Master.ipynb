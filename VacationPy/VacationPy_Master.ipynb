{
 "cells": [
  {
   "cell_type": "markdown",
   "metadata": {},
   "source": [
    "# VacationPy\n",
    "----\n",
    "\n",
    "#### Note\n",
    "* Instructions have been included for each segment. You do not have to follow them exactly, but they are included to help you think through the steps."
   ]
  },
  {
   "cell_type": "code",
   "execution_count": 2,
   "metadata": {},
   "outputs": [],
   "source": [
    "# Dependencies and Setup\n",
    "import matplotlib.pyplot as plt\n",
    "import pandas as pd\n",
    "import numpy as np\n",
    "import requests\n",
    "import gmaps\n",
    "import os\n",
    "\n",
    "# Import API key\n",
    "from api_keys import g_key"
   ]
  },
  {
   "cell_type": "markdown",
   "metadata": {},
   "source": [
    "### Store Part I results into DataFrame\n",
    "* Load the csv exported in Part I to a DataFrame"
   ]
  },
  {
   "cell_type": "code",
   "execution_count": 3,
   "metadata": {},
   "outputs": [
    {
     "data": {
      "text/html": [
       "<div>\n",
       "<style scoped>\n",
       "    .dataframe tbody tr th:only-of-type {\n",
       "        vertical-align: middle;\n",
       "    }\n",
       "\n",
       "    .dataframe tbody tr th {\n",
       "        vertical-align: top;\n",
       "    }\n",
       "\n",
       "    .dataframe thead th {\n",
       "        text-align: right;\n",
       "    }\n",
       "</style>\n",
       "<table border=\"1\" class=\"dataframe\">\n",
       "  <thead>\n",
       "    <tr style=\"text-align: right;\">\n",
       "      <th></th>\n",
       "      <th>City</th>\n",
       "      <th>Lat</th>\n",
       "      <th>Lng</th>\n",
       "      <th>Max Temp</th>\n",
       "      <th>Humidity</th>\n",
       "      <th>Cloudiness</th>\n",
       "      <th>Wind Speed</th>\n",
       "      <th>Country</th>\n",
       "      <th>Date</th>\n",
       "    </tr>\n",
       "  </thead>\n",
       "  <tbody>\n",
       "    <tr>\n",
       "      <th>0</th>\n",
       "      <td>Ushuaia</td>\n",
       "      <td>-54.80</td>\n",
       "      <td>-68.30</td>\n",
       "      <td>32.00</td>\n",
       "      <td>95</td>\n",
       "      <td>90</td>\n",
       "      <td>23.04</td>\n",
       "      <td>AR</td>\n",
       "      <td>1595810577</td>\n",
       "    </tr>\n",
       "    <tr>\n",
       "      <th>1</th>\n",
       "      <td>Saskylakh</td>\n",
       "      <td>71.92</td>\n",
       "      <td>114.08</td>\n",
       "      <td>38.73</td>\n",
       "      <td>94</td>\n",
       "      <td>100</td>\n",
       "      <td>18.34</td>\n",
       "      <td>RU</td>\n",
       "      <td>1595810577</td>\n",
       "    </tr>\n",
       "    <tr>\n",
       "      <th>2</th>\n",
       "      <td>Jamestown</td>\n",
       "      <td>42.10</td>\n",
       "      <td>-79.24</td>\n",
       "      <td>77.00</td>\n",
       "      <td>65</td>\n",
       "      <td>1</td>\n",
       "      <td>5.82</td>\n",
       "      <td>US</td>\n",
       "      <td>1595810404</td>\n",
       "    </tr>\n",
       "    <tr>\n",
       "      <th>3</th>\n",
       "      <td>Lüderitz</td>\n",
       "      <td>-26.65</td>\n",
       "      <td>15.16</td>\n",
       "      <td>60.80</td>\n",
       "      <td>63</td>\n",
       "      <td>0</td>\n",
       "      <td>12.75</td>\n",
       "      <td>NaN</td>\n",
       "      <td>1595810531</td>\n",
       "    </tr>\n",
       "    <tr>\n",
       "      <th>4</th>\n",
       "      <td>Mpulungu</td>\n",
       "      <td>-8.76</td>\n",
       "      <td>31.11</td>\n",
       "      <td>65.32</td>\n",
       "      <td>67</td>\n",
       "      <td>56</td>\n",
       "      <td>7.83</td>\n",
       "      <td>ZM</td>\n",
       "      <td>1595810578</td>\n",
       "    </tr>\n",
       "  </tbody>\n",
       "</table>\n",
       "</div>"
      ],
      "text/plain": [
       "        City    Lat     Lng  Max Temp  Humidity  Cloudiness  Wind Speed  \\\n",
       "0    Ushuaia -54.80  -68.30     32.00        95          90       23.04   \n",
       "1  Saskylakh  71.92  114.08     38.73        94         100       18.34   \n",
       "2  Jamestown  42.10  -79.24     77.00        65           1        5.82   \n",
       "3   Lüderitz -26.65   15.16     60.80        63           0       12.75   \n",
       "4   Mpulungu  -8.76   31.11     65.32        67          56        7.83   \n",
       "\n",
       "  Country        Date  \n",
       "0      AR  1595810577  \n",
       "1      RU  1595810577  \n",
       "2      US  1595810404  \n",
       "3     NaN  1595810531  \n",
       "4      ZM  1595810578  "
      ]
     },
     "execution_count": 3,
     "metadata": {},
     "output_type": "execute_result"
    }
   ],
   "source": [
    "vac_df=pd.read_csv('weather_data.csv').drop('City_ID', axis=1)\n",
    "vac_df.head()"
   ]
  },
  {
   "cell_type": "code",
   "execution_count": 4,
   "metadata": {},
   "outputs": [
    {
     "data": {
      "text/plain": [
       "574"
      ]
     },
     "execution_count": 4,
     "metadata": {},
     "output_type": "execute_result"
    }
   ],
   "source": [
    "len(vac_df)"
   ]
  },
  {
   "cell_type": "markdown",
   "metadata": {},
   "source": [
    "### Humidity Heatmap\n",
    "* Configure gmaps.\n",
    "* Use the Lat and Lng as locations and Humidity as the weight.\n",
    "* Add Heatmap layer to map."
   ]
  },
  {
   "cell_type": "code",
   "execution_count": 5,
   "metadata": {},
   "outputs": [
    {
     "data": {
      "application/vnd.jupyter.widget-view+json": {
       "model_id": "a1a84c959208437d97a2863903715eda",
       "version_major": 2,
       "version_minor": 0
      },
      "text/plain": [
       "Figure(layout=FigureLayout(height='420px'))"
      ]
     },
     "metadata": {},
     "output_type": "display_data"
    }
   ],
   "source": [
    "gmaps.configure(api_key=g_key)\n",
    "locations = vac_df[['Lat', 'Lng']]\n",
    "humidity=vac_df['Humidity']\n",
    "fig=gmaps.figure()\n",
    "heat_layer=gmaps.heatmap_layer(locations, weights=humidity, dissipating=False, max_intensity=100, point_radius=4)\n",
    "fig.add_layer(heat_layer)\n",
    "\n",
    "fig"
   ]
  },
  {
   "cell_type": "markdown",
   "metadata": {},
   "source": [
    "### Create new DataFrame fitting weather criteria\n",
    "* Narrow down the cities to fit weather conditions.\n",
    "* Drop any rows will null values."
   ]
  },
  {
   "cell_type": "code",
   "execution_count": 10,
   "metadata": {},
   "outputs": [
    {
     "data": {
      "text/plain": [
       "149"
      ]
     },
     "execution_count": 10,
     "metadata": {},
     "output_type": "execute_result"
    }
   ],
   "source": [
    "vac_drill_df=vac_df.loc[(vac_df['Max Temp']>70) & (vac_df['Max Temp']<80)]\n",
    "len(vac_drill_df)"
   ]
  },
  {
   "cell_type": "markdown",
   "metadata": {},
   "source": [
    "### Hotel Map\n",
    "* Store into variable named `hotel_df`.\n",
    "* Add a \"Hotel Name\" column to the DataFrame.\n",
    "* Set parameters to search for hotels with 5000 meters.\n",
    "* Hit the Google Places API for each city's coordinates.\n",
    "* Store the first Hotel result into the DataFrame.\n",
    "* Plot markers on top of the heatmap."
   ]
  },
  {
   "cell_type": "code",
   "execution_count": 11,
   "metadata": {},
   "outputs": [],
   "source": [
    "hotel_df=vac_drill_df.copy()\n",
    "hotel_df['Hotel Name'] = \"\"\n",
    "len(hotel_df)\n",
    "hotel_df=hotel_df.reset_index()\n",
    "hotel_df=hotel_df.drop('index', axis=1)"
   ]
  },
  {
   "cell_type": "code",
   "execution_count": 12,
   "metadata": {},
   "outputs": [
    {
     "name": "stdout",
     "output_type": "stream",
     "text": [
      "hotel name for Jamestown is Chautauqua Harbor Hotel\n",
      "Failed hotel lookup for Kayiry\n",
      "hotel name for Bijie is Four Points by Sheraton Bijie\n",
      "hotel name for Hobyo is Osmani Hotel\n",
      "hotel name for Vaini is Paradise First Hotel\n",
      "hotel name for Rikitea is Pension Bianca & Benoit\n",
      "hotel name for Bengkulu is Hotel Santika Bengkulu\n",
      "hotel name for São Filipe is Colonial Guest House of Fogo\n",
      "hotel name for Alappuzha is Dona House Boats at Alappuzha (Alleppey Backwaters)\n",
      "hotel name for Lom Sak is WORACHAT BOUTIQUE HOTEL\n",
      "hotel name for Guerrero Negro is Hotel Los Caracoles\n",
      "hotel name for Coahuayana Viejo is Hotel Los Arcos\n",
      "hotel name for Muroto-misakicho is Ake no Hoshi\n",
      "hotel name for Yangi Marg`ilon is Hotel Mehmon Saroy\n",
      "hotel name for Sinnamary is L'oiseau de Paradis\n",
      "Failed hotel lookup for Kogon\n",
      "hotel name for Lethem is Takutu Hotel\n",
      "hotel name for Matara is Villa Océane - Madiha Mirissa\n",
      "hotel name for Shahreza is خانه مسافر اسپاد\n",
      "hotel name for Acaraú is Castelo Encantado\n",
      "hotel name for Avarua is Pacific Resort Rarotonga\n",
      "hotel name for Dossor is Gostinitsa Orpk \"Nauryz\"\n",
      "hotel name for Daru is Daru hotel\n",
      "hotel name for Minggang is Minggang Zhongzhou International Hotel\n",
      "hotel name for Shingū is Shingu UI Hotel\n",
      "hotel name for Xambioá is Hotel Rio Araguaia\n",
      "hotel name for Arraial do Cabo is Orlanova Hotel\n",
      "Failed hotel lookup for Rey Bouba\n",
      "hotel name for El Copé is CABAÑAS PANAMA CABINS\n",
      "hotel name for Faanui is InterContinental Bora Bora Resort Thalasso Spa\n",
      "hotel name for Balkhash is Guest House Comfort-House-Balkhash\n",
      "hotel name for Los Llanos de Aridane is Hotel Hacienda de Abajo\n",
      "hotel name for Kaya is Hôtel Kaziendé\n",
      "hotel name for Tual is SURYA INN\n",
      "hotel name for Alofi is Taloa Heights\n",
      "Failed hotel lookup for Nikolayevskaya\n",
      "hotel name for Anloga is Bulls and Anchor Inn\n",
      "hotel name for Sibolga is Prima Indah Hotel\n",
      "hotel name for Tommot is Dom\n",
      "hotel name for Paranaíba is Cast Comfort Hotel\n",
      "hotel name for Pangkalanbuun is Grand Kecubung Hotel\n",
      "hotel name for Pingxiang is Blue Sky Hotel\n",
      "hotel name for Neiafu is Mystic Sands\n",
      "hotel name for Maceió is Jatiúca Hotel & Resort\n",
      "Failed hotel lookup for Jamame\n",
      "hotel name for Guiyang is Kempinski Hotel Guiyang\n",
      "hotel name for Cayenne is Grand Hotel Montabo\n",
      "hotel name for Nardaran is Bilgah Beach Hotel\n",
      "Failed hotel lookup for Kutum\n",
      "hotel name for Padang is Mercure Padang\n",
      "hotel name for El Vigia is Bari Hotel\n",
      "Failed hotel lookup for Najrān\n",
      "hotel name for Maiduguri is Satus Hotel\n",
      "hotel name for Vila Velha is Quality Suites Vila Velha\n",
      "hotel name for Kearney is Ramada by Wyndham Kearney\n",
      "hotel name for Petropavlovsk-Kamchatskiy is ООО \"Гостиничный комплекс \"Петропавловск\"\n",
      "hotel name for Banganapalle is Chowdeswari Devi Hotel\n",
      "Failed hotel lookup for Lodja\n",
      "hotel name for Koumac is Karem Bay\n",
      "Failed hotel lookup for Meadow Lake\n",
      "hotel name for Caravelas is Mar Doce de Abrolhos\n",
      "hotel name for Douglas is Aloft Omaha West\n",
      "hotel name for Berdigestyakh is Sberbank Rossii\n",
      "hotel name for Munirābād is Hampi Citadel\n",
      "hotel name for Agüimes is Hotel Rural Casa de Los Camellos\n",
      "hotel name for Yellowknife is The Explorer Hotel\n",
      "hotel name for Halifax is Halifax Marriott Harbourfront Hotel\n",
      "hotel name for Arrecife is Occidental Lanzarote Playa\n",
      "hotel name for Vao is OURE TERA beach resort\n",
      "hotel name for Fuxin is Lavande Hotel Fuxin 318 Park\n",
      "hotel name for Salalah is Salalah Gardens Hotel\n",
      "hotel name for Jaciara is Taba Hotel\n",
      "hotel name for La Ronge is Pickerel Bay Cabins\n",
      "Failed hotel lookup for Yumen\n",
      "hotel name for Weligama is Cape Weligama - Relais & Chateaux\n",
      "hotel name for Verkhoyansk is Sberbank Rossii\n",
      "hotel name for Eirunepé is Aquariu's Hotel\n",
      "hotel name for Sioux Lookout is Sunset Inn & Suites\n",
      "hotel name for Broni is Hotel Italia\n",
      "Failed hotel lookup for Marabba\n",
      "hotel name for Balaipungut is Swee Ann Homestay\n",
      "hotel name for Nushki is ilman Yousafzai\n",
      "hotel name for Pacific Grove is InterContinental the Clement Monterey\n",
      "Failed hotel lookup for Tiznit Province\n",
      "hotel name for Altamira is Xingu Praia Hotel\n",
      "hotel name for Luanda is EPIC SANA Luanda\n",
      "hotel name for Ribeira Grande is Quinta Das Buganvílias\n",
      "hotel name for Maku is Sardar Hotel\n",
      "hotel name for Conceição do Araguaia is Hotel Pousada Do Sol\n",
      "hotel name for Kirovskiy is Uyut, Gostinitsa\n",
      "hotel name for São João da Barra is OYO Pousada Mediterrâneo\n",
      "hotel name for São João dos Patos is Montesino Hotel & Restaurante\n",
      "hotel name for Zyryanka is Zyryanka\n",
      "hotel name for Chirongui is Les Baobabs\n",
      "hotel name for Lethbridge is Fairfield Inn & Suites by Marriott Lethbridge\n",
      "hotel name for Isabela is Basilan Business Hotel\n",
      "hotel name for Anking is Nanxiang Barony Hotel\n",
      "hotel name for El Tigre is Hotel Gemstone Inn\n",
      "hotel name for Puerto del Rosario is Hotel El Mirador\n",
      "hotel name for Bubaque is Ponta Anchaca\n",
      "hotel name for Lárdos is Lindos Princess Beach Hotel\n",
      "hotel name for Iquitos is DoubleTree by Hilton Iquitos\n",
      "hotel name for San Quintín is Old Mill Hotel\n",
      "hotel name for Praia da Vitória is Hotel Apt. Praia Marina\n",
      "hotel name for Bull Savanna is Big Red's\n",
      "hotel name for Sehore is Hotel Parvati Palace\n",
      "Failed hotel lookup for Porto-Novo\n",
      "hotel name for Itarema is Vila Ybytu Eco Resort\n",
      "hotel name for Palafrugell is Hotel Aigua Blava (Begur)\n",
      "hotel name for Teguise is HOTEL BOUTIQUE PALACIO ICO\n",
      "hotel name for Alta Floresta is Lisboa Palace Hotel\n",
      "hotel name for Touros is Pousada Amigos do Vento\n",
      "hotel name for Hay River is Eileen's Bed & Breakfast - Guest House\n",
      "hotel name for Bambanglipuro is Paddy D'sawah Guest house\n",
      "hotel name for Tarakan is Hotel milia\n",
      "hotel name for Lodwar is The Cradle Tented Camp\n",
      "hotel name for Barcelona is W Barcelona\n",
      "hotel name for Teshie is Labadi Beach Hotel\n",
      "Failed hotel lookup for Diré\n",
      "hotel name for Kalmunai is LUXEZ garden house\n",
      "hotel name for Gamboma is Residence N'Keni\n",
      "hotel name for Krasnoarmiys'k is Европа\n",
      "hotel name for Jalu is Jalu Hotel\n",
      "Failed hotel lookup for Luba\n",
      "Failed hotel lookup for Adré\n",
      "hotel name for Shouguang is GreenTree Inn\n",
      "hotel name for Eagle Pass is Holiday Inn Express & Suites Eagle Pass\n",
      "hotel name for Altagracia de Orituco is Hacienda la Quinta\n",
      "hotel name for Trairi is Rede Beach: Hotel em Guajiru\n",
      "hotel name for Tucuruí is Hotel Goiânia\n",
      "hotel name for Arak is Zagros Hotel\n",
      "hotel name for Benghazi is Funduq Ifriqiyah\n",
      "hotel name for Kenora is Maynard Lake Lodge\n",
      "hotel name for Saint-Michel-des-Saints is Hotel Central\n",
      "hotel name for Nantucket is White Elephant Nantucket\n",
      "hotel name for Atambua is Hotel King Star\n",
      "Failed hotel lookup for Srednekolymsk\n",
      "hotel name for Maningrida is Dhukurrdji Lodge\n",
      "hotel name for Soyo is Kinwica\n",
      "hotel name for Cururupu is Hotel Líder\n",
      "hotel name for Cabedelo is Pousada Camboinha\n",
      "hotel name for Marrakesh is La Sultana\n",
      "hotel name for Paraíso is Orosi Valley Hotel and Villas\n",
      "hotel name for Chifeng is Wanda Realm Chifeng\n",
      "hotel name for Témiscaming is Brassette Tem Rose\n",
      "hotel name for Bissau is Hotel CEIBA\n",
      "hotel name for Shenjiamen is Hilton Zhoushan\n",
      "hotel name for Mason City is Hampton Inn & Suites Mason City\n",
      "Failed hotel lookup for Mokhsogollokh\n"
     ]
    }
   ],
   "source": [
    "base_url = \"https://maps.googleapis.com/maps/api/place/nearbysearch/json\"\n",
    "\n",
    "target_radius = 5000\n",
    "target_type = \"hotel\"\n",
    "# set up a parameters dictionary\n",
    "params = {\n",
    "    \"radius\": target_radius,\n",
    "    \"keyword\": target_type,\n",
    "    \"key\": g_key\n",
    "}\n",
    "for index, row in hotel_df.iterrows():\n",
    "    lat=row['Lat']\n",
    "    lng=row['Lng']\n",
    "    params['location']=f'{lat},{lng}'\n",
    "\n",
    "    response=requests.get(base_url, params=params)\n",
    "    places_data=response.json()\n",
    "    try:\n",
    "        hotel_df.loc[index, 'Hotel Name']=places_data['results'][0]['name']\n",
    "        print(f\"hotel name for {row['City']} is {places_data['results'][0]['name']}\")\n",
    "        \n",
    "    except:\n",
    "        print(f\"Failed hotel lookup for {row['City']}\")\n",
    "  "
   ]
  },
  {
   "cell_type": "code",
   "execution_count": 13,
   "metadata": {},
   "outputs": [],
   "source": [
    "hotel_df.head()\n",
    "hotel_df=hotel_df.loc[hotel_df['Hotel Name']!='']\n"
   ]
  },
  {
   "cell_type": "code",
   "execution_count": 14,
   "metadata": {},
   "outputs": [
    {
     "data": {
      "text/html": [
       "<div>\n",
       "<style scoped>\n",
       "    .dataframe tbody tr th:only-of-type {\n",
       "        vertical-align: middle;\n",
       "    }\n",
       "\n",
       "    .dataframe tbody tr th {\n",
       "        vertical-align: top;\n",
       "    }\n",
       "\n",
       "    .dataframe thead th {\n",
       "        text-align: right;\n",
       "    }\n",
       "</style>\n",
       "<table border=\"1\" class=\"dataframe\">\n",
       "  <thead>\n",
       "    <tr style=\"text-align: right;\">\n",
       "      <th></th>\n",
       "      <th>City</th>\n",
       "      <th>Lat</th>\n",
       "      <th>Lng</th>\n",
       "      <th>Max Temp</th>\n",
       "      <th>Humidity</th>\n",
       "      <th>Cloudiness</th>\n",
       "      <th>Wind Speed</th>\n",
       "      <th>Country</th>\n",
       "      <th>Date</th>\n",
       "      <th>Hotel Name</th>\n",
       "    </tr>\n",
       "  </thead>\n",
       "  <tbody>\n",
       "    <tr>\n",
       "      <th>0</th>\n",
       "      <td>Jamestown</td>\n",
       "      <td>42.10</td>\n",
       "      <td>-79.24</td>\n",
       "      <td>77.00</td>\n",
       "      <td>65</td>\n",
       "      <td>1</td>\n",
       "      <td>5.82</td>\n",
       "      <td>US</td>\n",
       "      <td>1595810404</td>\n",
       "      <td>Chautauqua Harbor Hotel</td>\n",
       "    </tr>\n",
       "    <tr>\n",
       "      <th>2</th>\n",
       "      <td>Bijie</td>\n",
       "      <td>27.31</td>\n",
       "      <td>105.29</td>\n",
       "      <td>72.03</td>\n",
       "      <td>66</td>\n",
       "      <td>0</td>\n",
       "      <td>4.00</td>\n",
       "      <td>CN</td>\n",
       "      <td>1595810579</td>\n",
       "      <td>Four Points by Sheraton Bijie</td>\n",
       "    </tr>\n",
       "    <tr>\n",
       "      <th>3</th>\n",
       "      <td>Hobyo</td>\n",
       "      <td>5.35</td>\n",
       "      <td>48.53</td>\n",
       "      <td>77.38</td>\n",
       "      <td>75</td>\n",
       "      <td>3</td>\n",
       "      <td>18.39</td>\n",
       "      <td>SO</td>\n",
       "      <td>1595810580</td>\n",
       "      <td>Osmani Hotel</td>\n",
       "    </tr>\n",
       "    <tr>\n",
       "      <th>4</th>\n",
       "      <td>Vaini</td>\n",
       "      <td>-21.20</td>\n",
       "      <td>-175.20</td>\n",
       "      <td>75.20</td>\n",
       "      <td>78</td>\n",
       "      <td>75</td>\n",
       "      <td>10.29</td>\n",
       "      <td>TO</td>\n",
       "      <td>1595810524</td>\n",
       "      <td>Paradise First Hotel</td>\n",
       "    </tr>\n",
       "    <tr>\n",
       "      <th>5</th>\n",
       "      <td>Rikitea</td>\n",
       "      <td>-23.12</td>\n",
       "      <td>-134.97</td>\n",
       "      <td>70.32</td>\n",
       "      <td>79</td>\n",
       "      <td>0</td>\n",
       "      <td>19.89</td>\n",
       "      <td>PF</td>\n",
       "      <td>1595810583</td>\n",
       "      <td>Pension Bianca &amp; Benoit</td>\n",
       "    </tr>\n",
       "  </tbody>\n",
       "</table>\n",
       "</div>"
      ],
      "text/plain": [
       "        City    Lat     Lng  Max Temp  Humidity  Cloudiness  Wind Speed  \\\n",
       "0  Jamestown  42.10  -79.24     77.00        65           1        5.82   \n",
       "2      Bijie  27.31  105.29     72.03        66           0        4.00   \n",
       "3      Hobyo   5.35   48.53     77.38        75           3       18.39   \n",
       "4      Vaini -21.20 -175.20     75.20        78          75       10.29   \n",
       "5    Rikitea -23.12 -134.97     70.32        79           0       19.89   \n",
       "\n",
       "  Country        Date                     Hotel Name  \n",
       "0      US  1595810404        Chautauqua Harbor Hotel  \n",
       "2      CN  1595810579  Four Points by Sheraton Bijie  \n",
       "3      SO  1595810580                   Osmani Hotel  \n",
       "4      TO  1595810524           Paradise First Hotel  \n",
       "5      PF  1595810583        Pension Bianca & Benoit  "
      ]
     },
     "execution_count": 14,
     "metadata": {},
     "output_type": "execute_result"
    }
   ],
   "source": [
    "hotel_df.head()"
   ]
  },
  {
   "cell_type": "code",
   "execution_count": 15,
   "metadata": {},
   "outputs": [],
   "source": [
    "# NOTE: Do not change any of the code in this cell\n",
    "\n",
    "# Using the template add the hotel marks to the heatmap\n",
    "info_box_template = \"\"\"\n",
    "<dl>\n",
    "<dt>Name</dt><dd>{Hotel Name}</dd>\n",
    "<dt>City</dt><dd>{City}</dd>\n",
    "<dt>Country</dt><dd>{Country}</dd>\n",
    "</dl>\n",
    "\"\"\"\n",
    "# Store the DataFrame Row\n",
    "# NOTE: be sure to update with your DataFrame name\n",
    "hotel_info = [info_box_template.format(**row) for index, row in hotel_df.iterrows()]\n",
    "locations = hotel_df[[\"Lat\", \"Lng\"]]"
   ]
  },
  {
   "cell_type": "code",
   "execution_count": 16,
   "metadata": {},
   "outputs": [
    {
     "data": {
      "application/vnd.jupyter.widget-view+json": {
       "model_id": "0c4f5a7570cf44be8fc533b7e6b0249f",
       "version_major": 2,
       "version_minor": 0
      },
      "text/plain": [
       "Figure(layout=FigureLayout(height='420px'))"
      ]
     },
     "metadata": {},
     "output_type": "display_data"
    }
   ],
   "source": [
    "# Add marker layer ontop of heat map\n",
    "hotel_layer = gmaps.marker_layer(locations, info_box_content=hotel_info)\n",
    "\n",
    "fig=gmaps.figure()\n",
    "fig.add_layer(heat_layer)\n",
    "fig.add_layer(hotel_layer)\n",
    "\n",
    "# Display figure\n",
    "fig"
   ]
  },
  {
   "cell_type": "code",
   "execution_count": null,
   "metadata": {},
   "outputs": [],
   "source": []
  }
 ],
 "metadata": {
  "kernelspec": {
   "display_name": "Python 3",
   "language": "python",
   "name": "python3"
  },
  "language_info": {
   "codemirror_mode": {
    "name": "ipython",
    "version": 3
   },
   "file_extension": ".py",
   "mimetype": "text/x-python",
   "name": "python",
   "nbconvert_exporter": "python",
   "pygments_lexer": "ipython3",
   "version": "3.7.6"
  },
  "latex_envs": {
   "LaTeX_envs_menu_present": true,
   "autoclose": false,
   "autocomplete": true,
   "bibliofile": "biblio.bib",
   "cite_by": "apalike",
   "current_citInitial": 1,
   "eqLabelWithNumbers": true,
   "eqNumInitial": 1,
   "hotkeys": {
    "equation": "Ctrl-E",
    "itemize": "Ctrl-I"
   },
   "labels_anchors": false,
   "latex_user_defs": false,
   "report_style_numbering": false,
   "user_envs_cfg": false
  }
 },
 "nbformat": 4,
 "nbformat_minor": 2
}
