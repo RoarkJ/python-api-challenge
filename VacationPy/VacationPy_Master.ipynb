{
 "cells": [
  {
   "cell_type": "markdown",
   "metadata": {},
   "source": [
    "# VacationPy\n",
    "----\n",
    "\n",
    "#### Note\n",
    "* Instructions have been included for each segment. You do not have to follow them exactly, but they are included to help you think through the steps."
   ]
  },
  {
   "cell_type": "code",
   "execution_count": 1,
   "metadata": {},
   "outputs": [],
   "source": [
    "# Dependencies and Setup\n",
    "import matplotlib.pyplot as plt\n",
    "import pandas as pd\n",
    "import numpy as np\n",
    "import requests\n",
    "import gmaps\n",
    "import os\n",
    "\n",
    "# Import API key\n",
    "from api_keys import g_key"
   ]
  },
  {
   "cell_type": "markdown",
   "metadata": {},
   "source": [
    "### Store Part I results into DataFrame\n",
    "* Load the csv exported in Part I to a DataFrame"
   ]
  },
  {
   "cell_type": "code",
   "execution_count": 2,
   "metadata": {},
   "outputs": [
    {
     "data": {
      "text/html": [
       "<div>\n",
       "<style scoped>\n",
       "    .dataframe tbody tr th:only-of-type {\n",
       "        vertical-align: middle;\n",
       "    }\n",
       "\n",
       "    .dataframe tbody tr th {\n",
       "        vertical-align: top;\n",
       "    }\n",
       "\n",
       "    .dataframe thead th {\n",
       "        text-align: right;\n",
       "    }\n",
       "</style>\n",
       "<table border=\"1\" class=\"dataframe\">\n",
       "  <thead>\n",
       "    <tr style=\"text-align: right;\">\n",
       "      <th></th>\n",
       "      <th>City</th>\n",
       "      <th>Lat</th>\n",
       "      <th>Lng</th>\n",
       "      <th>Max Temp</th>\n",
       "      <th>Humidity</th>\n",
       "      <th>Cloudiness</th>\n",
       "      <th>Wind Speed</th>\n",
       "      <th>Country</th>\n",
       "      <th>Date</th>\n",
       "    </tr>\n",
       "  </thead>\n",
       "  <tbody>\n",
       "    <tr>\n",
       "      <th>0</th>\n",
       "      <td>Turan</td>\n",
       "      <td>16.07</td>\n",
       "      <td>108.22</td>\n",
       "      <td>93.20</td>\n",
       "      <td>52</td>\n",
       "      <td>40</td>\n",
       "      <td>8.05</td>\n",
       "      <td>VN</td>\n",
       "      <td>1596343972</td>\n",
       "    </tr>\n",
       "    <tr>\n",
       "      <th>1</th>\n",
       "      <td>Punta Arenas</td>\n",
       "      <td>-53.15</td>\n",
       "      <td>-70.92</td>\n",
       "      <td>35.60</td>\n",
       "      <td>93</td>\n",
       "      <td>100</td>\n",
       "      <td>14.99</td>\n",
       "      <td>CL</td>\n",
       "      <td>1596343889</td>\n",
       "    </tr>\n",
       "    <tr>\n",
       "      <th>2</th>\n",
       "      <td>Pangnirtung</td>\n",
       "      <td>66.15</td>\n",
       "      <td>-65.71</td>\n",
       "      <td>45.10</td>\n",
       "      <td>80</td>\n",
       "      <td>96</td>\n",
       "      <td>1.16</td>\n",
       "      <td>CA</td>\n",
       "      <td>1596343972</td>\n",
       "    </tr>\n",
       "    <tr>\n",
       "      <th>3</th>\n",
       "      <td>Ucluelet</td>\n",
       "      <td>48.93</td>\n",
       "      <td>-125.55</td>\n",
       "      <td>61.00</td>\n",
       "      <td>86</td>\n",
       "      <td>89</td>\n",
       "      <td>0.92</td>\n",
       "      <td>CA</td>\n",
       "      <td>1596343973</td>\n",
       "    </tr>\n",
       "    <tr>\n",
       "      <th>4</th>\n",
       "      <td>Port Macquarie</td>\n",
       "      <td>-31.43</td>\n",
       "      <td>152.92</td>\n",
       "      <td>69.01</td>\n",
       "      <td>64</td>\n",
       "      <td>0</td>\n",
       "      <td>1.01</td>\n",
       "      <td>AU</td>\n",
       "      <td>1596343973</td>\n",
       "    </tr>\n",
       "  </tbody>\n",
       "</table>\n",
       "</div>"
      ],
      "text/plain": [
       "             City    Lat     Lng  Max Temp  Humidity  Cloudiness  Wind Speed  \\\n",
       "0           Turan  16.07  108.22     93.20        52          40        8.05   \n",
       "1    Punta Arenas -53.15  -70.92     35.60        93         100       14.99   \n",
       "2     Pangnirtung  66.15  -65.71     45.10        80          96        1.16   \n",
       "3        Ucluelet  48.93 -125.55     61.00        86          89        0.92   \n",
       "4  Port Macquarie -31.43  152.92     69.01        64           0        1.01   \n",
       "\n",
       "  Country        Date  \n",
       "0      VN  1596343972  \n",
       "1      CL  1596343889  \n",
       "2      CA  1596343972  \n",
       "3      CA  1596343973  \n",
       "4      AU  1596343973  "
      ]
     },
     "execution_count": 2,
     "metadata": {},
     "output_type": "execute_result"
    }
   ],
   "source": [
    "vac_df=pd.read_csv('../output_data/weather_data.csv').drop('City_ID', axis=1)\n",
    "vac_df.head()"
   ]
  },
  {
   "cell_type": "code",
   "execution_count": 3,
   "metadata": {},
   "outputs": [
    {
     "data": {
      "text/plain": [
       "587"
      ]
     },
     "execution_count": 3,
     "metadata": {},
     "output_type": "execute_result"
    }
   ],
   "source": [
    "len(vac_df)"
   ]
  },
  {
   "cell_type": "markdown",
   "metadata": {},
   "source": [
    "### Humidity Heatmap\n",
    "* Configure gmaps.\n",
    "* Use the Lat and Lng as locations and Humidity as the weight.\n",
    "* Add Heatmap layer to map."
   ]
  },
  {
   "cell_type": "code",
   "execution_count": 7,
   "metadata": {},
   "outputs": [
    {
     "data": {
      "application/vnd.jupyter.widget-view+json": {
       "model_id": "ff91da81e3954fb0ab8f58861210a735",
       "version_major": 2,
       "version_minor": 0
      },
      "text/plain": [
       "Figure(layout=FigureLayout(height='420px'))"
      ]
     },
     "metadata": {},
     "output_type": "display_data"
    },
    {
     "data": {
      "text/plain": [
       "<Figure size 432x288 with 0 Axes>"
      ]
     },
     "metadata": {},
     "output_type": "display_data"
    }
   ],
   "source": [
    "gmaps.configure(api_key=g_key)\n",
    "locations = vac_df[['Lat', 'Lng']]\n",
    "humidity=vac_df['Humidity']\n",
    "fig=gmaps.figure()\n",
    "heat_layer=gmaps.heatmap_layer(locations, weights=humidity, dissipating=False, max_intensity=100, point_radius=4)\n",
    "fig.add_layer(heat_layer)\n",
    "plt.savefig('../output_data/heat_map.png')\n",
    "fig"
   ]
  },
  {
   "cell_type": "markdown",
   "metadata": {},
   "source": [
    "### Create new DataFrame fitting weather criteria\n",
    "* Narrow down the cities to fit weather conditions.\n",
    "* Drop any rows will null values."
   ]
  },
  {
   "cell_type": "code",
   "execution_count": 8,
   "metadata": {},
   "outputs": [
    {
     "data": {
      "text/plain": [
       "169"
      ]
     },
     "execution_count": 8,
     "metadata": {},
     "output_type": "execute_result"
    }
   ],
   "source": [
    "vac_drill_df=vac_df.loc[(vac_df['Max Temp']>70) & (vac_df['Max Temp']<80)]\n",
    "len(vac_drill_df)"
   ]
  },
  {
   "cell_type": "markdown",
   "metadata": {},
   "source": [
    "### Hotel Map\n",
    "* Store into variable named `hotel_df`.\n",
    "* Add a \"Hotel Name\" column to the DataFrame.\n",
    "* Set parameters to search for hotels with 5000 meters.\n",
    "* Hit the Google Places API for each city's coordinates.\n",
    "* Store the first Hotel result into the DataFrame.\n",
    "* Plot markers on top of the heatmap."
   ]
  },
  {
   "cell_type": "code",
   "execution_count": 9,
   "metadata": {},
   "outputs": [],
   "source": [
    "hotel_df=vac_drill_df.copy()\n",
    "hotel_df['Hotel Name'] = \"\"\n",
    "len(hotel_df)\n",
    "hotel_df=hotel_df.reset_index()\n",
    "hotel_df=hotel_df.drop('index', axis=1)"
   ]
  },
  {
   "cell_type": "code",
   "execution_count": 10,
   "metadata": {},
   "outputs": [
    {
     "name": "stdout",
     "output_type": "stream",
     "text": [
      "Failed hotel lookup for Albany\n",
      "hotel name for Lüderitz is LÜDERITZ NEST HOTEL\n",
      "hotel name for Mogadishu is Dolphin Hotel\n",
      "hotel name for Laguna is Hilton Garden Inn Sacramento Elk Grove\n",
      "hotel name for Yulara is Sails in the Desert\n",
      "hotel name for Talnakh is Talnakh Hotel\n",
      "hotel name for Vaini is Paradise First Hotel\n",
      "hotel name for Rikitea is Pension Bianca & Benoit\n",
      "Failed hotel lookup for Sokolo\n",
      "hotel name for Onda is Motel Shhh\n",
      "hotel name for Yellowknife is The Explorer Hotel\n",
      "hotel name for Emerald is Emerald Star Hotel\n",
      "hotel name for Iquitos is DoubleTree by Hilton Iquitos\n",
      "hotel name for Turukhansk is ООО \"Туруханская пушнина\"\n",
      "hotel name for Diffa is Complexe Hôtelier Du 18 Décembre\n",
      "Failed hotel lookup for Svetlaya\n",
      "hotel name for Khartoum is Jori Vil Hotel\n",
      "hotel name for Nacala is Nacala Plaza Business Design Hotel\n",
      "hotel name for Hamilton is Hampton Inn & Suites Cincinnati/Uptown-University Area\n",
      "hotel name for Saskylakh is Saskylakh Aeroport\n",
      "Failed hotel lookup for Airai\n",
      "Failed hotel lookup for Oussouye\n",
      "hotel name for Plettenberg Bay is Sky Villa Boutique Hotel\n",
      "hotel name for Santa Lucía is Finca Tomas y Puri.\n",
      "hotel name for Nicoya is Hotel El Regalo\n",
      "hotel name for São José da Coroa Grande is Perobavilla Hotel\n",
      "hotel name for Esim is Ankobra Beach\n",
      "Failed hotel lookup for Yakima\n",
      "hotel name for Coahuayana Viejo is Hotel Aeropuerto\n",
      "Failed hotel lookup for Béoumi\n",
      "hotel name for Aleysk is Bell Hotel\n",
      "hotel name for Mouila is Mbengui Hôtel\n",
      "Failed hotel lookup for Madimba\n",
      "Failed hotel lookup for Bakchar\n",
      "hotel name for Pangai is Ha'apai Beach Resort\n",
      "hotel name for Alofi is Taloa Heights\n",
      "hotel name for Ishinomaki is Ishinomaki Grand Hotel\n",
      "hotel name for Ribeira Grande is Quinta Das Buganvílias\n",
      "hotel name for Ruteng is Hobbit Hill Homestay\n",
      "hotel name for Dawei is The Mandolis Hotel and Restaurant\n",
      "hotel name for Harper is Grands' Guesthouse\n",
      "Failed hotel lookup for Sacramento\n",
      "hotel name for Touros is Pousada Cores e Formas\n",
      "hotel name for Changuinola is Hotel plaza changuinola\n",
      "hotel name for Pitimbu is Pousada Beira Mar Pitimbu Paraíba\n",
      "hotel name for Adeje is Gran Hotel Bahía del Duque Resort\n",
      "hotel name for Terra Santa is Clássico Hotel\n",
      "hotel name for Batagay is Sberbank Rossii\n",
      "hotel name for Bambous Virieux is Laguna Beach Hotel & Spa\n",
      "hotel name for Ol'ga is Gostinitsa\n",
      "hotel name for Cuiabá is Delmond Hotel\n",
      "hotel name for Santa Isabel Rio Negro is Hotel Ayuana\n",
      "hotel name for Jumla is Shrestha Hotel\n",
      "hotel name for Norman Wells is Heritage Hotel\n",
      "hotel name for Atuona is Hôtel Hiva Oa Hanakee Lodge\n",
      "hotel name for Samarai is Nuli Sapi\n",
      "hotel name for Kismayo is Fadlulah Hotel\n",
      "Failed hotel lookup for Aloleng\n",
      "hotel name for Alice Springs is DoubleTree by Hilton Hotel Alice Springs\n",
      "Failed hotel lookup for Freeport\n",
      "hotel name for Lagoa is Graciosa Resort - Biosphere Island Hotel\n",
      "hotel name for Rota is Hotel Playa de la Luz\n",
      "hotel name for Jaguaribe is Hotel Pinheiro\n",
      "Failed hotel lookup for Awjilah\n",
      "hotel name for Cayenne is Grand Hotel Montabo\n",
      "hotel name for Itarema is Vila Ybytu Eco Resort\n",
      "hotel name for Los Llanos de Aridane is Hotel Hacienda de Abajo\n",
      "hotel name for Beba is Hotel La Cañada\n",
      "Failed hotel lookup for Mattawa\n",
      "hotel name for Arrondissement de Bastia is Hôtel Dolce Notte\n",
      "Failed hotel lookup for Umm Kaddadah\n",
      "hotel name for Buchanan is Elizabeth Resort\n",
      "Failed hotel lookup for Guasdualito\n",
      "hotel name for Ukiah is Hampton Inn Ukiah\n",
      "hotel name for Mizdah is فندق مزدة الكبير\n",
      "Failed hotel lookup for Poum\n",
      "hotel name for Dzaoudzi is Hotel Maharajah Mayotte\n",
      "hotel name for Salò is Hotel BellaRiva\n",
      "hotel name for Ajdabiya is Almadina Hotel\n",
      "Failed hotel lookup for Abu Samrah\n",
      "hotel name for Villa Bruzual is Hotel Las Vegas\n",
      "hotel name for Nouadhibou is Free Zone Hotel Nouadhibou\n",
      "hotel name for Bethel is Courtyard by Marriott Danbury\n",
      "hotel name for Choix is Huites Hotel\n",
      "Failed hotel lookup for Villa Juárez\n",
      "hotel name for Iracoubo is Le Gite D Iracoubo\n",
      "Failed hotel lookup for Amapá\n",
      "Failed hotel lookup for Tautira\n",
      "hotel name for Santarém is Hotel Palace Santarém\n",
      "hotel name for Strezhevoy is Гостиница \"Турист\"\n",
      "hotel name for Hachinohe is Dormy Inn Honhachinohe\n",
      "hotel name for Chernyshevskiy is Sberbank Rossii\n",
      "Failed hotel lookup for Ban Nahin\n",
      "hotel name for Erenhot is Moli International Hotel\n",
      "hotel name for Ponta do Sol is Estalagem Da Ponta Do Sol\n",
      "hotel name for Pontes e Lacerda is Hotel Bressan\n",
      "Failed hotel lookup for Luba\n",
      "hotel name for Yeppoon is Salt Yeppoon\n",
      "hotel name for La Orilla is Hotel de Casablanca\n",
      "hotel name for Pimenta Bueno is Hotel Kanaan\n",
      "hotel name for Clyde is Red Roof Inn Clyde\n",
      "hotel name for Isangel is Quarumanu area\n",
      "hotel name for Victoria Point is Azure Guest House\n",
      "hotel name for Antalaha is Villa-Malaza\n",
      "hotel name for Kapoeta is Hotel Keleu\n",
      "hotel name for Antsohihy is Hôtel le Paradisier\n",
      "Failed hotel lookup for Porto-Novo\n",
      "hotel name for Suntar is Gostevoy Dom\n",
      "hotel name for Guane is Casa Hospedaje\n",
      "hotel name for São Filipe is Hotel Santos Pina\n",
      "hotel name for Quatre Cocos is The Residence Mauritius\n",
      "hotel name for Gatton is The Royal Hotel\n",
      "hotel name for Aného is La Côte du Soleil\n",
      "hotel name for Passagem Franca is Hotel Pousada Recanto do Sol\n",
      "hotel name for Hervey Bay is Oaks Hervey Bay Resort and Spa\n",
      "hotel name for Faanui is InterContinental Bora Bora Resort Thalasso Spa\n",
      "Failed hotel lookup for Udachny\n",
      "hotel name for Verchères is Au Doc Motel\n",
      "hotel name for Pocrí is Hotel La Central\n",
      "Failed hotel lookup for Marzuq\n",
      "hotel name for Otukpo is Sunrise Hotel Otukpo\n",
      "hotel name for San-Pédro is Hôtel Nahoui\n",
      "Failed hotel lookup for Alekseyevsk\n",
      "hotel name for Olinda is Hotel 7 Colinas\n",
      "hotel name for Lat Yao is Holiday Hotel\n",
      "hotel name for Itaituba is Central Plaza Hotel\n",
      "Failed hotel lookup for Panguna\n",
      "hotel name for Noumea is Hilton Noumea La Promenade Residences\n",
      "hotel name for Dhārchula is Himtop Hotel Dharchula\n",
      "hotel name for Saint-Raymond is Hotel Bonaventure Montréal\n",
      "hotel name for Porto Walter is Hotel das Irmãs.\n",
      "hotel name for Gallup is El Rancho Hotel\n",
      "hotel name for La Asuncion is Villa La Blanquilla\n",
      "hotel name for Cabedelo is Formosa Apart Hotel\n",
      "hotel name for Ballina is Ramada Hotel & Suites by Wyndham Ballina Byron\n",
      "hotel name for Srostki is Kalina Krasnaya\n",
      "Failed hotel lookup for Sola\n",
      "hotel name for High Level is Best Western Plus Mirage Hotel & Resort\n",
      "hotel name for Huntington is DoubleTree by Hilton Huntington\n",
      "hotel name for Pouembout is Eden Appartel Koné\n",
      "hotel name for Virginia Beach is Oceanaire Resort Hotel\n",
      "hotel name for Banikoara is HOTEL NANSOUNON\n",
      "hotel name for Anloga is Bulls and Anchor Inn\n",
      "hotel name for Amahai is Hotel isabella\n",
      "hotel name for Khandyga is Prezidentskaya Gostinitsa\n",
      "hotel name for Eirunepé is Aquariu's Hotel\n",
      "hotel name for Carutapera is HOTEL R. SOARES\n",
      "hotel name for Tabriz is Behboud Hotel\n",
      "Failed hotel lookup for Namtsy\n",
      "Failed hotel lookup for Savanūr\n",
      "hotel name for União is Hotel Municipal\n",
      "Failed hotel lookup for Kampene\n",
      "hotel name for Altay is Altay Regional Tourist Hotel\n",
      "Failed hotel lookup for Ulety\n",
      "hotel name for Boa Vista is Boa Vista Eco Hotel\n",
      "hotel name for Nabire is Hotel Grand Papua Nabire\n",
      "hotel name for Tual is Grand Vilia Hotel\n",
      "hotel name for Portland is The Benson, a Coast Hotel\n",
      "hotel name for Utete is Kindwitwi guesthouse\n",
      "hotel name for Les Cayes is Villa Orphee\n",
      "hotel name for Guerrero Negro is Hotel Los Caracoles\n",
      "hotel name for Kysyl-Syr is Sberbank Rossii\n",
      "hotel name for Mitsamiouli is Moina Lisa\n",
      "hotel name for Akhtanizovskaya is Tizdar pension\n",
      "Failed hotel lookup for Moindou\n",
      "hotel name for Bojnourd is Hotel negin\n",
      "hotel name for Mount Isa is Abacus Motel\n",
      "hotel name for Ishigaki is Fusaki Beach Resort Hotel & Villas\n",
      "hotel name for Tegul'det is Gostinitsa Kedr\n"
     ]
    }
   ],
   "source": [
    "base_url = \"https://maps.googleapis.com/maps/api/place/nearbysearch/json\"\n",
    "\n",
    "target_radius = 5000\n",
    "target_type = \"hotel\"\n",
    "# set up a parameters dictionary\n",
    "params = {\n",
    "    \"radius\": target_radius,\n",
    "    \"keyword\": target_type,\n",
    "    \"key\": g_key\n",
    "}\n",
    "for index, row in hotel_df.iterrows():\n",
    "    lat=row['Lat']\n",
    "    lng=row['Lng']\n",
    "    params['location']=f'{lat},{lng}'\n",
    "\n",
    "    response=requests.get(base_url, params=params)\n",
    "    places_data=response.json()\n",
    "    try:\n",
    "        hotel_df.loc[index, 'Hotel Name']=places_data['results'][0]['name']\n",
    "        print(f\"hotel name for {row['City']} is {places_data['results'][0]['name']}\")\n",
    "        \n",
    "    except:\n",
    "        print(f\"Failed hotel lookup for {row['City']}\")\n",
    "  "
   ]
  },
  {
   "cell_type": "code",
   "execution_count": 11,
   "metadata": {},
   "outputs": [],
   "source": [
    "hotel_df.head()\n",
    "hotel_df=hotel_df.loc[hotel_df['Hotel Name']!='']\n"
   ]
  },
  {
   "cell_type": "code",
   "execution_count": 12,
   "metadata": {},
   "outputs": [
    {
     "data": {
      "text/html": [
       "<div>\n",
       "<style scoped>\n",
       "    .dataframe tbody tr th:only-of-type {\n",
       "        vertical-align: middle;\n",
       "    }\n",
       "\n",
       "    .dataframe tbody tr th {\n",
       "        vertical-align: top;\n",
       "    }\n",
       "\n",
       "    .dataframe thead th {\n",
       "        text-align: right;\n",
       "    }\n",
       "</style>\n",
       "<table border=\"1\" class=\"dataframe\">\n",
       "  <thead>\n",
       "    <tr style=\"text-align: right;\">\n",
       "      <th></th>\n",
       "      <th>City</th>\n",
       "      <th>Lat</th>\n",
       "      <th>Lng</th>\n",
       "      <th>Max Temp</th>\n",
       "      <th>Humidity</th>\n",
       "      <th>Cloudiness</th>\n",
       "      <th>Wind Speed</th>\n",
       "      <th>Country</th>\n",
       "      <th>Date</th>\n",
       "      <th>Hotel Name</th>\n",
       "    </tr>\n",
       "  </thead>\n",
       "  <tbody>\n",
       "    <tr>\n",
       "      <th>1</th>\n",
       "      <td>Lüderitz</td>\n",
       "      <td>-26.65</td>\n",
       "      <td>15.16</td>\n",
       "      <td>71.6</td>\n",
       "      <td>18</td>\n",
       "      <td>0</td>\n",
       "      <td>9.17</td>\n",
       "      <td>NaN</td>\n",
       "      <td>1596343974</td>\n",
       "      <td>LÜDERITZ NEST HOTEL</td>\n",
       "    </tr>\n",
       "    <tr>\n",
       "      <th>2</th>\n",
       "      <td>Mogadishu</td>\n",
       "      <td>2.04</td>\n",
       "      <td>45.34</td>\n",
       "      <td>75.2</td>\n",
       "      <td>69</td>\n",
       "      <td>20</td>\n",
       "      <td>17.22</td>\n",
       "      <td>SO</td>\n",
       "      <td>1596343707</td>\n",
       "      <td>Dolphin Hotel</td>\n",
       "    </tr>\n",
       "    <tr>\n",
       "      <th>3</th>\n",
       "      <td>Laguna</td>\n",
       "      <td>38.42</td>\n",
       "      <td>-121.42</td>\n",
       "      <td>78.8</td>\n",
       "      <td>39</td>\n",
       "      <td>1</td>\n",
       "      <td>4.70</td>\n",
       "      <td>US</td>\n",
       "      <td>1596343975</td>\n",
       "      <td>Hilton Garden Inn Sacramento Elk Grove</td>\n",
       "    </tr>\n",
       "    <tr>\n",
       "      <th>4</th>\n",
       "      <td>Yulara</td>\n",
       "      <td>-25.24</td>\n",
       "      <td>130.99</td>\n",
       "      <td>75.2</td>\n",
       "      <td>8</td>\n",
       "      <td>0</td>\n",
       "      <td>8.05</td>\n",
       "      <td>AU</td>\n",
       "      <td>1596343977</td>\n",
       "      <td>Sails in the Desert</td>\n",
       "    </tr>\n",
       "    <tr>\n",
       "      <th>5</th>\n",
       "      <td>Talnakh</td>\n",
       "      <td>69.49</td>\n",
       "      <td>88.40</td>\n",
       "      <td>71.6</td>\n",
       "      <td>40</td>\n",
       "      <td>84</td>\n",
       "      <td>15.66</td>\n",
       "      <td>RU</td>\n",
       "      <td>1596343977</td>\n",
       "      <td>Talnakh Hotel</td>\n",
       "    </tr>\n",
       "  </tbody>\n",
       "</table>\n",
       "</div>"
      ],
      "text/plain": [
       "        City    Lat     Lng  Max Temp  Humidity  Cloudiness  Wind Speed  \\\n",
       "1   Lüderitz -26.65   15.16      71.6        18           0        9.17   \n",
       "2  Mogadishu   2.04   45.34      75.2        69          20       17.22   \n",
       "3     Laguna  38.42 -121.42      78.8        39           1        4.70   \n",
       "4     Yulara -25.24  130.99      75.2         8           0        8.05   \n",
       "5    Talnakh  69.49   88.40      71.6        40          84       15.66   \n",
       "\n",
       "  Country        Date                              Hotel Name  \n",
       "1     NaN  1596343974                     LÜDERITZ NEST HOTEL  \n",
       "2      SO  1596343707                           Dolphin Hotel  \n",
       "3      US  1596343975  Hilton Garden Inn Sacramento Elk Grove  \n",
       "4      AU  1596343977                     Sails in the Desert  \n",
       "5      RU  1596343977                           Talnakh Hotel  "
      ]
     },
     "execution_count": 12,
     "metadata": {},
     "output_type": "execute_result"
    }
   ],
   "source": [
    "hotel_df.head()"
   ]
  },
  {
   "cell_type": "code",
   "execution_count": 13,
   "metadata": {},
   "outputs": [],
   "source": [
    "# NOTE: Do not change any of the code in this cell\n",
    "\n",
    "# Using the template add the hotel marks to the heatmap\n",
    "info_box_template = \"\"\"\n",
    "<dl>\n",
    "<dt>Name</dt><dd>{Hotel Name}</dd>\n",
    "<dt>City</dt><dd>{City}</dd>\n",
    "<dt>Country</dt><dd>{Country}</dd>\n",
    "</dl>\n",
    "\"\"\"\n",
    "# Store the DataFrame Row\n",
    "# NOTE: be sure to update with your DataFrame name\n",
    "hotel_info = [info_box_template.format(**row) for index, row in hotel_df.iterrows()]\n",
    "locations = hotel_df[[\"Lat\", \"Lng\"]]"
   ]
  },
  {
   "cell_type": "code",
   "execution_count": 14,
   "metadata": {},
   "outputs": [
    {
     "data": {
      "application/vnd.jupyter.widget-view+json": {
       "model_id": "96b90062749349a28d3db0ec8993b4cf",
       "version_major": 2,
       "version_minor": 0
      },
      "text/plain": [
       "Figure(layout=FigureLayout(height='420px'))"
      ]
     },
     "metadata": {},
     "output_type": "display_data"
    }
   ],
   "source": [
    "# Add marker layer ontop of heat map\n",
    "hotel_layer = gmaps.marker_layer(locations, info_box_content=hotel_info)\n",
    "\n",
    "fig=gmaps.figure()\n",
    "fig.add_layer(heat_layer)\n",
    "fig.add_layer(hotel_layer)\n",
    "\n",
    "# Display figure\n",
    "fig"
   ]
  },
  {
   "cell_type": "code",
   "execution_count": null,
   "metadata": {},
   "outputs": [],
   "source": []
  }
 ],
 "metadata": {
  "kernelspec": {
   "display_name": "Python 3",
   "language": "python",
   "name": "python3"
  },
  "language_info": {
   "codemirror_mode": {
    "name": "ipython",
    "version": 3
   },
   "file_extension": ".py",
   "mimetype": "text/x-python",
   "name": "python",
   "nbconvert_exporter": "python",
   "pygments_lexer": "ipython3",
   "version": "3.7.6"
  },
  "latex_envs": {
   "LaTeX_envs_menu_present": true,
   "autoclose": false,
   "autocomplete": true,
   "bibliofile": "biblio.bib",
   "cite_by": "apalike",
   "current_citInitial": 1,
   "eqLabelWithNumbers": true,
   "eqNumInitial": 1,
   "hotkeys": {
    "equation": "Ctrl-E",
    "itemize": "Ctrl-I"
   },
   "labels_anchors": false,
   "latex_user_defs": false,
   "report_style_numbering": false,
   "user_envs_cfg": false
  }
 },
 "nbformat": 4,
 "nbformat_minor": 2
}
