{
 "cells": [
  {
   "cell_type": "markdown",
   "metadata": {},
   "source": [
    "# WeatherPy\n",
    "----\n",
    "\n",
    "#### Note\n",
    "* Instructions have been included for each segment. You do not have to follow them exactly, but they are included to help you think through the steps."
   ]
  },
  {
   "cell_type": "code",
   "execution_count": 3,
   "metadata": {
    "scrolled": true
   },
   "outputs": [],
   "source": [
    "# Dependencies and Setup\n",
    "import matplotlib.pyplot as plt\n",
    "import pandas as pd\n",
    "import numpy as np\n",
    "import requests\n",
    "import time\n",
    "from scipy.stats import linregress\n",
    "\n",
    "# Import API key\n",
    "from api_keys import weather_api_key\n",
    "\n",
    "# Incorporated citipy to determine city based on latitude and longitude\n",
    "from citipy import citipy\n",
    "\n",
    "# Save config information\n",
    "url = \"http://api.openweathermap.org/data/2.5/weather?\"\n",
    "units='imperial'\n",
    "\n",
    "# Output File (CSV)\n",
    "output_data_file = \"output_data/cities.csv\"\n",
    "\n",
    "# Range of latitudes and longitudes\n",
    "lat_range = (-90, 90)\n",
    "lng_range = (-180, 180)"
   ]
  },
  {
   "cell_type": "markdown",
   "metadata": {},
   "source": [
    "## Generate Cities List"
   ]
  },
  {
   "cell_type": "code",
   "execution_count": 4,
   "metadata": {},
   "outputs": [
    {
     "data": {
      "text/plain": [
       "632"
      ]
     },
     "execution_count": 4,
     "metadata": {},
     "output_type": "execute_result"
    }
   ],
   "source": [
    "# List for holding lat_lngs and cities\n",
    "lat_lngs = []\n",
    "cities = []\n",
    "\n",
    "# Create a set of random lat and lng combinations\n",
    "lats = np.random.uniform(lat_range[0], lat_range[1], size=1500)\n",
    "lngs = np.random.uniform(lng_range[0], lng_range[1], size=1500)\n",
    "lat_lngs = zip(lats, lngs)\n",
    "\n",
    "\n",
    "# Identify nearest city for each lat, lng combination\n",
    "for lat_lng in lat_lngs:\n",
    "    city = citipy.nearest_city(lat_lng[0], lat_lng[1]).city_name\n",
    "    \n",
    "#     If the city is unique, then add it to a our cities list\n",
    "    if city not in cities:\n",
    "        cities.append(city)\n",
    "\n",
    "# Print the city count to confirm sufficient count\n",
    "len(cities)"
   ]
  },
  {
   "cell_type": "markdown",
   "metadata": {},
   "source": [
    "### Perform API Calls\n",
    "* Perform a weather check on each city using a series of successive API calls.\n",
    "* Include a print log of each city as it'sbeing processed (with the city number and city name).\n"
   ]
  },
  {
   "cell_type": "code",
   "execution_count": 5,
   "metadata": {},
   "outputs": [
    {
     "name": "stdout",
     "output_type": "stream",
     "text": [
      "Beginning Data Retrieval\n",
      "-----------------------------\n",
      "Processing Record 1 of Set 1 | ushuaia\n",
      "Processing Record 2 of Set 1 | saskylakh\n",
      "Processing Record 3 of Set 1 | jamestown\n",
      "Processing Record 4 of Set 1 | luderitz\n",
      "Processing Record 5 of Set 1 | mpulungu\n",
      "Processing Record 6 of Set 1 | kaitangata\n",
      "Processing Record 7 of Set 1 | atuona\n",
      "Processing Record 8 of Set 1 | kayiry\n",
      "Processing Record 9 of Set 1 | ponta do sol\n",
      "Processing Record 10 of Set 1 | bijie\n",
      "Processing Record 11 of Set 1 | cherskiy\n",
      "Processing Record 12 of Set 1 | kapaa\n",
      "Processing Record 13 of Set 1 | qandala\n",
      "Processing Record 14 of Set 1 | hobyo\n",
      "Processing Record 15 of Set 1 | tuatapere\n",
      "City not found. Skipping...\n",
      "Processing Record 17 of Set 1 | hermanus\n",
      "Processing Record 18 of Set 1 | hualmay\n",
      "Processing Record 19 of Set 1 | carnarvon\n",
      "Processing Record 20 of Set 1 | mataura\n",
      "Processing Record 21 of Set 1 | tiarei\n",
      "Processing Record 22 of Set 1 | vaini\n",
      "Processing Record 23 of Set 1 | ust-kuyga\n",
      "Processing Record 24 of Set 1 | lebu\n",
      "Processing Record 25 of Set 1 | narsaq\n",
      "Processing Record 26 of Set 1 | punta arenas\n",
      "Processing Record 27 of Set 1 | busselton\n",
      "Processing Record 28 of Set 1 | rikitea\n",
      "Processing Record 29 of Set 1 | bengkulu\n",
      "Processing Record 30 of Set 1 | sao filipe\n",
      "Processing Record 31 of Set 1 | east london\n",
      "Processing Record 32 of Set 1 | hobart\n",
      "Processing Record 33 of Set 1 | dongying\n",
      "Processing Record 34 of Set 1 | port alfred\n",
      "Processing Record 35 of Set 1 | barrow\n",
      "Processing Record 36 of Set 1 | bambous virieux\n",
      "Processing Record 37 of Set 1 | khatanga\n",
      "Processing Record 38 of Set 1 | fortuna\n",
      "Processing Record 39 of Set 1 | paamiut\n",
      "Processing Record 40 of Set 1 | tiksi\n",
      "Processing Record 41 of Set 1 | eureka\n",
      "Processing Record 42 of Set 1 | alappuzha\n",
      "Processing Record 43 of Set 1 | iqaluit\n",
      "Processing Record 44 of Set 1 | college\n",
      "Processing Record 45 of Set 1 | tasiilaq\n",
      "Processing Record 46 of Set 1 | lom sak\n",
      "Processing Record 47 of Set 1 | yeppoon\n",
      "Processing Record 48 of Set 1 | nikolskoye\n",
      "Processing Record 49 of Set 1 | guerrero negro\n",
      "Processing Record 50 of Set 1 | umm kaddadah\n",
      "Processing Record 1 of Set 2 | chebenki\n",
      "Processing Record 2 of Set 2 | douentza\n",
      "City not found. Skipping...\n",
      "Processing Record 4 of Set 2 | coahuayana\n",
      "Processing Record 5 of Set 2 | vardo\n",
      "Processing Record 6 of Set 2 | dikson\n",
      "Processing Record 7 of Set 2 | victoria\n",
      "Processing Record 8 of Set 2 | bindura\n",
      "Processing Record 9 of Set 2 | longyearbyen\n",
      "Processing Record 10 of Set 2 | hamilton\n",
      "Processing Record 11 of Set 2 | namatanai\n",
      "Processing Record 12 of Set 2 | palauig\n",
      "Processing Record 13 of Set 2 | butaritari\n",
      "Processing Record 14 of Set 2 | cabo san lucas\n",
      "Processing Record 15 of Set 2 | shimoda\n",
      "Processing Record 16 of Set 2 | saint-georges\n",
      "City not found. Skipping...\n",
      "Processing Record 18 of Set 2 | coihaique\n",
      "Processing Record 19 of Set 2 | clovis\n",
      "Processing Record 20 of Set 2 | hilo\n",
      "Processing Record 21 of Set 2 | muroto\n",
      "Processing Record 22 of Set 2 | batemans bay\n",
      "Processing Record 23 of Set 2 | northam\n",
      "Processing Record 24 of Set 2 | boyuibe\n",
      "Processing Record 25 of Set 2 | teguldet\n",
      "Processing Record 26 of Set 2 | ronne\n",
      "Processing Record 27 of Set 2 | port lincoln\n",
      "Processing Record 28 of Set 2 | komsomolskiy\n",
      "Processing Record 29 of Set 2 | bluff\n",
      "Processing Record 30 of Set 2 | pozega\n",
      "Processing Record 31 of Set 2 | sotnikovo\n",
      "City not found. Skipping...\n",
      "Processing Record 33 of Set 2 | sinnamary\n",
      "Processing Record 34 of Set 2 | olafsvik\n",
      "Processing Record 35 of Set 2 | viedma\n",
      "Processing Record 36 of Set 2 | kogon\n",
      "Processing Record 37 of Set 2 | leningradskiy\n",
      "Processing Record 38 of Set 2 | geraldton\n",
      "Processing Record 39 of Set 2 | qaanaaq\n",
      "Processing Record 40 of Set 2 | faya\n",
      "Processing Record 41 of Set 2 | impfondo\n",
      "City not found. Skipping...\n",
      "Processing Record 43 of Set 2 | hohhot\n",
      "Processing Record 44 of Set 2 | sovetskiy\n",
      "Processing Record 45 of Set 2 | albany\n",
      "Processing Record 46 of Set 2 | korla\n",
      "Processing Record 47 of Set 2 | lethem\n",
      "Processing Record 48 of Set 2 | matara\n",
      "Processing Record 49 of Set 2 | kozhva\n",
      "Processing Record 50 of Set 2 | pevek\n",
      "Processing Record 1 of Set 3 | gizo\n",
      "Processing Record 2 of Set 3 | port blair\n",
      "City not found. Skipping...\n",
      "Processing Record 4 of Set 3 | sisimiut\n",
      "Processing Record 5 of Set 3 | saint-philippe\n",
      "Processing Record 6 of Set 3 | qorveh\n",
      "Processing Record 7 of Set 3 | lingao\n",
      "City not found. Skipping...\n",
      "Processing Record 9 of Set 3 | shahreza\n",
      "Processing Record 10 of Set 3 | acarau\n",
      "Processing Record 11 of Set 3 | houston\n",
      "Processing Record 12 of Set 3 | silver city\n",
      "City not found. Skipping...\n",
      "Processing Record 14 of Set 3 | godhra\n",
      "Processing Record 15 of Set 3 | avarua\n",
      "Processing Record 16 of Set 3 | quelimane\n",
      "City not found. Skipping...\n",
      "Processing Record 18 of Set 3 | cape town\n",
      "Processing Record 19 of Set 3 | brownsville\n",
      "City not found. Skipping...\n",
      "Processing Record 21 of Set 3 | kalabo\n",
      "Processing Record 22 of Set 3 | manavalakurichi\n",
      "Processing Record 23 of Set 3 | dossor\n",
      "Processing Record 24 of Set 3 | daru\n",
      "City not found. Skipping...\n",
      "Processing Record 26 of Set 3 | ilulissat\n",
      "Processing Record 27 of Set 3 | new norfolk\n",
      "Processing Record 28 of Set 3 | yerbogachen\n",
      "Processing Record 29 of Set 3 | ahipara\n",
      "Processing Record 30 of Set 3 | kahului\n",
      "Processing Record 31 of Set 3 | nynashamn\n",
      "City not found. Skipping...\n",
      "Processing Record 33 of Set 3 | buala\n",
      "Processing Record 34 of Set 3 | necochea\n",
      "Processing Record 35 of Set 3 | tuktoyaktuk\n",
      "Processing Record 36 of Set 3 | phanom sarakham\n",
      "Processing Record 37 of Set 3 | minggang\n",
      "Processing Record 38 of Set 3 | tessalit\n",
      "Processing Record 39 of Set 3 | cidreira\n",
      "Processing Record 40 of Set 3 | wurzen\n",
      "Processing Record 41 of Set 3 | santa cruz\n",
      "City not found. Skipping...\n",
      "Processing Record 43 of Set 3 | vigrestad\n",
      "Processing Record 44 of Set 3 | port elizabeth\n",
      "Processing Record 45 of Set 3 | egvekinot\n",
      "Processing Record 46 of Set 3 | adrar\n",
      "Processing Record 47 of Set 3 | shingu\n",
      "Processing Record 48 of Set 3 | kokkola\n",
      "Processing Record 49 of Set 3 | xambioa\n",
      "Processing Record 50 of Set 3 | trinidad\n",
      "Processing Record 1 of Set 4 | arraial do cabo\n",
      "Processing Record 2 of Set 4 | margate\n",
      "Processing Record 3 of Set 4 | rey bouba\n",
      "City not found. Skipping...\n",
      "Processing Record 5 of Set 4 | wicklow\n",
      "Processing Record 6 of Set 4 | el cope\n",
      "Processing Record 7 of Set 4 | wau\n",
      "Processing Record 8 of Set 4 | ahuimanu\n",
      "Processing Record 9 of Set 4 | saldanha\n",
      "City not found. Skipping...\n",
      "Processing Record 11 of Set 4 | acapulco\n",
      "Processing Record 12 of Set 4 | faanui\n",
      "Processing Record 13 of Set 4 | bludenz\n",
      "Processing Record 14 of Set 4 | bethel\n",
      "Processing Record 15 of Set 4 | popova\n",
      "Processing Record 16 of Set 4 | santiago del estero\n",
      "Processing Record 17 of Set 4 | castro\n",
      "Processing Record 18 of Set 4 | tautira\n",
      "Processing Record 19 of Set 4 | clyde river\n",
      "Processing Record 20 of Set 4 | kirakira\n",
      "Processing Record 21 of Set 4 | wegrow\n",
      "Processing Record 22 of Set 4 | esperance\n",
      "Processing Record 23 of Set 4 | brae\n",
      "Processing Record 24 of Set 4 | mar del plata\n",
      "Processing Record 25 of Set 4 | upernavik\n",
      "Processing Record 26 of Set 4 | kaeo\n",
      "Processing Record 27 of Set 4 | bredasdorp\n",
      "Processing Record 28 of Set 4 | deputatskiy\n",
      "Processing Record 29 of Set 4 | ballina\n",
      "Processing Record 30 of Set 4 | kitimat\n",
      "Processing Record 31 of Set 4 | bairiki\n",
      "Processing Record 32 of Set 4 | yulara\n",
      "Processing Record 33 of Set 4 | mahebourg\n",
      "City not found. Skipping...\n",
      "Processing Record 35 of Set 4 | rio grande\n",
      "Processing Record 36 of Set 4 | emba\n",
      "Processing Record 37 of Set 4 | casablanca\n",
      "Processing Record 38 of Set 4 | provideniya\n",
      "Processing Record 39 of Set 4 | kodiak\n",
      "Processing Record 40 of Set 4 | balkhash\n",
      "Processing Record 41 of Set 4 | saint george\n",
      "City not found. Skipping...\n",
      "Processing Record 43 of Set 4 | riyadh\n",
      "City not found. Skipping...\n",
      "City not found. Skipping...\n",
      "Processing Record 46 of Set 4 | boa vista\n",
      "Processing Record 47 of Set 4 | shache\n",
      "Processing Record 48 of Set 4 | constitucion\n",
      "Processing Record 49 of Set 4 | los llanos de aridane\n",
      "Processing Record 50 of Set 4 | chokurdakh\n",
      "Processing Record 1 of Set 5 | kavaratti\n",
      "Processing Record 2 of Set 5 | puerto ayora\n",
      "Processing Record 3 of Set 5 | taltal\n",
      "Processing Record 4 of Set 5 | kaya\n",
      "Processing Record 5 of Set 5 | vila franca do campo\n"
     ]
    },
    {
     "name": "stdout",
     "output_type": "stream",
     "text": [
      "Processing Record 6 of Set 5 | honningsvag\n",
      "City not found. Skipping...\n",
      "Processing Record 8 of Set 5 | tual\n",
      "Processing Record 9 of Set 5 | ljungby\n",
      "City not found. Skipping...\n",
      "Processing Record 11 of Set 5 | alofi\n",
      "Processing Record 12 of Set 5 | hithadhoo\n",
      "Processing Record 13 of Set 5 | kabare\n",
      "Processing Record 14 of Set 5 | mangrol\n",
      "Processing Record 15 of Set 5 | okhotsk\n",
      "Processing Record 16 of Set 5 | coalinga\n",
      "Processing Record 17 of Set 5 | nikolayevskaya\n",
      "City not found. Skipping...\n",
      "Processing Record 19 of Set 5 | muyezerskiy\n",
      "Processing Record 20 of Set 5 | anloga\n",
      "Processing Record 21 of Set 5 | pampa\n",
      "Processing Record 22 of Set 5 | puerto madero\n",
      "Processing Record 23 of Set 5 | coihueco\n",
      "Processing Record 24 of Set 5 | sibolga\n",
      "Processing Record 25 of Set 5 | tommot\n",
      "Processing Record 26 of Set 5 | paranaiba\n",
      "City not found. Skipping...\n",
      "Processing Record 28 of Set 5 | coquimbo\n",
      "Processing Record 29 of Set 5 | phibun mangsahan\n",
      "Processing Record 30 of Set 5 | katsuura\n",
      "Processing Record 31 of Set 5 | pangkalanbuun\n",
      "Processing Record 32 of Set 5 | newport\n",
      "Processing Record 33 of Set 5 | pingxiang\n",
      "Processing Record 34 of Set 5 | baykit\n",
      "Processing Record 35 of Set 5 | neiafu\n",
      "Processing Record 36 of Set 5 | maceio\n",
      "Processing Record 37 of Set 5 | norsup\n",
      "City not found. Skipping...\n",
      "Processing Record 39 of Set 5 | klaksvik\n",
      "Processing Record 40 of Set 5 | port augusta\n",
      "Processing Record 41 of Set 5 | jamame\n",
      "Processing Record 42 of Set 5 | guiyang\n",
      "City not found. Skipping...\n",
      "City not found. Skipping...\n",
      "Processing Record 45 of Set 5 | cayenne\n",
      "Processing Record 46 of Set 5 | zhezkazgan\n",
      "Processing Record 47 of Set 5 | mount gambier\n",
      "Processing Record 48 of Set 5 | nardaran\n",
      "Processing Record 49 of Set 5 | kutum\n",
      "City not found. Skipping...\n",
      "City not found. Skipping...\n",
      "Processing Record 2 of Set 6 | makakilo city\n",
      "Processing Record 3 of Set 6 | kampene\n",
      "Processing Record 4 of Set 6 | broken hill\n",
      "Processing Record 5 of Set 6 | torbay\n",
      "Processing Record 6 of Set 6 | lubana\n",
      "Processing Record 7 of Set 6 | quatre cocos\n",
      "Processing Record 8 of Set 6 | laje\n",
      "Processing Record 9 of Set 6 | vanavara\n",
      "Processing Record 10 of Set 6 | correntina\n",
      "Processing Record 11 of Set 6 | padang\n",
      "Processing Record 12 of Set 6 | kurilsk\n",
      "Processing Record 13 of Set 6 | kadugannawa\n",
      "Processing Record 14 of Set 6 | taganak\n",
      "Processing Record 15 of Set 6 | akhtubinsk\n",
      "Processing Record 16 of Set 6 | el vigia\n",
      "City not found. Skipping...\n",
      "Processing Record 18 of Set 6 | marawi\n",
      "City not found. Skipping...\n",
      "Processing Record 20 of Set 6 | potosi\n",
      "Processing Record 21 of Set 6 | taoudenni\n",
      "Processing Record 22 of Set 6 | najran\n",
      "Processing Record 23 of Set 6 | atar\n",
      "Processing Record 24 of Set 6 | maiduguri\n",
      "City not found. Skipping...\n",
      "Processing Record 26 of Set 6 | vila velha\n",
      "Processing Record 27 of Set 6 | santa rosalia\n",
      "Processing Record 28 of Set 6 | mildura\n",
      "Processing Record 29 of Set 6 | prince rupert\n",
      "Processing Record 30 of Set 6 | kearney\n",
      "Processing Record 31 of Set 6 | petropavlovsk-kamchatskiy\n",
      "Processing Record 32 of Set 6 | peniche\n",
      "Processing Record 33 of Set 6 | tremedal\n",
      "Processing Record 34 of Set 6 | banganapalle\n",
      "Processing Record 35 of Set 6 | moose factory\n",
      "Processing Record 36 of Set 6 | lodja\n",
      "Processing Record 37 of Set 6 | nemuro\n",
      "Processing Record 38 of Set 6 | vanimo\n",
      "Processing Record 39 of Set 6 | pitiquito\n",
      "Processing Record 40 of Set 6 | abu dhabi\n",
      "City not found. Skipping...\n",
      "Processing Record 42 of Set 6 | georgetown\n",
      "Processing Record 43 of Set 6 | lompoc\n",
      "Processing Record 44 of Set 6 | gravdal\n",
      "Processing Record 45 of Set 6 | puerto madryn\n",
      "Processing Record 46 of Set 6 | koumac\n",
      "Processing Record 47 of Set 6 | atwater\n",
      "Processing Record 48 of Set 6 | meadow lake\n",
      "Processing Record 49 of Set 6 | svetlyy\n",
      "Processing Record 50 of Set 6 | kimberley\n",
      "Processing Record 1 of Set 7 | puerto baquerizo moreno\n",
      "Processing Record 2 of Set 7 | fairbanks\n",
      "Processing Record 3 of Set 7 | caravelas\n",
      "Processing Record 4 of Set 7 | aklavik\n",
      "Processing Record 5 of Set 7 | broome\n",
      "Processing Record 6 of Set 7 | saint-augustin\n",
      "Processing Record 7 of Set 7 | douglas\n",
      "Processing Record 8 of Set 7 | manggar\n",
      "Processing Record 9 of Set 7 | berdigestyakh\n",
      "Processing Record 10 of Set 7 | munirabad\n",
      "Processing Record 11 of Set 7 | baker city\n",
      "City not found. Skipping...\n",
      "Processing Record 13 of Set 7 | novomichurinsk\n",
      "Processing Record 14 of Set 7 | sekoma\n",
      "Processing Record 15 of Set 7 | katangli\n",
      "Processing Record 16 of Set 7 | airai\n",
      "Processing Record 17 of Set 7 | leeton\n",
      "Processing Record 18 of Set 7 | aguimes\n",
      "Processing Record 19 of Set 7 | sayyan\n",
      "City not found. Skipping...\n",
      "Processing Record 21 of Set 7 | saint-francois\n",
      "Processing Record 22 of Set 7 | yellowknife\n",
      "Processing Record 23 of Set 7 | ulladulla\n",
      "Processing Record 24 of Set 7 | halifax\n",
      "Processing Record 25 of Set 7 | dinganen\n",
      "City not found. Skipping...\n",
      "Processing Record 27 of Set 7 | arrecife\n",
      "Processing Record 28 of Set 7 | vao\n",
      "Processing Record 29 of Set 7 | ancud\n",
      "Processing Record 30 of Set 7 | tupik\n",
      "Processing Record 31 of Set 7 | shenzhen\n",
      "Processing Record 32 of Set 7 | kalmar\n",
      "Processing Record 33 of Set 7 | olenegorsk\n",
      "Processing Record 34 of Set 7 | vallenar\n",
      "Processing Record 35 of Set 7 | akwatia\n",
      "Processing Record 36 of Set 7 | portland\n",
      "Processing Record 37 of Set 7 | kampong thum\n",
      "Processing Record 38 of Set 7 | gandajika\n",
      "Processing Record 39 of Set 7 | fuxin\n",
      "Processing Record 40 of Set 7 | yermakovskoye\n",
      "Processing Record 41 of Set 7 | salalah\n",
      "City not found. Skipping...\n",
      "Processing Record 43 of Set 7 | lavrentiya\n",
      "Processing Record 44 of Set 7 | amuntai\n",
      "Processing Record 45 of Set 7 | thompson\n",
      "Processing Record 46 of Set 7 | ilo\n",
      "Processing Record 47 of Set 7 | jaciara\n",
      "Processing Record 48 of Set 7 | saint-pierre\n",
      "Processing Record 49 of Set 7 | lancaster\n",
      "City not found. Skipping...\n",
      "Processing Record 1 of Set 8 | ouesso\n",
      "Processing Record 2 of Set 8 | worland\n",
      "Processing Record 3 of Set 8 | ust-kut\n",
      "Processing Record 4 of Set 8 | yarim\n",
      "Processing Record 5 of Set 8 | calbuco\n",
      "Processing Record 6 of Set 8 | kuala terengganu\n",
      "Processing Record 7 of Set 8 | evanston\n",
      "Processing Record 8 of Set 8 | la ronge\n",
      "City not found. Skipping...\n",
      "City not found. Skipping...\n",
      "Processing Record 11 of Set 8 | consett\n",
      "Processing Record 12 of Set 8 | elektrenai\n",
      "Processing Record 13 of Set 8 | ndele\n",
      "Processing Record 14 of Set 8 | yumen\n",
      "Processing Record 15 of Set 8 | weligama\n",
      "Processing Record 16 of Set 8 | verkhoyansk\n",
      "Processing Record 17 of Set 8 | okato\n",
      "Processing Record 18 of Set 8 | altamont\n",
      "Processing Record 19 of Set 8 | ust-koksa\n",
      "Processing Record 20 of Set 8 | port-cartier\n",
      "Processing Record 21 of Set 8 | mareeba\n",
      "Processing Record 22 of Set 8 | horconcitos\n",
      "Processing Record 23 of Set 8 | gawler\n",
      "Processing Record 24 of Set 8 | eirunepe\n",
      "Processing Record 25 of Set 8 | severo-kurilsk\n",
      "Processing Record 26 of Set 8 | sioux lookout\n",
      "Processing Record 27 of Set 8 | broni\n",
      "Processing Record 28 of Set 8 | san andres\n",
      "Processing Record 29 of Set 8 | marabba\n",
      "Processing Record 30 of Set 8 | balaipungut\n",
      "Processing Record 31 of Set 8 | nushki\n",
      "Processing Record 32 of Set 8 | pacific grove\n",
      "Processing Record 33 of Set 8 | tiznit\n",
      "City not found. Skipping...\n",
      "Processing Record 35 of Set 8 | pangoa\n",
      "Processing Record 36 of Set 8 | borogontsy\n",
      "Processing Record 37 of Set 8 | altamira\n",
      "Processing Record 38 of Set 8 | san luis\n",
      "Processing Record 39 of Set 8 | maxixe\n",
      "Processing Record 40 of Set 8 | aswan\n",
      "Processing Record 41 of Set 8 | luanda\n",
      "Processing Record 42 of Set 8 | xichang\n",
      "Processing Record 43 of Set 8 | tilichiki\n",
      "Processing Record 44 of Set 8 | ribeira grande\n",
      "Processing Record 45 of Set 8 | tabas\n",
      "Processing Record 46 of Set 8 | maku\n",
      "Processing Record 47 of Set 8 | neckarsulm\n",
      "Processing Record 48 of Set 8 | conceicao do araguaia\n",
      "Processing Record 49 of Set 8 | lorengau\n",
      "Processing Record 50 of Set 8 | mayo\n",
      "Processing Record 1 of Set 9 | rafaela\n",
      "Processing Record 2 of Set 9 | sussex\n",
      "Processing Record 3 of Set 9 | kirovskiy\n",
      "Processing Record 4 of Set 9 | kudat\n",
      "Processing Record 5 of Set 9 | sao joao da barra\n",
      "Processing Record 6 of Set 9 | sao joao dos patos\n",
      "City not found. Skipping...\n",
      "Processing Record 8 of Set 9 | chilca\n",
      "Processing Record 9 of Set 9 | vilhena\n",
      "Processing Record 10 of Set 9 | libertador general san martin\n"
     ]
    },
    {
     "name": "stdout",
     "output_type": "stream",
     "text": [
      "Processing Record 11 of Set 9 | zyryanka\n",
      "City not found. Skipping...\n",
      "Processing Record 13 of Set 9 | yar-sale\n",
      "Processing Record 14 of Set 9 | teahupoo\n",
      "Processing Record 15 of Set 9 | haines junction\n",
      "Processing Record 16 of Set 9 | chirongui\n",
      "Processing Record 17 of Set 9 | timmins\n",
      "Processing Record 18 of Set 9 | kruglolesskoye\n",
      "Processing Record 19 of Set 9 | lethbridge\n",
      "Processing Record 20 of Set 9 | codrington\n",
      "Processing Record 21 of Set 9 | isabela\n",
      "Processing Record 22 of Set 9 | anqing\n",
      "City not found. Skipping...\n",
      "Processing Record 24 of Set 9 | el tigre\n",
      "Processing Record 25 of Set 9 | moron\n",
      "City not found. Skipping...\n",
      "Processing Record 27 of Set 9 | puerto del rosario\n",
      "Processing Record 28 of Set 9 | bubaque\n",
      "Processing Record 29 of Set 9 | lardos\n",
      "Processing Record 30 of Set 9 | voiron\n",
      "Processing Record 31 of Set 9 | elizabeth city\n",
      "City not found. Skipping...\n",
      "Processing Record 33 of Set 9 | sambava\n",
      "Processing Record 34 of Set 9 | ouadda\n",
      "Processing Record 35 of Set 9 | seddon\n",
      "Processing Record 36 of Set 9 | lasa\n",
      "Processing Record 37 of Set 9 | bathsheba\n",
      "Processing Record 38 of Set 9 | iquitos\n",
      "Processing Record 39 of Set 9 | scarborough\n",
      "Processing Record 40 of Set 9 | san quintin\n",
      "Processing Record 41 of Set 9 | sahuaripa\n",
      "Processing Record 42 of Set 9 | marfino\n",
      "Processing Record 43 of Set 9 | praia da vitoria\n",
      "Processing Record 44 of Set 9 | malvern\n",
      "Processing Record 45 of Set 9 | raudeberg\n",
      "City not found. Skipping...\n",
      "Processing Record 47 of Set 9 | smederevo\n",
      "Processing Record 48 of Set 9 | muzhi\n",
      "Processing Record 49 of Set 9 | sabha\n",
      "Processing Record 50 of Set 9 | moses lake\n",
      "Processing Record 1 of Set 10 | qaqortoq\n",
      "Processing Record 2 of Set 10 | bull savanna\n",
      "Processing Record 3 of Set 10 | eraniel\n",
      "Processing Record 4 of Set 10 | kushiro\n",
      "Processing Record 5 of Set 10 | gafanha da encarnacao\n",
      "Processing Record 6 of Set 10 | sehore\n",
      "Processing Record 7 of Set 10 | grindavik\n",
      "Processing Record 8 of Set 10 | porto novo\n",
      "Processing Record 9 of Set 10 | kota belud\n",
      "Processing Record 10 of Set 10 | sterling\n",
      "Processing Record 11 of Set 10 | pushkino\n",
      "Processing Record 12 of Set 10 | dodola\n",
      "Processing Record 13 of Set 10 | itarema\n",
      "Processing Record 14 of Set 10 | bandarbeyla\n",
      "Processing Record 15 of Set 10 | chor\n",
      "Processing Record 16 of Set 10 | san jose\n",
      "Processing Record 17 of Set 10 | bergen\n",
      "Processing Record 18 of Set 10 | palafrugell\n",
      "Processing Record 19 of Set 10 | qasigiannguit\n",
      "Processing Record 20 of Set 10 | teguise\n",
      "Processing Record 21 of Set 10 | khanpur\n",
      "Processing Record 22 of Set 10 | datong\n",
      "Processing Record 23 of Set 10 | alta floresta\n",
      "Processing Record 24 of Set 10 | krasnyy kholm\n",
      "Processing Record 25 of Set 10 | touros\n",
      "Processing Record 26 of Set 10 | funadhoo\n",
      "Processing Record 27 of Set 10 | iskateley\n",
      "Processing Record 28 of Set 10 | kimbe\n",
      "Processing Record 29 of Set 10 | luena\n",
      "Processing Record 30 of Set 10 | palu\n",
      "Processing Record 31 of Set 10 | lewistown\n",
      "Processing Record 32 of Set 10 | hay river\n",
      "Processing Record 33 of Set 10 | sitka\n",
      "Processing Record 34 of Set 10 | katete\n",
      "City not found. Skipping...\n",
      "Processing Record 36 of Set 10 | souillac\n",
      "Processing Record 37 of Set 10 | ikwiriri\n",
      "City not found. Skipping...\n",
      "Processing Record 39 of Set 10 | atbasar\n",
      "Processing Record 40 of Set 10 | dalen\n",
      "Processing Record 41 of Set 10 | chuy\n",
      "Processing Record 42 of Set 10 | filingue\n",
      "Processing Record 43 of Set 10 | bambanglipuro\n",
      "Processing Record 44 of Set 10 | kavieng\n",
      "Processing Record 45 of Set 10 | tarakan\n",
      "Processing Record 46 of Set 10 | la union\n",
      "Processing Record 47 of Set 10 | kemijarvi\n",
      "Processing Record 48 of Set 10 | wasilla\n",
      "Processing Record 49 of Set 10 | lodwar\n",
      "Processing Record 50 of Set 10 | aykhal\n",
      "Processing Record 1 of Set 11 | namibe\n",
      "Processing Record 2 of Set 11 | tezu\n",
      "Processing Record 3 of Set 11 | svay rieng\n",
      "Processing Record 4 of Set 11 | barcelona\n",
      "Processing Record 5 of Set 11 | teshie\n",
      "Processing Record 6 of Set 11 | dire\n",
      "Processing Record 7 of Set 11 | kalmunai\n",
      "Processing Record 8 of Set 11 | san remigio\n",
      "Processing Record 9 of Set 11 | gamboma\n",
      "City not found. Skipping...\n",
      "Processing Record 11 of Set 11 | naze\n",
      "Processing Record 12 of Set 11 | zainsk\n",
      "Processing Record 13 of Set 11 | oxapampa\n",
      "Processing Record 14 of Set 11 | norman wells\n",
      "Processing Record 15 of Set 11 | pokrovsk\n",
      "Processing Record 16 of Set 11 | kieta\n",
      "City not found. Skipping...\n",
      "Processing Record 18 of Set 11 | jalu\n",
      "Processing Record 19 of Set 11 | sharjah\n",
      "Processing Record 20 of Set 11 | westport\n",
      "Processing Record 21 of Set 11 | qui nhon\n",
      "Processing Record 22 of Set 11 | luba\n",
      "Processing Record 23 of Set 11 | sao joao do paraiso\n",
      "Processing Record 24 of Set 11 | rio pardo\n",
      "Processing Record 25 of Set 11 | morant bay\n",
      "Processing Record 26 of Set 11 | dingle\n",
      "Processing Record 27 of Set 11 | paratinga\n",
      "Processing Record 28 of Set 11 | strezhevoy\n",
      "Processing Record 29 of Set 11 | gangtok\n",
      "Processing Record 30 of Set 11 | tomohon\n",
      "Processing Record 31 of Set 11 | stornoway\n",
      "Processing Record 32 of Set 11 | santa fe\n",
      "Processing Record 33 of Set 11 | severnyy\n",
      "Processing Record 34 of Set 11 | yakima\n",
      "Processing Record 35 of Set 11 | santa barbara\n",
      "Processing Record 36 of Set 11 | roald\n",
      "Processing Record 37 of Set 11 | burnie\n",
      "Processing Record 38 of Set 11 | syasstroy\n",
      "Processing Record 39 of Set 11 | sabla\n",
      "Processing Record 40 of Set 11 | panalingaan\n",
      "Processing Record 41 of Set 11 | hargeysa\n",
      "Processing Record 42 of Set 11 | nanchang\n",
      "Processing Record 43 of Set 11 | sorland\n",
      "Processing Record 44 of Set 11 | roma\n",
      "Processing Record 45 of Set 11 | adre\n",
      "Processing Record 46 of Set 11 | urumqi\n",
      "Processing Record 47 of Set 11 | carahue\n",
      "Processing Record 48 of Set 11 | shouguang\n",
      "Processing Record 49 of Set 11 | nishihara\n",
      "Processing Record 50 of Set 11 | qostanay\n",
      "Processing Record 1 of Set 12 | zhigansk\n",
      "Processing Record 2 of Set 12 | pangnirtung\n",
      "Processing Record 3 of Set 12 | eagle pass\n",
      "Processing Record 4 of Set 12 | sawakin\n",
      "Processing Record 5 of Set 12 | ondjiva\n",
      "Processing Record 6 of Set 12 | kibala\n",
      "Processing Record 7 of Set 12 | altagracia de orituco\n",
      "Processing Record 8 of Set 12 | moussoro\n",
      "Processing Record 9 of Set 12 | mpongwe\n",
      "Processing Record 10 of Set 12 | uvelskiy\n",
      "Processing Record 11 of Set 12 | te anau\n",
      "Processing Record 12 of Set 12 | trairi\n",
      "Processing Record 13 of Set 12 | tucurui\n",
      "Processing Record 14 of Set 12 | arak\n",
      "Processing Record 15 of Set 12 | noumea\n",
      "Processing Record 16 of Set 12 | beringovskiy\n",
      "Processing Record 17 of Set 12 | xining\n",
      "Processing Record 18 of Set 12 | sobolevo\n",
      "Processing Record 19 of Set 12 | ippy\n",
      "Processing Record 20 of Set 12 | usinsk\n",
      "Processing Record 21 of Set 12 | benghazi\n",
      "Processing Record 22 of Set 12 | kenora\n",
      "Processing Record 23 of Set 12 | san cristobal\n",
      "Processing Record 24 of Set 12 | bulolo\n",
      "Processing Record 25 of Set 12 | nongan\n",
      "City not found. Skipping...\n",
      "Processing Record 27 of Set 12 | chimbote\n",
      "Processing Record 28 of Set 12 | saint-michel-des-saints\n",
      "City not found. Skipping...\n",
      "Processing Record 30 of Set 12 | caiaponia\n",
      "Processing Record 31 of Set 12 | nantucket\n",
      "Processing Record 32 of Set 12 | rosario do sul\n",
      "Processing Record 33 of Set 12 | lazarev\n",
      "Processing Record 34 of Set 12 | kerema\n",
      "Processing Record 35 of Set 12 | mercedes\n",
      "Processing Record 36 of Set 12 | tsuruga\n",
      "Processing Record 37 of Set 12 | flinders\n",
      "Processing Record 38 of Set 12 | esik\n",
      "Processing Record 39 of Set 12 | preeceville\n",
      "Processing Record 40 of Set 12 | atambua\n",
      "Processing Record 41 of Set 12 | bobbili\n",
      "Processing Record 42 of Set 12 | srednekolymsk\n",
      "Processing Record 43 of Set 12 | puro\n",
      "Processing Record 44 of Set 12 | juneau\n",
      "Processing Record 45 of Set 12 | gao\n",
      "Processing Record 46 of Set 12 | maningrida\n",
      "Processing Record 47 of Set 12 | aconibe\n",
      "Processing Record 48 of Set 12 | soyo\n",
      "Processing Record 49 of Set 12 | hudson bay\n",
      "City not found. Skipping...\n",
      "Processing Record 1 of Set 13 | cururupu\n",
      "Processing Record 2 of Set 13 | moa\n",
      "Processing Record 3 of Set 13 | pisco\n",
      "Processing Record 4 of Set 13 | cabedelo\n",
      "Processing Record 5 of Set 13 | evensk\n",
      "Processing Record 6 of Set 13 | marrakesh\n",
      "Processing Record 7 of Set 13 | werda\n",
      "Processing Record 8 of Set 13 | paraiso\n",
      "Processing Record 9 of Set 13 | merauke\n",
      "Processing Record 10 of Set 13 | hovd\n",
      "Processing Record 11 of Set 13 | lakes entrance\n"
     ]
    },
    {
     "name": "stdout",
     "output_type": "stream",
     "text": [
      "City not found. Skipping...\n",
      "Processing Record 13 of Set 13 | alagoinhas\n",
      "City not found. Skipping...\n",
      "Processing Record 15 of Set 13 | san patricio\n",
      "Processing Record 16 of Set 13 | chifeng\n",
      "City not found. Skipping...\n",
      "Processing Record 18 of Set 13 | temiscaming\n",
      "City not found. Skipping...\n",
      "Processing Record 20 of Set 13 | bissau\n",
      "Processing Record 21 of Set 13 | banda aceh\n",
      "Processing Record 22 of Set 13 | waipawa\n",
      "Processing Record 23 of Set 13 | belyy yar\n",
      "Processing Record 24 of Set 13 | miri\n",
      "Processing Record 25 of Set 13 | shenjiamen\n",
      "Processing Record 26 of Set 13 | mason city\n",
      "City not found. Skipping...\n",
      "Processing Record 28 of Set 13 | akyab\n",
      "Processing Record 29 of Set 13 | mokhsogollokh\n",
      "Processing Record 30 of Set 13 | pleasant grove\n",
      "Processing Record 31 of Set 13 | ugoofaaru\n",
      "Processing Record 32 of Set 13 | segezha\n",
      "-----------------------------\n",
      "Data Retrieval Complete\n",
      "-----------------------------\n"
     ]
    }
   ],
   "source": [
    "cities_2=[]\n",
    "lat=[]\n",
    "lng=[]\n",
    "max_temp=[]\n",
    "humidity=[]\n",
    "cloudiness=[]\n",
    "wind_speed=[]\n",
    "country=[]\n",
    "date=[]\n",
    "\n",
    "index=0\n",
    "group=1\n",
    "count=1\n",
    "success=0\n",
    "fail=0\n",
    "\n",
    "print('Beginning Data Retrieval\\n-----------------------------')\n",
    "while index< len(cities):\n",
    "    for city in cities[index:index+50]:\n",
    "        query_url=f\"{url}appid={weather_api_key}&units={units}&q=\"\n",
    "        weather_response = requests.get(query_url+city).json()\n",
    "\n",
    "        try:\n",
    "            cities_2.append(weather_response['name'])\n",
    "            lat.append(weather_response['coord']['lat'])\n",
    "            lng.append(weather_response['coord']['lon'])\n",
    "            max_temp.append(weather_response['main']['temp_max'])\n",
    "            humidity.append(weather_response['main']['humidity'])\n",
    "            wind_speed.append(weather_response['wind']['speed'])\n",
    "            cloudiness.append(weather_response['clouds']['all'])\n",
    "            date.append(weather_response['dt'])\n",
    "            country.append(weather_response['sys']['country'])\n",
    "            print(f'Processing Record {count} of Set {group} | {city}')\n",
    "            \n",
    "            success+=1\n",
    "            count+=1\n",
    "            index+=1\n",
    "        except KeyError:\n",
    "            print('City not found. Skipping...')\n",
    "            count+=1\n",
    "            index+=1\n",
    "            fail+=1\n",
    "\n",
    "    group+=1\n",
    "    count=1\n",
    "    time.sleep(60)\n",
    "print('''-----------------------------\n",
    "Data Retrieval Complete\n",
    "-----------------------------''')\n",
    "        "
   ]
  },
  {
   "cell_type": "code",
   "execution_count": 6,
   "metadata": {},
   "outputs": [
    {
     "name": "stdout",
     "output_type": "stream",
     "text": [
      "success: 574  fail: 58\n"
     ]
    },
    {
     "data": {
      "text/plain": [
       "632"
      ]
     },
     "execution_count": 6,
     "metadata": {},
     "output_type": "execute_result"
    }
   ],
   "source": [
    "print(f'success: {success}  fail: {fail}')\n",
    "success + fail"
   ]
  },
  {
   "cell_type": "markdown",
   "metadata": {},
   "source": [
    "### Convert Raw Data to DataFrame\n",
    "* Export the city data into a .csv.\n",
    "* Display the DataFrame"
   ]
  },
  {
   "cell_type": "code",
   "execution_count": 7,
   "metadata": {},
   "outputs": [
    {
     "data": {
      "text/plain": [
       "City          574\n",
       "Lat           574\n",
       "Lng           574\n",
       "Max Temp      574\n",
       "Humidity      574\n",
       "Cloudiness    574\n",
       "Wind Speed    574\n",
       "Country       574\n",
       "Date          574\n",
       "dtype: int64"
      ]
     },
     "execution_count": 7,
     "metadata": {},
     "output_type": "execute_result"
    }
   ],
   "source": [
    "data={\n",
    "    'City': cities_2,# this will equal 606 but  I only have 553 of the others\n",
    "    'Lat': lat,\n",
    "    'Lng': lng,\n",
    "    'Max Temp': max_temp,\n",
    "    'Humidity': humidity,\n",
    "    'Cloudiness': cloudiness,\n",
    "    'Wind Speed': wind_speed,\n",
    "    'Country': country,\n",
    "    'Date': date\n",
    "\n",
    "}\n",
    "weather_df=pd.DataFrame(data)\n",
    "weather_df.count()"
   ]
  },
  {
   "cell_type": "code",
   "execution_count": 8,
   "metadata": {},
   "outputs": [
    {
     "data": {
      "text/html": [
       "<div>\n",
       "<style scoped>\n",
       "    .dataframe tbody tr th:only-of-type {\n",
       "        vertical-align: middle;\n",
       "    }\n",
       "\n",
       "    .dataframe tbody tr th {\n",
       "        vertical-align: top;\n",
       "    }\n",
       "\n",
       "    .dataframe thead th {\n",
       "        text-align: right;\n",
       "    }\n",
       "</style>\n",
       "<table border=\"1\" class=\"dataframe\">\n",
       "  <thead>\n",
       "    <tr style=\"text-align: right;\">\n",
       "      <th></th>\n",
       "      <th>City</th>\n",
       "      <th>Lat</th>\n",
       "      <th>Lng</th>\n",
       "      <th>Max Temp</th>\n",
       "      <th>Humidity</th>\n",
       "      <th>Cloudiness</th>\n",
       "      <th>Wind Speed</th>\n",
       "      <th>Country</th>\n",
       "      <th>Date</th>\n",
       "    </tr>\n",
       "  </thead>\n",
       "  <tbody>\n",
       "    <tr>\n",
       "      <th>0</th>\n",
       "      <td>Ushuaia</td>\n",
       "      <td>-54.80</td>\n",
       "      <td>-68.30</td>\n",
       "      <td>32.00</td>\n",
       "      <td>95</td>\n",
       "      <td>90</td>\n",
       "      <td>23.04</td>\n",
       "      <td>AR</td>\n",
       "      <td>1595810577</td>\n",
       "    </tr>\n",
       "    <tr>\n",
       "      <th>1</th>\n",
       "      <td>Saskylakh</td>\n",
       "      <td>71.92</td>\n",
       "      <td>114.08</td>\n",
       "      <td>38.73</td>\n",
       "      <td>94</td>\n",
       "      <td>100</td>\n",
       "      <td>18.34</td>\n",
       "      <td>RU</td>\n",
       "      <td>1595810577</td>\n",
       "    </tr>\n",
       "    <tr>\n",
       "      <th>2</th>\n",
       "      <td>Jamestown</td>\n",
       "      <td>42.10</td>\n",
       "      <td>-79.24</td>\n",
       "      <td>77.00</td>\n",
       "      <td>65</td>\n",
       "      <td>1</td>\n",
       "      <td>5.82</td>\n",
       "      <td>US</td>\n",
       "      <td>1595810404</td>\n",
       "    </tr>\n",
       "    <tr>\n",
       "      <th>3</th>\n",
       "      <td>Lüderitz</td>\n",
       "      <td>-26.65</td>\n",
       "      <td>15.16</td>\n",
       "      <td>60.80</td>\n",
       "      <td>63</td>\n",
       "      <td>0</td>\n",
       "      <td>12.75</td>\n",
       "      <td>NA</td>\n",
       "      <td>1595810531</td>\n",
       "    </tr>\n",
       "    <tr>\n",
       "      <th>4</th>\n",
       "      <td>Mpulungu</td>\n",
       "      <td>-8.76</td>\n",
       "      <td>31.11</td>\n",
       "      <td>65.32</td>\n",
       "      <td>67</td>\n",
       "      <td>56</td>\n",
       "      <td>7.83</td>\n",
       "      <td>ZM</td>\n",
       "      <td>1595810578</td>\n",
       "    </tr>\n",
       "  </tbody>\n",
       "</table>\n",
       "</div>"
      ],
      "text/plain": [
       "        City    Lat     Lng  Max Temp  Humidity  Cloudiness  Wind Speed  \\\n",
       "0    Ushuaia -54.80  -68.30     32.00        95          90       23.04   \n",
       "1  Saskylakh  71.92  114.08     38.73        94         100       18.34   \n",
       "2  Jamestown  42.10  -79.24     77.00        65           1        5.82   \n",
       "3   Lüderitz -26.65   15.16     60.80        63           0       12.75   \n",
       "4   Mpulungu  -8.76   31.11     65.32        67          56        7.83   \n",
       "\n",
       "  Country        Date  \n",
       "0      AR  1595810577  \n",
       "1      RU  1595810577  \n",
       "2      US  1595810404  \n",
       "3      NA  1595810531  \n",
       "4      ZM  1595810578  "
      ]
     },
     "execution_count": 8,
     "metadata": {},
     "output_type": "execute_result"
    }
   ],
   "source": [
    "weather_df.head()"
   ]
  },
  {
   "cell_type": "markdown",
   "metadata": {},
   "source": [
    "## Inspect the data and remove the cities where the humidity > 100%.\n",
    "----\n",
    "Skip this step if there are no cities that have humidity > 100%. "
   ]
  },
  {
   "cell_type": "code",
   "execution_count": 32,
   "metadata": {},
   "outputs": [
    {
     "data": {
      "text/html": [
       "<div>\n",
       "<style scoped>\n",
       "    .dataframe tbody tr th:only-of-type {\n",
       "        vertical-align: middle;\n",
       "    }\n",
       "\n",
       "    .dataframe tbody tr th {\n",
       "        vertical-align: top;\n",
       "    }\n",
       "\n",
       "    .dataframe thead th {\n",
       "        text-align: right;\n",
       "    }\n",
       "</style>\n",
       "<table border=\"1\" class=\"dataframe\">\n",
       "  <thead>\n",
       "    <tr style=\"text-align: right;\">\n",
       "      <th></th>\n",
       "      <th>City</th>\n",
       "      <th>Lat</th>\n",
       "      <th>Lng</th>\n",
       "      <th>Max Temp</th>\n",
       "      <th>Humidity</th>\n",
       "      <th>Cloudiness</th>\n",
       "      <th>Wind Speed</th>\n",
       "      <th>Country</th>\n",
       "      <th>Date</th>\n",
       "    </tr>\n",
       "  </thead>\n",
       "  <tbody>\n",
       "  </tbody>\n",
       "</table>\n",
       "</div>"
      ],
      "text/plain": [
       "Empty DataFrame\n",
       "Columns: [City, Lat, Lng, Max Temp, Humidity, Cloudiness, Wind Speed, Country, Date]\n",
       "Index: []"
      ]
     },
     "execution_count": 32,
     "metadata": {},
     "output_type": "execute_result"
    }
   ],
   "source": [
    "check_for_humidity_errors=weather_df.loc[weather_df['Humidity']>100]\n",
    "check_for_humidity_errors # No humidity error detected"
   ]
  },
  {
   "cell_type": "code",
   "execution_count": 33,
   "metadata": {},
   "outputs": [
    {
     "data": {
      "text/html": [
       "<div>\n",
       "<style scoped>\n",
       "    .dataframe tbody tr th:only-of-type {\n",
       "        vertical-align: middle;\n",
       "    }\n",
       "\n",
       "    .dataframe tbody tr th {\n",
       "        vertical-align: top;\n",
       "    }\n",
       "\n",
       "    .dataframe thead th {\n",
       "        text-align: right;\n",
       "    }\n",
       "</style>\n",
       "<table border=\"1\" class=\"dataframe\">\n",
       "  <thead>\n",
       "    <tr style=\"text-align: right;\">\n",
       "      <th></th>\n",
       "      <th>City</th>\n",
       "      <th>Lat</th>\n",
       "      <th>Lng</th>\n",
       "      <th>Max Temp</th>\n",
       "      <th>Humidity</th>\n",
       "      <th>Cloudiness</th>\n",
       "      <th>Wind Speed</th>\n",
       "      <th>Country</th>\n",
       "      <th>Date</th>\n",
       "    </tr>\n",
       "  </thead>\n",
       "  <tbody>\n",
       "    <tr>\n",
       "      <th>0</th>\n",
       "      <td>Ushuaia</td>\n",
       "      <td>-54.80</td>\n",
       "      <td>-68.30</td>\n",
       "      <td>32.00</td>\n",
       "      <td>95</td>\n",
       "      <td>90</td>\n",
       "      <td>23.04</td>\n",
       "      <td>AR</td>\n",
       "      <td>1595810577</td>\n",
       "    </tr>\n",
       "    <tr>\n",
       "      <th>1</th>\n",
       "      <td>Saskylakh</td>\n",
       "      <td>71.92</td>\n",
       "      <td>114.08</td>\n",
       "      <td>38.73</td>\n",
       "      <td>94</td>\n",
       "      <td>100</td>\n",
       "      <td>18.34</td>\n",
       "      <td>RU</td>\n",
       "      <td>1595810577</td>\n",
       "    </tr>\n",
       "    <tr>\n",
       "      <th>2</th>\n",
       "      <td>Jamestown</td>\n",
       "      <td>42.10</td>\n",
       "      <td>-79.24</td>\n",
       "      <td>77.00</td>\n",
       "      <td>65</td>\n",
       "      <td>1</td>\n",
       "      <td>5.82</td>\n",
       "      <td>US</td>\n",
       "      <td>1595810404</td>\n",
       "    </tr>\n",
       "    <tr>\n",
       "      <th>3</th>\n",
       "      <td>Lüderitz</td>\n",
       "      <td>-26.65</td>\n",
       "      <td>15.16</td>\n",
       "      <td>60.80</td>\n",
       "      <td>63</td>\n",
       "      <td>0</td>\n",
       "      <td>12.75</td>\n",
       "      <td>NA</td>\n",
       "      <td>1595810531</td>\n",
       "    </tr>\n",
       "    <tr>\n",
       "      <th>4</th>\n",
       "      <td>Mpulungu</td>\n",
       "      <td>-8.76</td>\n",
       "      <td>31.11</td>\n",
       "      <td>65.32</td>\n",
       "      <td>67</td>\n",
       "      <td>56</td>\n",
       "      <td>7.83</td>\n",
       "      <td>ZM</td>\n",
       "      <td>1595810578</td>\n",
       "    </tr>\n",
       "  </tbody>\n",
       "</table>\n",
       "</div>"
      ],
      "text/plain": [
       "        City    Lat     Lng  Max Temp  Humidity  Cloudiness  Wind Speed  \\\n",
       "0    Ushuaia -54.80  -68.30     32.00        95          90       23.04   \n",
       "1  Saskylakh  71.92  114.08     38.73        94         100       18.34   \n",
       "2  Jamestown  42.10  -79.24     77.00        65           1        5.82   \n",
       "3   Lüderitz -26.65   15.16     60.80        63           0       12.75   \n",
       "4   Mpulungu  -8.76   31.11     65.32        67          56        7.83   \n",
       "\n",
       "  Country        Date  \n",
       "0      AR  1595810577  \n",
       "1      RU  1595810577  \n",
       "2      US  1595810404  \n",
       "3      NA  1595810531  \n",
       "4      ZM  1595810578  "
      ]
     },
     "execution_count": 33,
     "metadata": {},
     "output_type": "execute_result"
    }
   ],
   "source": [
    "weather_df.head()"
   ]
  },
  {
   "cell_type": "code",
   "execution_count": 35,
   "metadata": {},
   "outputs": [
    {
     "data": {
      "text/plain": [
       "Int64Index([], dtype='int64')"
      ]
     },
     "execution_count": 35,
     "metadata": {},
     "output_type": "execute_result"
    }
   ],
   "source": [
    "#  Get the indices of cities that have humidity over 100%.\n",
    "# N/A But, if I were to have humidity over 100% I would do the following because the return for check_for... \n",
    "# keeps original index values\n",
    "check_for_humidity_errors.index"
   ]
  },
  {
   "cell_type": "code",
   "execution_count": 8,
   "metadata": {},
   "outputs": [
    {
     "data": {
      "text/html": [
       "<div>\n",
       "<style scoped>\n",
       "    .dataframe tbody tr th:only-of-type {\n",
       "        vertical-align: middle;\n",
       "    }\n",
       "\n",
       "    .dataframe tbody tr th {\n",
       "        vertical-align: top;\n",
       "    }\n",
       "\n",
       "    .dataframe thead th {\n",
       "        text-align: right;\n",
       "    }\n",
       "</style>\n",
       "<table border=\"1\" class=\"dataframe\">\n",
       "  <thead>\n",
       "    <tr style=\"text-align: right;\">\n",
       "      <th></th>\n",
       "      <th>City</th>\n",
       "      <th>Lat</th>\n",
       "      <th>Lng</th>\n",
       "      <th>Max Temp</th>\n",
       "      <th>Humidity</th>\n",
       "      <th>Cloudiness</th>\n",
       "      <th>Wind Speed</th>\n",
       "      <th>Country</th>\n",
       "      <th>Date</th>\n",
       "    </tr>\n",
       "  </thead>\n",
       "  <tbody>\n",
       "    <tr>\n",
       "      <th>0</th>\n",
       "      <td>pimentel</td>\n",
       "      <td>-6.84</td>\n",
       "      <td>-79.93</td>\n",
       "      <td>66.20</td>\n",
       "      <td>29</td>\n",
       "      <td>75</td>\n",
       "      <td>5.82</td>\n",
       "      <td>PE</td>\n",
       "      <td>1585764415</td>\n",
       "    </tr>\n",
       "    <tr>\n",
       "      <th>1</th>\n",
       "      <td>victoria</td>\n",
       "      <td>22.29</td>\n",
       "      <td>114.16</td>\n",
       "      <td>69.01</td>\n",
       "      <td>88</td>\n",
       "      <td>40</td>\n",
       "      <td>18.34</td>\n",
       "      <td>HK</td>\n",
       "      <td>1585764288</td>\n",
       "    </tr>\n",
       "    <tr>\n",
       "      <th>2</th>\n",
       "      <td>padang</td>\n",
       "      <td>-0.95</td>\n",
       "      <td>100.35</td>\n",
       "      <td>79.90</td>\n",
       "      <td>75</td>\n",
       "      <td>99</td>\n",
       "      <td>1.63</td>\n",
       "      <td>ID</td>\n",
       "      <td>1585764115</td>\n",
       "    </tr>\n",
       "    <tr>\n",
       "      <th>3</th>\n",
       "      <td>hasaki</td>\n",
       "      <td>35.73</td>\n",
       "      <td>140.83</td>\n",
       "      <td>55.00</td>\n",
       "      <td>100</td>\n",
       "      <td>75</td>\n",
       "      <td>4.70</td>\n",
       "      <td>JP</td>\n",
       "      <td>1585764415</td>\n",
       "    </tr>\n",
       "    <tr>\n",
       "      <th>4</th>\n",
       "      <td>kahului</td>\n",
       "      <td>20.89</td>\n",
       "      <td>-156.47</td>\n",
       "      <td>70.00</td>\n",
       "      <td>88</td>\n",
       "      <td>1</td>\n",
       "      <td>7.63</td>\n",
       "      <td>US</td>\n",
       "      <td>1585764415</td>\n",
       "    </tr>\n",
       "  </tbody>\n",
       "</table>\n",
       "</div>"
      ],
      "text/plain": [
       "       City    Lat     Lng  Max Temp  Humidity  Cloudiness  Wind Speed  \\\n",
       "0  pimentel  -6.84  -79.93     66.20        29          75        5.82   \n",
       "1  victoria  22.29  114.16     69.01        88          40       18.34   \n",
       "2    padang  -0.95  100.35     79.90        75          99        1.63   \n",
       "3    hasaki  35.73  140.83     55.00       100          75        4.70   \n",
       "4   kahului  20.89 -156.47     70.00        88           1        7.63   \n",
       "\n",
       "  Country        Date  \n",
       "0      PE  1585764415  \n",
       "1      HK  1585764288  \n",
       "2      ID  1585764115  \n",
       "3      JP  1585764415  \n",
       "4      US  1585764415  "
      ]
     },
     "execution_count": 8,
     "metadata": {},
     "output_type": "execute_result"
    }
   ],
   "source": [
    "# Make a new DataFrame equal to the city data to drop all humidity outliers by index.\n",
    "# Passing \"inplace=False\" will make a copy of the city_data DataFrame, which we call \"clean_city_data\".\n",
    "# There are none humidity outliers based on \"over 100%\""
   ]
  },
  {
   "cell_type": "code",
   "execution_count": 54,
   "metadata": {},
   "outputs": [
    {
     "data": {
      "text/plain": [
       "0     -54.80\n",
       "1      71.92\n",
       "2      42.10\n",
       "3     -26.65\n",
       "4      -8.76\n",
       "       ...  \n",
       "569    20.15\n",
       "570    61.47\n",
       "571    40.36\n",
       "572     5.67\n",
       "573    63.74\n",
       "Name: Lat, Length: 574, dtype: float64"
      ]
     },
     "execution_count": 54,
     "metadata": {},
     "output_type": "execute_result"
    }
   ],
   "source": [
    "# Extract relevant fields from the data frame\n",
    "latitudes=weather_df['Lat']\n",
    "temperatures=weather_df['Max Temp']\n",
    "humidity=weather_df['Humidity']\n",
    "cloudiness=weather_df['Cloudiness']\n",
    "wind_speed=weather_df['Wind Speed']\n",
    "\n",
    "# Export the City_Data into a csv\n",
    "# I could have kept the column order with: columns=['City', 'Lat', 'Lng', 'Max Temp', 'Humidity', \n",
    "# 'Cloudiness', 'Wind Speed', 'Country', 'Date']\n",
    "weather_df.to_csv('weather_data.csv', index_label='City_ID')\n",
    "latitudes"
   ]
  },
  {
   "cell_type": "markdown",
   "metadata": {},
   "source": [
    "## Plotting the Data\n",
    "* Use proper labeling of the plots using plot titles (including date of analysis) and axes labels.\n",
    "* Save the plotted figures as .pngs."
   ]
  },
  {
   "cell_type": "markdown",
   "metadata": {},
   "source": [
    "## Latitude vs. Temperature Plot"
   ]
  },
  {
   "cell_type": "code",
   "execution_count": 53,
   "metadata": {},
   "outputs": [
    {
     "data": {
      "image/png": "[encoded data removed]",
      "text/plain": [
       "<Figure size 432x288 with 1 Axes>"
      ]
     },
     "metadata": {
      "needs_background": "light"
     },
     "output_type": "display_data"
    }
   ],
   "source": [
    "plt.scatter(latitudes, temperatures, marker='o')\n",
    "\n",
    "plt.title(\"City Latitude vs. Max Temperature (07/26/20)\")\n",
    "plt.ylabel(\"Max Temperature(F)\")\n",
    "plt.xlabel(\"Latitude\")\n",
    "plt.grid(True)\n",
    "\n",
    "plt.show()"
   ]
  },
  {
   "cell_type": "markdown",
   "metadata": {},
   "source": [
    "## Latitude vs. Humidity Plot"
   ]
  },
  {
   "cell_type": "code",
   "execution_count": 60,
   "metadata": {},
   "outputs": [
    {
     "data": {
      "image/png": "[encoded data removed]",
      "text/plain": [
       "<Figure size 432x288 with 1 Axes>"
      ]
     },
     "metadata": {
      "needs_background": "light"
     },
     "output_type": "display_data"
    }
   ],
   "source": [
    "plt.scatter(latitudes, humidity, marker='o')\n",
    "\n",
    "plt.title(\"City Latitude vs. Humidity (07/26/20)\")\n",
    "plt.ylabel(\"Humidity (%)\")\n",
    "plt.xlabel(\"Latitude\")\n",
    "plt.grid(True)\n",
    "\n",
    "plt.show()"
   ]
  },
  {
   "cell_type": "markdown",
   "metadata": {},
   "source": [
    "## Latitude vs. Cloudiness Plot"
   ]
  },
  {
   "cell_type": "code",
   "execution_count": 61,
   "metadata": {},
   "outputs": [
    {
     "data": {
      "image/png": "[encoded data removed]",
      "text/plain": [
       "<Figure size 432x288 with 1 Axes>"
      ]
     },
     "metadata": {
      "needs_background": "light"
     },
     "output_type": "display_data"
    }
   ],
   "source": [
    "plt.scatter(latitudes, cloudiness, marker='o')\n",
    "\n",
    "plt.title(\"City Latitude vs. Cloudiness (07/26/20)\")\n",
    "plt.ylabel(\"Cloudiness(%)\")\n",
    "plt.xlabel(\"Latitude\")\n",
    "plt.grid(True)\n",
    "\n",
    "plt.show()"
   ]
  },
  {
   "cell_type": "markdown",
   "metadata": {},
   "source": [
    "## Latitude vs. Wind Speed Plot"
   ]
  },
  {
   "cell_type": "code",
   "execution_count": 62,
   "metadata": {},
   "outputs": [
    {
     "data": {
      "image/png": "[encoded data removed]",
      "text/plain": [
       "<Figure size 432x288 with 1 Axes>"
      ]
     },
     "metadata": {
      "needs_background": "light"
     },
     "output_type": "display_data"
    }
   ],
   "source": [
    "plt.scatter(latitudes, wind_speed, marker='o')\n",
    "\n",
    "plt.title(\"City Latitude vs. Wind Speed (07/26/20)\")\n",
    "plt.ylabel(\"Wind Speed (mph)\")\n",
    "plt.xlabel(\"Latitude\")\n",
    "plt.grid(True)\n",
    "\n",
    "plt.show()"
   ]
  },
  {
   "cell_type": "markdown",
   "metadata": {},
   "source": [
    "## Linear Regression"
   ]
  },
  {
   "cell_type": "code",
   "execution_count": 14,
   "metadata": {},
   "outputs": [],
   "source": [
    "# OPTIONAL: Create a function to create Linear Regression plots"
   ]
  },
  {
   "cell_type": "code",
   "execution_count": 69,
   "metadata": {},
   "outputs": [],
   "source": [
    "# Create Northern and Southern Hemisphere DataFrames\n",
    "norther_weather_df=weather_df.loc[weather_df['Lat']>=0]\n",
    "n_latitudes=norther_weather_df['Lat']\n",
    "n_temperatures=norther_weather_df['Max Temp']\n",
    "n_humidity=norther_weather_df['Humidity']\n",
    "n_cloudiness=norther_weather_df['Cloudiness']\n",
    "n_wind_speed=norther_weather_df['Wind Speed']\n",
    "\n",
    "s_souther_weather_df=weather_df.loc[weather_df['Lat']<0]\n",
    "s_latitudes=souther_weather_df['Lat']\n",
    "s_temperatures=souther_weather_df['Max Temp']\n",
    "s_humidity=souther_weather_df['Humidity']\n",
    "s_cloudiness=souther_weather_df['Cloudiness']\n",
    "s_wind_speed=souther_weather_df['Wind Speed']\n",
    "\n",
    "# norther_weather_df.head()\n",
    "# souther_weather_df.head()"
   ]
  },
  {
   "cell_type": "markdown",
   "metadata": {},
   "source": [
    "####  Northern Hemisphere - Max Temp vs. Latitude Linear Regression"
   ]
  },
  {
   "cell_type": "code",
   "execution_count": 77,
   "metadata": {},
   "outputs": [
    {
     "name": "stdout",
     "output_type": "stream",
     "text": [
      "The r-squared is: 0.39853461227413206\n"
     ]
    },
    {
     "data": {
      "image/png": "[encoded data removed]",
      "text/plain": [
       "<Figure size 432x288 with 1 Axes>"
      ]
     },
     "metadata": {
      "needs_background": "light"
     },
     "output_type": "display_data"
    }
   ],
   "source": [
    "# Perform a linear regression on temperature vs. latitude\n",
    "(slope, intercept, rvalue, pvalue, stderr) = linregress(n_latitudes, n_temperatures)\n",
    "# Get regression values\n",
    "regress_values = n_latitudes * slope + intercept\n",
    "#print(regress_values)\n",
    "# Create line equation string\n",
    "line_eq = \"y = \" + str(round(slope,2)) + \"x +\" + str(round(intercept,2))\n",
    "#print(line_eq)\n",
    "# Create Plot\n",
    "plt.scatter(n_latitudes,n_temperatures)\n",
    "plt.plot(n_latitudes,regress_values,\"r-\")\n",
    "\n",
    "# Label plot and annotate the line equation\n",
    "plt.xlabel('Latitude')\n",
    "plt.ylabel('Max Temp')\n",
    "plt.annotate(line_eq,(5,55),fontsize=15,color=\"red\")\n",
    "\n",
    "# Print r square value\n",
    "print(f\"The r-squared is: {rvalue**2}\")\n",
    "\n",
    "# Show plot\n",
    "plt.show()"
   ]
  },
  {
   "cell_type": "markdown",
   "metadata": {},
   "source": [
    "####  Southern Hemisphere - Max Temp vs. Latitude Linear Regression"
   ]
  },
  {
   "cell_type": "code",
   "execution_count": 81,
   "metadata": {},
   "outputs": [
    {
     "name": "stdout",
     "output_type": "stream",
     "text": [
      "The r-squared is: 0.6164374867755709\n"
     ]
    },
    {
     "data": {
      "image/png": "[encoded data removed]",
      "text/plain": [
       "<Figure size 432x288 with 1 Axes>"
      ]
     },
     "metadata": {
      "needs_background": "light"
     },
     "output_type": "display_data"
    }
   ],
   "source": [
    "# Perform a linear regression on temperature vs. latitude\n",
    "(slope, intercept, rvalue, pvalue, stderr) = linregress(s_latitudes, s_temperatures)\n",
    "# Get regression values\n",
    "regress_values = s_latitudes * slope + intercept\n",
    "#print(regress_values)\n",
    "# Create line equation string\n",
    "line_eq = \"y = \" + str(round(slope,2)) + \"x +\" + str(round(intercept,2))\n",
    "#print(line_eq)\n",
    "# Create Plot\n",
    "plt.scatter(s_latitudes,s_temperatures)\n",
    "plt.plot(s_latitudes,regress_values,\"r-\")\n",
    "\n",
    "# Label plot and annotate the line equation\n",
    "plt.xlabel('Latitude')\n",
    "plt.ylabel('Max Temp')\n",
    "plt.annotate(line_eq,(-55,80),fontsize=15,color=\"red\")\n",
    "\n",
    "# Print r square value\n",
    "print(f\"The r-squared is: {rvalue**2}\")\n",
    "\n",
    "# Show plot\n",
    "plt.show()"
   ]
  },
  {
   "cell_type": "markdown",
   "metadata": {},
   "source": [
    "####  Northern Hemisphere - Humidity (%) vs. Latitude Linear Regression"
   ]
  },
  {
   "cell_type": "code",
   "execution_count": 84,
   "metadata": {},
   "outputs": [
    {
     "name": "stdout",
     "output_type": "stream",
     "text": [
      "The r-squared is: 0.005101250319421484\n"
     ]
    },
    {
     "data": {
      "image/png": "[encoded data removed]",
      "text/plain": [
       "<Figure size 432x288 with 1 Axes>"
      ]
     },
     "metadata": {
      "needs_background": "light"
     },
     "output_type": "display_data"
    }
   ],
   "source": [
    "# Perform a linear regression on temperature vs. latitude\n",
    "(slope, intercept, rvalue, pvalue, stderr) = linregress(n_latitudes, n_humidity)\n",
    "# Get regression values\n",
    "regress_values = n_latitudes * slope + intercept\n",
    "#print(regress_values)\n",
    "# Create line equation string\n",
    "line_eq = \"y = \" + str(round(slope,2)) + \"x +\" + str(round(intercept,2))\n",
    "#print(line_eq)\n",
    "# Create Plot\n",
    "plt.scatter(n_latitudes,n_humidity)\n",
    "plt.plot(n_latitudes,regress_values,\"r-\")\n",
    "\n",
    "# Label plot and annotate the line equation\n",
    "plt.xlabel('Latitude')\n",
    "plt.ylabel('Humidity')\n",
    "plt.annotate(line_eq,(40,10),fontsize=15,color=\"red\")\n",
    "\n",
    "# Print r square value\n",
    "print(f\"The r-squared is: {rvalue**2}\")\n",
    "\n",
    "# Show plot\n",
    "plt.show()"
   ]
  },
  {
   "cell_type": "markdown",
   "metadata": {},
   "source": [
    "####  Southern Hemisphere - Humidity (%) vs. Latitude Linear Regression"
   ]
  },
  {
   "cell_type": "code",
   "execution_count": 87,
   "metadata": {},
   "outputs": [
    {
     "name": "stdout",
     "output_type": "stream",
     "text": [
      "The r-squared is: 0.011247293701897176\n"
     ]
    },
    {
     "data": {
      "image/png": "[encoded data removed]",
      "text/plain": [
       "<Figure size 432x288 with 1 Axes>"
      ]
     },
     "metadata": {
      "needs_background": "light"
     },
     "output_type": "display_data"
    }
   ],
   "source": [
    "# Perform a linear regression on temperature vs. latitude\n",
    "(slope, intercept, rvalue, pvalue, stderr) = linregress(s_latitudes, s_humidity)\n",
    "# Get regression values\n",
    "regress_values = s_latitudes * slope + intercept\n",
    "#print(regress_values)\n",
    "# Create line equation string\n",
    "line_eq = \"y = \" + str(round(slope,2)) + \"x +\" + str(round(intercept,2))\n",
    "#print(line_eq)\n",
    "# Create Plot\n",
    "plt.scatter(s_latitudes,s_humidity)\n",
    "plt.plot(s_latitudes,regress_values,\"r-\")\n",
    "\n",
    "# Label plot and annotate the line equation\n",
    "plt.xlabel('Latitude')\n",
    "plt.ylabel('Humidity')\n",
    "plt.annotate(line_eq,(-50,30),fontsize=15,color=\"red\")\n",
    "\n",
    "# Print r square value\n",
    "print(f\"The r-squared is: {rvalue**2}\")\n",
    "\n",
    "# Show plot\n",
    "plt.show()"
   ]
  },
  {
   "cell_type": "markdown",
   "metadata": {},
   "source": [
    "####  Northern Hemisphere - Cloudiness (%) vs. Latitude Linear Regression"
   ]
  },
  {
   "cell_type": "code",
   "execution_count": 89,
   "metadata": {},
   "outputs": [
    {
     "name": "stdout",
     "output_type": "stream",
     "text": [
      "The r-squared is: 5.141917152320586e-05\n"
     ]
    },
    {
     "data": {
      "image/png": "[encoded data removed]",
      "text/plain": [
       "<Figure size 432x288 with 1 Axes>"
      ]
     },
     "metadata": {
      "needs_background": "light"
     },
     "output_type": "display_data"
    }
   ],
   "source": [
    "# Perform a linear regression on temperature vs. latitude\n",
    "(slope, intercept, rvalue, pvalue, stderr) = linregress(n_latitudes, n_cloudiness)\n",
    "# Get regression values\n",
    "regress_values = n_latitudes * slope + intercept\n",
    "#print(regress_values)\n",
    "# Create line equation string\n",
    "line_eq = \"y = \" + str(round(slope,2)) + \"x +\" + str(round(intercept,2))\n",
    "#print(line_eq)\n",
    "# Create Plot\n",
    "plt.scatter(n_latitudes,n_cloudiness)\n",
    "plt.plot(n_latitudes,regress_values,\"r-\")\n",
    "\n",
    "# Label plot and annotate the line equation\n",
    "plt.xlabel('Latitude')\n",
    "plt.ylabel('Cloudiness')\n",
    "plt.annotate(line_eq,(40,10),fontsize=15,color=\"red\")\n",
    "\n",
    "# Print r square value\n",
    "print(f\"The r-squared is: {rvalue**2}\")\n",
    "\n",
    "# Show plot\n",
    "plt.show()"
   ]
  },
  {
   "cell_type": "markdown",
   "metadata": {},
   "source": [
    "####  Southern Hemisphere - Cloudiness (%) vs. Latitude Linear Regression"
   ]
  },
  {
   "cell_type": "code",
   "execution_count": 92,
   "metadata": {},
   "outputs": [
    {
     "name": "stdout",
     "output_type": "stream",
     "text": [
      "The r-squared is: 0.004711595956631444\n"
     ]
    },
    {
     "data": {
      "image/png": "[encoded data removed]",
      "text/plain": [
       "<Figure size 432x288 with 1 Axes>"
      ]
     },
     "metadata": {
      "needs_background": "light"
     },
     "output_type": "display_data"
    }
   ],
   "source": [
    "# Perform a linear regression on temperature vs. latitude\n",
    "(slope, intercept, rvalue, pvalue, stderr) = linregress(s_latitudes, s_cloudiness)\n",
    "# Get regression values\n",
    "regress_values = s_latitudes * slope + intercept\n",
    "#print(regress_values)\n",
    "# Create line equation string\n",
    "line_eq = \"y = \" + str(round(slope,2)) + \"x +\" + str(round(intercept,2))\n",
    "#print(line_eq)\n",
    "# Create Plot\n",
    "plt.scatter(s_latitudes,s_cloudiness)\n",
    "plt.plot(s_latitudes,regress_values,\"r-\")\n",
    "\n",
    "# Label plot and annotate the line equation\n",
    "plt.xlabel('Latitude')\n",
    "plt.ylabel('Cloudiness')\n",
    "plt.annotate(line_eq,(-30,30),fontsize=15,color=\"red\")\n",
    "\n",
    "# Print r square value\n",
    "print(f\"The r-squared is: {rvalue**2}\")\n",
    "\n",
    "# Show plot\n",
    "plt.show()"
   ]
  },
  {
   "cell_type": "markdown",
   "metadata": {},
   "source": [
    "####  Northern Hemisphere - Wind Speed (mph) vs. Latitude Linear Regression"
   ]
  },
  {
   "cell_type": "code",
   "execution_count": 95,
   "metadata": {},
   "outputs": [
    {
     "name": "stdout",
     "output_type": "stream",
     "text": [
      "The r-squared is: 0.003099368327365178\n"
     ]
    },
    {
     "data": {
      "image/png": "[encoded data removed]",
      "text/plain": [
       "<Figure size 432x288 with 1 Axes>"
      ]
     },
     "metadata": {
      "needs_background": "light"
     },
     "output_type": "display_data"
    }
   ],
   "source": [
    "# Perform a linear regression on temperature vs. latitude\n",
    "(slope, intercept, rvalue, pvalue, stderr) = linregress(n_latitudes, n_wind_speed)\n",
    "# Get regression values\n",
    "regress_values = n_latitudes * slope + intercept\n",
    "#print(regress_values)\n",
    "# Create line equation string\n",
    "line_eq = \"y = \" + str(round(slope,2)) + \"x +\" + str(round(intercept,2))\n",
    "#print(line_eq)\n",
    "# Create Plot\n",
    "plt.scatter(n_latitudes, n_wind_speed)\n",
    "plt.plot(n_latitudes,regress_values,\"r-\")\n",
    "\n",
    "# Label plot and annotate the line equation\n",
    "plt.xlabel('Latitude')\n",
    "plt.ylabel('Wind Speed')\n",
    "plt.annotate(line_eq,(40,15),fontsize=15,color=\"red\")\n",
    "\n",
    "# Print r square value\n",
    "print(f\"The r-squared is: {rvalue**2}\")\n",
    "\n",
    "# Show plot\n",
    "plt.show()"
   ]
  },
  {
   "cell_type": "markdown",
   "metadata": {},
   "source": [
    "####  Southern Hemisphere - Wind Speed (mph) vs. Latitude Linear Regression"
   ]
  },
  {
   "cell_type": "code",
   "execution_count": 99,
   "metadata": {},
   "outputs": [
    {
     "name": "stdout",
     "output_type": "stream",
     "text": [
      "The r-squared is: 0.01257501925010261\n"
     ]
    },
    {
     "data": {
      "image/png": "[encoded data removed]",
      "text/plain": [
       "<Figure size 432x288 with 1 Axes>"
      ]
     },
     "metadata": {
      "needs_background": "light"
     },
     "output_type": "display_data"
    }
   ],
   "source": [
    "# Perform a linear regression on temperature vs. latitude\n",
    "(slope, intercept, rvalue, pvalue, stderr) = linregress(s_latitudes, s_wind_speed)\n",
    "# Get regression values\n",
    "regress_values = s_latitudes * slope + intercept\n",
    "#print(regress_values)\n",
    "# Create line equation string\n",
    "line_eq = \"y = \" + str(round(slope,2)) + \"x +\" + str(round(intercept,2))\n",
    "#print(line_eq)\n",
    "# Create Plot\n",
    "plt.scatter(s_latitudes, s_wind_speed)\n",
    "plt.plot(s_latitudes,regress_values,\"r-\")\n",
    "\n",
    "# Label plot and annotate the line equation\n",
    "plt.xlabel('Latitude')\n",
    "plt.ylabel('Wind Speed')\n",
    "plt.annotate(line_eq,(-50,25),fontsize=15,color=\"red\")\n",
    "\n",
    "# Print r square value\n",
    "print(f\"The r-squared is: {rvalue**2}\")\n",
    "\n",
    "# Show plot\n",
    "plt.show()"
   ]
  },
  {
   "cell_type": "code",
   "execution_count": null,
   "metadata": {},
   "outputs": [],
   "source": []
  }
 ],
 "metadata": {
  "anaconda-cloud": {},
  "kernel_info": {
   "name": "python3"
  },
  "kernelspec": {
   "display_name": "Python 3",
   "language": "python",
   "name": "python3"
  },
  "language_info": {
   "codemirror_mode": {
    "name": "ipython",
    "version": 3
   },
   "file_extension": ".py",
   "mimetype": "text/x-python",
   "name": "python",
   "nbconvert_exporter": "python",
   "pygments_lexer": "ipython3",
   "version": "3.7.6"
  },
  "latex_envs": {
   "LaTeX_envs_menu_present": true,
   "autoclose": false,
   "autocomplete": true,
   "bibliofile": "biblio.bib",
   "cite_by": "apalike",
   "current_citInitial": 1,
   "eqLabelWithNumbers": true,
   "eqNumInitial": 1,
   "hotkeys": {
    "equation": "Ctrl-E",
    "itemize": "Ctrl-I"
   },
   "labels_anchors": false,
   "latex_user_defs": false,
   "report_style_numbering": false,
   "user_envs_cfg": false
  },
  "nteract": {
   "version": "0.12.3"
  }
 },
 "nbformat": 4,
 "nbformat_minor": 2
}
