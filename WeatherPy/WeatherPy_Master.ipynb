{
 "cells": [
  {
   "cell_type": "markdown",
   "metadata": {},
   "source": [
    "# WeatherPy\n",
    "----\n",
    "\n",
    "#### Note\n",
    "* Instructions have been included for each segment. You do not have to follow them exactly, but they are included to help you think through the steps."
   ]
  },
  {
   "cell_type": "code",
   "execution_count": 1,
   "metadata": {
    "scrolled": true
   },
   "outputs": [],
   "source": [
    "# Dependencies and Setup\n",
    "import matplotlib.pyplot as plt\n",
    "import pandas as pd\n",
    "import numpy as np\n",
    "import requests\n",
    "import time\n",
    "from scipy.stats import linregress\n",
    "\n",
    "# Import API key\n",
    "from api_keys import weather_api_key\n",
    "\n",
    "# Incorporated citipy to determine city based on latitude and longitude\n",
    "from citipy import citipy\n",
    "\n",
    "# Save config information\n",
    "url = \"http://api.openweathermap.org/data/2.5/weather?\"\n",
    "units='imperial'\n",
    "\n",
    "# Output File (CSV)\n",
    "output_data_file = \"output_data/cities.csv\"\n",
    "\n",
    "# Range of latitudes and longitudes\n",
    "lat_range = (-90, 90)\n",
    "lng_range = (-180, 180)"
   ]
  },
  {
   "cell_type": "markdown",
   "metadata": {},
   "source": [
    "## Generate Cities List"
   ]
  },
  {
   "cell_type": "code",
   "execution_count": 2,
   "metadata": {},
   "outputs": [
    {
     "data": {
      "text/plain": [
       "638"
      ]
     },
     "execution_count": 2,
     "metadata": {},
     "output_type": "execute_result"
    }
   ],
   "source": [
    "# List for holding lat_lngs and cities\n",
    "lat_lngs = []\n",
    "cities = []\n",
    "\n",
    "# Create a set of random lat and lng combinations\n",
    "lats = np.random.uniform(lat_range[0], lat_range[1], size=1500)\n",
    "lngs = np.random.uniform(lng_range[0], lng_range[1], size=1500)\n",
    "lat_lngs = zip(lats, lngs)\n",
    "\n",
    "\n",
    "# Identify nearest city for each lat, lng combination\n",
    "for lat_lng in lat_lngs:\n",
    "    city = citipy.nearest_city(lat_lng[0], lat_lng[1]).city_name\n",
    "    \n",
    "#     If the city is unique, then add it to a our cities list\n",
    "    if city not in cities:\n",
    "        cities.append(city)\n",
    "\n",
    "# Print the city count to confirm sufficient count\n",
    "len(cities)"
   ]
  },
  {
   "cell_type": "markdown",
   "metadata": {},
   "source": [
    "### Perform API Calls\n",
    "* Perform a weather check on each city using a series of successive API calls.\n",
    "* Include a print log of each city as it'sbeing processed (with the city number and city name).\n"
   ]
  },
  {
   "cell_type": "code",
   "execution_count": 3,
   "metadata": {},
   "outputs": [
    {
     "name": "stdout",
     "output_type": "stream",
     "text": [
      "Beginning Data Retrieval\n",
      "-----------------------------\n",
      "Processing Record 1 of Set 1 | da nang\n",
      "City not found. Skipping...\n",
      "Processing Record 3 of Set 1 | punta arenas\n",
      "Processing Record 4 of Set 1 | pangnirtung\n",
      "Processing Record 5 of Set 1 | ucluelet\n",
      "Processing Record 6 of Set 1 | port macquarie\n",
      "Processing Record 7 of Set 1 | albany\n",
      "Processing Record 8 of Set 1 | grand forks\n",
      "Processing Record 9 of Set 1 | arraial do cabo\n",
      "Processing Record 10 of Set 1 | luderitz\n",
      "Processing Record 11 of Set 1 | mogadishu\n",
      "Processing Record 12 of Set 1 | bredasdorp\n",
      "Processing Record 13 of Set 1 | flinders\n",
      "Processing Record 14 of Set 1 | lively\n",
      "Processing Record 15 of Set 1 | leningradskiy\n",
      "Processing Record 16 of Set 1 | san rafael\n",
      "Processing Record 17 of Set 1 | laguna\n",
      "City not found. Skipping...\n",
      "Processing Record 19 of Set 1 | avarua\n",
      "Processing Record 20 of Set 1 | hithadhoo\n",
      "Processing Record 21 of Set 1 | busselton\n",
      "Processing Record 22 of Set 1 | puerto ayora\n",
      "Processing Record 23 of Set 1 | hilo\n",
      "Processing Record 24 of Set 1 | yulara\n",
      "Processing Record 25 of Set 1 | manosque\n",
      "Processing Record 26 of Set 1 | talnakh\n",
      "Processing Record 27 of Set 1 | mataura\n",
      "Processing Record 28 of Set 1 | port alfred\n",
      "Processing Record 29 of Set 1 | richards bay\n",
      "Processing Record 30 of Set 1 | vaini\n",
      "Processing Record 31 of Set 1 | rikitea\n",
      "Processing Record 32 of Set 1 | sokolo\n",
      "Processing Record 33 of Set 1 | tuktoyaktuk\n",
      "Processing Record 34 of Set 1 | araouane\n",
      "Processing Record 35 of Set 1 | moosomin\n",
      "Processing Record 36 of Set 1 | port elizabeth\n",
      "Processing Record 37 of Set 1 | onda\n",
      "Processing Record 38 of Set 1 | berlevag\n",
      "Processing Record 39 of Set 1 | ushuaia\n",
      "Processing Record 40 of Set 1 | nantucket\n",
      "Processing Record 41 of Set 1 | ringebu\n",
      "Processing Record 42 of Set 1 | bluff\n",
      "Processing Record 43 of Set 1 | kota\n",
      "Processing Record 44 of Set 1 | yellowknife\n",
      "Processing Record 45 of Set 1 | fairbanks\n",
      "Processing Record 46 of Set 1 | nizhniy kuranakh\n",
      "Processing Record 47 of Set 1 | dikson\n",
      "Processing Record 48 of Set 1 | barrow\n",
      "Processing Record 49 of Set 1 | emerald\n",
      "Processing Record 50 of Set 1 | nikolskoye\n",
      "Processing Record 1 of Set 2 | saldanha\n",
      "Processing Record 2 of Set 2 | iquitos\n",
      "Processing Record 3 of Set 2 | xinzhi\n",
      "Processing Record 4 of Set 2 | bengkulu\n",
      "Processing Record 5 of Set 2 | chikwawa\n",
      "Processing Record 6 of Set 2 | turukhansk\n",
      "Processing Record 7 of Set 2 | chokurdakh\n",
      "Processing Record 8 of Set 2 | thompson\n",
      "Processing Record 9 of Set 2 | new norfolk\n",
      "Processing Record 10 of Set 2 | avesta\n",
      "Processing Record 11 of Set 2 | provideniya\n",
      "Processing Record 12 of Set 2 | diffa\n",
      "Processing Record 13 of Set 2 | svetlaya\n",
      "Processing Record 14 of Set 2 | salalah\n",
      "Processing Record 15 of Set 2 | sitka\n",
      "City not found. Skipping...\n",
      "Processing Record 17 of Set 2 | khartoum\n",
      "Processing Record 18 of Set 2 | nacala\n",
      "Processing Record 19 of Set 2 | carnarvon\n",
      "Processing Record 20 of Set 2 | san angelo\n",
      "Processing Record 21 of Set 2 | east london\n",
      "City not found. Skipping...\n",
      "Processing Record 23 of Set 2 | hamilton\n",
      "Processing Record 24 of Set 2 | saskylakh\n",
      "Processing Record 25 of Set 2 | youghal\n",
      "Processing Record 26 of Set 2 | kumluca\n",
      "Processing Record 27 of Set 2 | tessalit\n",
      "Processing Record 28 of Set 2 | kalmunai\n",
      "Processing Record 29 of Set 2 | katsuura\n",
      "Processing Record 30 of Set 2 | airai\n",
      "Processing Record 31 of Set 2 | debelec\n",
      "Processing Record 32 of Set 2 | clyde river\n",
      "City not found. Skipping...\n",
      "Processing Record 34 of Set 2 | oussouye\n",
      "Processing Record 35 of Set 2 | plettenberg bay\n",
      "City not found. Skipping...\n",
      "Processing Record 37 of Set 2 | tezu\n",
      "Processing Record 38 of Set 2 | san luis\n",
      "Processing Record 39 of Set 2 | severo-kurilsk\n",
      "City not found. Skipping...\n",
      "Processing Record 41 of Set 2 | vestmanna\n",
      "Processing Record 42 of Set 2 | upernavik\n",
      "Processing Record 43 of Set 2 | athabasca\n",
      "Processing Record 44 of Set 2 | batticaloa\n",
      "Processing Record 45 of Set 2 | kruisfontein\n",
      "Processing Record 46 of Set 2 | foumban\n",
      "Processing Record 47 of Set 2 | college\n",
      "Processing Record 48 of Set 2 | jamestown\n",
      "Processing Record 49 of Set 2 | muros\n",
      "Processing Record 50 of Set 2 | santa lucia\n",
      "Processing Record 1 of Set 3 | cidreira\n",
      "Processing Record 2 of Set 3 | souillac\n",
      "Processing Record 3 of Set 3 | lichuan\n",
      "Processing Record 4 of Set 3 | tasiilaq\n",
      "Processing Record 5 of Set 3 | kaitangata\n",
      "Processing Record 6 of Set 3 | hobart\n",
      "Processing Record 7 of Set 3 | codrington\n",
      "City not found. Skipping...\n",
      "Processing Record 9 of Set 3 | nicoya\n",
      "Processing Record 10 of Set 3 | hermanus\n",
      "Processing Record 11 of Set 3 | ilulissat\n",
      "Processing Record 12 of Set 3 | kodiak\n",
      "Processing Record 13 of Set 3 | nome\n",
      "Processing Record 14 of Set 3 | geraldton\n",
      "Processing Record 15 of Set 3 | springbok\n",
      "Processing Record 16 of Set 3 | chuy\n",
      "Processing Record 17 of Set 3 | sao jose da coroa grande\n",
      "City not found. Skipping...\n",
      "Processing Record 19 of Set 3 | lumeje\n",
      "Processing Record 20 of Set 3 | butaritari\n",
      "Processing Record 21 of Set 3 | axim\n",
      "Processing Record 22 of Set 3 | lebu\n",
      "Processing Record 23 of Set 3 | nouakchott\n",
      "Processing Record 24 of Set 3 | karratha\n",
      "Processing Record 25 of Set 3 | shingu\n",
      "Processing Record 26 of Set 3 | tocopilla\n",
      "Processing Record 27 of Set 3 | yakima\n",
      "Processing Record 28 of Set 3 | coahuayana\n",
      "Processing Record 29 of Set 3 | romny\n",
      "Processing Record 30 of Set 3 | qaanaaq\n",
      "Processing Record 31 of Set 3 | longyearbyen\n",
      "Processing Record 32 of Set 3 | fort nelson\n",
      "Processing Record 33 of Set 3 | beoumi\n",
      "Processing Record 34 of Set 3 | lakes entrance\n",
      "Processing Record 35 of Set 3 | talaya\n",
      "Processing Record 36 of Set 3 | pevek\n",
      "Processing Record 37 of Set 3 | batagay-alyta\n",
      "City not found. Skipping...\n",
      "Processing Record 39 of Set 3 | victoria\n",
      "Processing Record 40 of Set 3 | aleysk\n",
      "Processing Record 41 of Set 3 | saint-pierre\n",
      "Processing Record 42 of Set 3 | mouila\n",
      "Processing Record 43 of Set 3 | fortuna\n",
      "Processing Record 44 of Set 3 | kahului\n",
      "Processing Record 45 of Set 3 | esperance\n",
      "Processing Record 46 of Set 3 | kapaa\n",
      "Processing Record 47 of Set 3 | hambantota\n",
      "Processing Record 48 of Set 3 | kimbe\n",
      "Processing Record 49 of Set 3 | madimba\n",
      "Processing Record 50 of Set 3 | yar-sale\n",
      "Processing Record 1 of Set 4 | ixtapa\n",
      "Processing Record 2 of Set 4 | pacific grove\n",
      "Processing Record 3 of Set 4 | purranque\n",
      "Processing Record 4 of Set 4 | vrangel\n",
      "Processing Record 5 of Set 4 | sampang\n",
      "Processing Record 6 of Set 4 | castro\n",
      "Processing Record 7 of Set 4 | vung tau\n",
      "City not found. Skipping...\n",
      "Processing Record 9 of Set 4 | bakchar\n",
      "City not found. Skipping...\n",
      "Processing Record 11 of Set 4 | torbay\n",
      "Processing Record 12 of Set 4 | lanxi\n",
      "Processing Record 13 of Set 4 | pangai\n",
      "Processing Record 14 of Set 4 | khatanga\n",
      "Processing Record 15 of Set 4 | colombo\n",
      "Processing Record 16 of Set 4 | sayyan\n",
      "Processing Record 17 of Set 4 | alofi\n",
      "Processing Record 18 of Set 4 | liverpool\n",
      "City not found. Skipping...\n",
      "Processing Record 20 of Set 4 | ishinomaki\n",
      "Processing Record 21 of Set 4 | saint george\n",
      "Processing Record 22 of Set 4 | ribeira grande\n",
      "Processing Record 23 of Set 4 | cap-aux-meules\n",
      "Processing Record 24 of Set 4 | camacupa\n",
      "Processing Record 25 of Set 4 | yuzhno-kurilsk\n",
      "Processing Record 26 of Set 4 | kamina\n",
      "Processing Record 27 of Set 4 | ayolas\n",
      "Processing Record 28 of Set 4 | ruteng\n",
      "Processing Record 29 of Set 4 | dawei\n",
      "Processing Record 30 of Set 4 | jijiang\n",
      "City not found. Skipping...\n",
      "Processing Record 32 of Set 4 | harper\n",
      "Processing Record 33 of Set 4 | pecos\n",
      "Processing Record 34 of Set 4 | areosa\n",
      "Processing Record 35 of Set 4 | adrar\n",
      "Processing Record 36 of Set 4 | sacramento\n",
      "Processing Record 37 of Set 4 | pinawa\n",
      "Processing Record 38 of Set 4 | touros\n",
      "Processing Record 39 of Set 4 | klaksvik\n",
      "Processing Record 40 of Set 4 | visby\n",
      "Processing Record 41 of Set 4 | sao joao da barra\n",
      "Processing Record 42 of Set 4 | changuinola\n",
      "Processing Record 43 of Set 4 | vega de alatorre\n",
      "Processing Record 44 of Set 4 | necochea\n",
      "Processing Record 45 of Set 4 | esmeraldas\n",
      "Processing Record 46 of Set 4 | pitimbu\n",
      "Processing Record 47 of Set 4 | capitan bado\n",
      "Processing Record 48 of Set 4 | aberdeen\n",
      "Processing Record 49 of Set 4 | padang\n",
      "Processing Record 50 of Set 4 | adeje\n",
      "Processing Record 1 of Set 5 | pinega\n",
      "Processing Record 2 of Set 5 | narsaq\n",
      "Processing Record 3 of Set 5 | paratinga\n"
     ]
    },
    {
     "name": "stdout",
     "output_type": "stream",
     "text": [
      "Processing Record 4 of Set 5 | mehamn\n",
      "Processing Record 5 of Set 5 | terra santa\n",
      "Processing Record 6 of Set 5 | pierre\n",
      "Processing Record 7 of Set 5 | te anau\n",
      "Processing Record 8 of Set 5 | fenoarivo\n",
      "Processing Record 9 of Set 5 | abu kamal\n",
      "City not found. Skipping...\n",
      "Processing Record 11 of Set 5 | susangerd\n",
      "Processing Record 12 of Set 5 | sobolevo\n",
      "Processing Record 13 of Set 5 | waldoboro\n",
      "Processing Record 14 of Set 5 | ahuimanu\n",
      "Processing Record 15 of Set 5 | batagay\n",
      "Processing Record 16 of Set 5 | la union\n",
      "Processing Record 17 of Set 5 | saint-philippe\n",
      "Processing Record 18 of Set 5 | pedasi\n",
      "Processing Record 19 of Set 5 | iqaluit\n",
      "Processing Record 20 of Set 5 | haines junction\n",
      "Processing Record 21 of Set 5 | juneau\n",
      "Processing Record 22 of Set 5 | rasipuram\n",
      "Processing Record 23 of Set 5 | mahebourg\n",
      "Processing Record 24 of Set 5 | bambous virieux\n",
      "Processing Record 25 of Set 5 | flin flon\n",
      "Processing Record 26 of Set 5 | derzhavinsk\n",
      "Processing Record 27 of Set 5 | shimoda\n",
      "Processing Record 28 of Set 5 | lima\n",
      "Processing Record 29 of Set 5 | egra\n",
      "Processing Record 30 of Set 5 | muriwai beach\n",
      "Processing Record 31 of Set 5 | lorengau\n",
      "City not found. Skipping...\n",
      "Processing Record 33 of Set 5 | okhotsk\n",
      "Processing Record 34 of Set 5 | gravelbourg\n",
      "City not found. Skipping...\n",
      "Processing Record 36 of Set 5 | baykit\n",
      "Processing Record 37 of Set 5 | olga\n",
      "Processing Record 38 of Set 5 | port hedland\n",
      "Processing Record 39 of Set 5 | cape town\n",
      "Processing Record 40 of Set 5 | cuiaba\n",
      "Processing Record 41 of Set 5 | pau\n",
      "Processing Record 42 of Set 5 | san borja\n",
      "City not found. Skipping...\n",
      "City not found. Skipping...\n",
      "Processing Record 45 of Set 5 | kutum\n",
      "Processing Record 46 of Set 5 | matara\n",
      "Processing Record 47 of Set 5 | waitara\n",
      "Processing Record 48 of Set 5 | gao\n",
      "Processing Record 49 of Set 5 | ferrol\n",
      "Processing Record 50 of Set 5 | whitehorse\n",
      "Processing Record 1 of Set 6 | minab\n",
      "Processing Record 2 of Set 6 | coquimbo\n",
      "Processing Record 3 of Set 6 | bathsheba\n",
      "City not found. Skipping...\n",
      "Processing Record 5 of Set 6 | santo domingo\n",
      "Processing Record 6 of Set 6 | santa isabel do rio negro\n",
      "Processing Record 7 of Set 6 | cimislia\n",
      "Processing Record 8 of Set 6 | kuusankoski\n",
      "Processing Record 9 of Set 6 | belmonte\n",
      "Processing Record 10 of Set 6 | jumla\n",
      "Processing Record 11 of Set 6 | san patricio\n",
      "Processing Record 12 of Set 6 | norman wells\n",
      "Processing Record 13 of Set 6 | atuona\n",
      "Processing Record 14 of Set 6 | samarai\n",
      "Processing Record 15 of Set 6 | kismayo\n",
      "Processing Record 16 of Set 6 | pisco\n",
      "Processing Record 17 of Set 6 | bereda\n",
      "Processing Record 18 of Set 6 | miragoane\n",
      "Processing Record 19 of Set 6 | kangaatsiaq\n",
      "Processing Record 20 of Set 6 | aloleng\n",
      "Processing Record 21 of Set 6 | alice springs\n",
      "Processing Record 22 of Set 6 | freeport\n",
      "City not found. Skipping...\n",
      "Processing Record 24 of Set 6 | guaraniacu\n",
      "Processing Record 25 of Set 6 | ulaangom\n",
      "Processing Record 26 of Set 6 | lagoa\n",
      "Processing Record 27 of Set 6 | saint-joseph\n",
      "Processing Record 28 of Set 6 | adelaide\n",
      "Processing Record 29 of Set 6 | myanaung\n",
      "Processing Record 30 of Set 6 | rota\n",
      "Processing Record 31 of Set 6 | jaguaribe\n",
      "Processing Record 32 of Set 6 | awjilah\n",
      "Processing Record 33 of Set 6 | georgetown\n",
      "City not found. Skipping...\n",
      "Processing Record 35 of Set 6 | anadyr\n",
      "Processing Record 36 of Set 6 | cherskiy\n",
      "Processing Record 37 of Set 6 | buala\n",
      "Processing Record 38 of Set 6 | sorong\n",
      "Processing Record 39 of Set 6 | cayenne\n",
      "Processing Record 40 of Set 6 | cabo san lucas\n",
      "Processing Record 41 of Set 6 | iquique\n",
      "Processing Record 42 of Set 6 | invermere\n",
      "Processing Record 43 of Set 6 | itarema\n",
      "Processing Record 44 of Set 6 | rokytne\n",
      "Processing Record 45 of Set 6 | sorland\n",
      "Processing Record 46 of Set 6 | los llanos de aridane\n",
      "Processing Record 47 of Set 6 | dzhebariki-khaya\n",
      "Processing Record 48 of Set 6 | bandar\n",
      "Processing Record 49 of Set 6 | beba\n",
      "Processing Record 50 of Set 6 | shu\n",
      "Processing Record 1 of Set 7 | havelock\n",
      "Processing Record 2 of Set 7 | kavieng\n",
      "Processing Record 3 of Set 7 | usinsk\n",
      "Processing Record 4 of Set 7 | mattawa\n",
      "City not found. Skipping...\n",
      "Processing Record 6 of Set 7 | bastia\n",
      "City not found. Skipping...\n",
      "Processing Record 8 of Set 7 | zambezi\n",
      "Processing Record 9 of Set 7 | umm kaddadah\n",
      "Processing Record 10 of Set 7 | aklavik\n",
      "City not found. Skipping...\n",
      "Processing Record 12 of Set 7 | nanortalik\n",
      "Processing Record 13 of Set 7 | jiazi\n",
      "Processing Record 14 of Set 7 | portlethen\n",
      "Processing Record 15 of Set 7 | eldoret\n",
      "Processing Record 16 of Set 7 | tuatapere\n",
      "Processing Record 17 of Set 7 | shenjiamen\n",
      "Processing Record 18 of Set 7 | moron\n",
      "Processing Record 19 of Set 7 | buchanan\n",
      "Processing Record 20 of Set 7 | koslan\n",
      "Processing Record 21 of Set 7 | guasdualito\n",
      "Processing Record 22 of Set 7 | ukiah\n",
      "Processing Record 23 of Set 7 | champerico\n",
      "Processing Record 24 of Set 7 | mizdah\n",
      "Processing Record 25 of Set 7 | poum\n",
      "Processing Record 26 of Set 7 | nishihara\n",
      "Processing Record 27 of Set 7 | dzaoudzi\n",
      "Processing Record 28 of Set 7 | salo\n",
      "Processing Record 29 of Set 7 | ajdabiya\n",
      "Processing Record 30 of Set 7 | tereze\n",
      "Processing Record 31 of Set 7 | abu samrah\n",
      "Processing Record 32 of Set 7 | puente grande\n",
      "Processing Record 33 of Set 7 | villa bruzual\n",
      "Processing Record 34 of Set 7 | sosnovo-ozerskoye\n",
      "Processing Record 35 of Set 7 | le port\n",
      "Processing Record 36 of Set 7 | baoning\n",
      "Processing Record 37 of Set 7 | nouadhibou\n",
      "Processing Record 38 of Set 7 | sioux lookout\n",
      "Processing Record 39 of Set 7 | tulum\n",
      "Processing Record 40 of Set 7 | diamantino\n",
      "Processing Record 41 of Set 7 | patancheru\n",
      "Processing Record 42 of Set 7 | ancud\n",
      "Processing Record 43 of Set 7 | bethel\n",
      "Processing Record 44 of Set 7 | choix\n",
      "Processing Record 45 of Set 7 | hofn\n",
      "Processing Record 46 of Set 7 | umm lajj\n",
      "Processing Record 47 of Set 7 | villa juarez\n",
      "Processing Record 48 of Set 7 | mar del plata\n",
      "Processing Record 49 of Set 7 | constitucion\n",
      "City not found. Skipping...\n",
      "Processing Record 1 of Set 8 | iracoubo\n",
      "Processing Record 2 of Set 8 | ahipara\n",
      "Processing Record 3 of Set 8 | keflavik\n",
      "Processing Record 4 of Set 8 | oksfjord\n",
      "Processing Record 5 of Set 8 | amapa\n",
      "Processing Record 6 of Set 8 | zaysan\n",
      "Processing Record 7 of Set 8 | santa barbara\n",
      "Processing Record 8 of Set 8 | zhuhai\n",
      "Processing Record 9 of Set 8 | tautira\n",
      "Processing Record 10 of Set 8 | santarem\n",
      "Processing Record 11 of Set 8 | lompoc\n",
      "Processing Record 12 of Set 8 | strezhevoy\n",
      "Processing Record 13 of Set 8 | hachinohe\n",
      "Processing Record 14 of Set 8 | ahualulco\n",
      "Processing Record 15 of Set 8 | kavaratti\n",
      "Processing Record 16 of Set 8 | husavik\n",
      "Processing Record 17 of Set 8 | beira\n",
      "Processing Record 18 of Set 8 | lavrentiya\n",
      "Processing Record 19 of Set 8 | parainen\n",
      "Processing Record 20 of Set 8 | auki\n",
      "Processing Record 21 of Set 8 | atar\n",
      "Processing Record 22 of Set 8 | chernyshevskiy\n",
      "Processing Record 23 of Set 8 | imbituba\n",
      "Processing Record 24 of Set 8 | ban nahin\n",
      "Processing Record 25 of Set 8 | tilichiki\n",
      "Processing Record 26 of Set 8 | srednekolymsk\n",
      "Processing Record 27 of Set 8 | vasto\n",
      "Processing Record 28 of Set 8 | kyzyl-suu\n",
      "Processing Record 29 of Set 8 | riyadh\n",
      "Processing Record 30 of Set 8 | erenhot\n",
      "Processing Record 31 of Set 8 | east angus\n",
      "Processing Record 32 of Set 8 | peachland\n",
      "Processing Record 33 of Set 8 | aksarka\n",
      "Processing Record 34 of Set 8 | tunapuna\n",
      "Processing Record 35 of Set 8 | ponta do sol\n",
      "Processing Record 36 of Set 8 | lasa\n",
      "City not found. Skipping...\n",
      "City not found. Skipping...\n",
      "Processing Record 39 of Set 8 | pontes e lacerda\n",
      "Processing Record 40 of Set 8 | taber\n",
      "Processing Record 41 of Set 8 | warrington\n",
      "Processing Record 42 of Set 8 | tiksi\n",
      "City not found. Skipping...\n",
      "Processing Record 44 of Set 8 | luba\n",
      "Processing Record 45 of Set 8 | orizona\n",
      "Processing Record 46 of Set 8 | sao miguel do araguaia\n",
      "Processing Record 47 of Set 8 | bayan\n",
      "City not found. Skipping...\n",
      "Processing Record 49 of Set 8 | yeppoon\n",
      "Processing Record 50 of Set 8 | banda aceh\n",
      "Processing Record 1 of Set 9 | barcelos\n",
      "Processing Record 2 of Set 9 | bukan\n",
      "Processing Record 3 of Set 9 | la orilla\n",
      "Processing Record 4 of Set 9 | skegness\n",
      "City not found. Skipping...\n",
      "City not found. Skipping...\n",
      "Processing Record 7 of Set 9 | pimenta bueno\n",
      "Processing Record 8 of Set 9 | clyde\n"
     ]
    },
    {
     "name": "stdout",
     "output_type": "stream",
     "text": [
      "Processing Record 9 of Set 9 | tura\n",
      "Processing Record 10 of Set 9 | bandarbeyla\n",
      "Processing Record 11 of Set 9 | jiaozhou\n",
      "City not found. Skipping...\n",
      "City not found. Skipping...\n",
      "Processing Record 14 of Set 9 | isangel\n",
      "City not found. Skipping...\n",
      "Processing Record 16 of Set 9 | chitungwiza\n",
      "Processing Record 17 of Set 9 | wilkie\n",
      "Processing Record 18 of Set 9 | wanning\n",
      "Processing Record 19 of Set 9 | victoria point\n",
      "Processing Record 20 of Set 9 | puri\n",
      "Processing Record 21 of Set 9 | antalaha\n",
      "Processing Record 22 of Set 9 | kapoeta\n",
      "Processing Record 23 of Set 9 | sijunjung\n",
      "Processing Record 24 of Set 9 | nelson bay\n",
      "Processing Record 25 of Set 9 | antsohihy\n",
      "Processing Record 26 of Set 9 | porto novo\n",
      "Processing Record 27 of Set 9 | comodoro rivadavia\n",
      "Processing Record 28 of Set 9 | gijon\n",
      "Processing Record 29 of Set 9 | hailar\n",
      "Processing Record 30 of Set 9 | suntar\n",
      "Processing Record 31 of Set 9 | marsh harbour\n",
      "Processing Record 32 of Set 9 | pachino\n",
      "Processing Record 33 of Set 9 | wilmington\n",
      "Processing Record 34 of Set 9 | chicholi\n",
      "Processing Record 35 of Set 9 | guane\n",
      "Processing Record 36 of Set 9 | coihaique\n",
      "Processing Record 37 of Set 9 | cardston\n",
      "Processing Record 38 of Set 9 | sao filipe\n",
      "Processing Record 39 of Set 9 | yong peng\n",
      "Processing Record 40 of Set 9 | rio cuarto\n",
      "Processing Record 41 of Set 9 | quatre cocos\n",
      "City not found. Skipping...\n",
      "Processing Record 43 of Set 9 | senno\n",
      "Processing Record 44 of Set 9 | gatton\n",
      "Processing Record 45 of Set 9 | aneho\n",
      "Processing Record 46 of Set 9 | imeni poliny osipenko\n",
      "Processing Record 47 of Set 9 | passagem franca\n",
      "Processing Record 48 of Set 9 | nueva germania\n",
      "Processing Record 49 of Set 9 | hervey bay\n",
      "Processing Record 50 of Set 9 | pocatello\n",
      "Processing Record 1 of Set 10 | hovd\n",
      "City not found. Skipping...\n",
      "Processing Record 3 of Set 10 | eten\n",
      "Processing Record 4 of Set 10 | harbour breton\n",
      "Processing Record 5 of Set 10 | port blair\n",
      "Processing Record 6 of Set 10 | faanui\n",
      "Processing Record 7 of Set 10 | katwijk\n",
      "Processing Record 8 of Set 10 | kaniama\n",
      "Processing Record 9 of Set 10 | kankon\n",
      "Processing Record 10 of Set 10 | udachnyy\n",
      "Processing Record 11 of Set 10 | rocky mountain house\n",
      "Processing Record 12 of Set 10 | sur\n",
      "City not found. Skipping...\n",
      "Processing Record 14 of Set 10 | whitianga\n",
      "Processing Record 15 of Set 10 | hit\n",
      "Processing Record 16 of Set 10 | ibra\n",
      "Processing Record 17 of Set 10 | pimentel\n",
      "Processing Record 18 of Set 10 | crotone\n",
      "Processing Record 19 of Set 10 | port lincoln\n",
      "Processing Record 20 of Set 10 | mount gambier\n",
      "Processing Record 21 of Set 10 | opuwo\n",
      "Processing Record 22 of Set 10 | vercheres\n",
      "Processing Record 23 of Set 10 | pocri\n",
      "Processing Record 24 of Set 10 | paamiut\n",
      "Processing Record 25 of Set 10 | ponta delgada\n",
      "Processing Record 26 of Set 10 | kiunga\n",
      "Processing Record 27 of Set 10 | dhidhdhoo\n",
      "Processing Record 28 of Set 10 | concordia\n",
      "Processing Record 29 of Set 10 | marzuq\n",
      "City not found. Skipping...\n",
      "Processing Record 31 of Set 10 | gwembe\n",
      "Processing Record 32 of Set 10 | marang\n",
      "Processing Record 33 of Set 10 | pareora\n",
      "City not found. Skipping...\n",
      "Processing Record 35 of Set 10 | pingzhuang\n",
      "Processing Record 36 of Set 10 | iranshahr\n",
      "Processing Record 37 of Set 10 | sisimiut\n",
      "Processing Record 38 of Set 10 | sabang\n",
      "Processing Record 39 of Set 10 | colquechaca\n",
      "Processing Record 40 of Set 10 | svetlogorsk\n",
      "Processing Record 41 of Set 10 | sumy\n",
      "Processing Record 42 of Set 10 | cloquet\n",
      "Processing Record 43 of Set 10 | sibolga\n",
      "Processing Record 44 of Set 10 | otukpo\n",
      "City not found. Skipping...\n",
      "Processing Record 46 of Set 10 | pangoa\n",
      "Processing Record 47 of Set 10 | norrtalje\n",
      "Processing Record 48 of Set 10 | ahmadpur east\n",
      "Processing Record 49 of Set 10 | san-pedro\n",
      "Processing Record 50 of Set 10 | alekseyevsk\n",
      "Processing Record 1 of Set 11 | bilibino\n",
      "Processing Record 2 of Set 11 | pelym\n",
      "Processing Record 3 of Set 11 | olinda\n",
      "Processing Record 4 of Set 11 | nuuk\n",
      "Processing Record 5 of Set 11 | lat yao\n",
      "Processing Record 6 of Set 11 | revelstoke\n",
      "Processing Record 7 of Set 11 | exmouth\n",
      "City not found. Skipping...\n",
      "Processing Record 9 of Set 11 | itaituba\n",
      "Processing Record 10 of Set 11 | leshukonskoye\n",
      "Processing Record 11 of Set 11 | panguna\n",
      "Processing Record 12 of Set 11 | mocuba\n",
      "Processing Record 13 of Set 11 | abha\n",
      "Processing Record 14 of Set 11 | castle rock\n",
      "City not found. Skipping...\n",
      "Processing Record 16 of Set 11 | carballo\n",
      "Processing Record 17 of Set 11 | noumea\n",
      "Processing Record 18 of Set 11 | warmbad\n",
      "City not found. Skipping...\n",
      "Processing Record 20 of Set 11 | minsk\n",
      "Processing Record 21 of Set 11 | dharchula\n",
      "Processing Record 22 of Set 11 | estevan\n",
      "Processing Record 23 of Set 11 | kropotkin\n",
      "Processing Record 24 of Set 11 | mahibadhoo\n",
      "Processing Record 25 of Set 11 | saint-raymond\n",
      "Processing Record 26 of Set 11 | muyezerskiy\n",
      "Processing Record 27 of Set 11 | cruzeiro do sul\n",
      "Processing Record 28 of Set 11 | solnechnyy\n",
      "Processing Record 29 of Set 11 | yarensk\n",
      "Processing Record 30 of Set 11 | cockburn town\n",
      "Processing Record 31 of Set 11 | vigrestad\n",
      "Processing Record 32 of Set 11 | porto walter\n",
      "City not found. Skipping...\n",
      "Processing Record 34 of Set 11 | gallup\n",
      "City not found. Skipping...\n",
      "Processing Record 36 of Set 11 | saint-augustin\n",
      "Processing Record 37 of Set 11 | la asuncion\n",
      "Processing Record 38 of Set 11 | cabedelo\n",
      "Processing Record 39 of Set 11 | ballina\n",
      "Processing Record 40 of Set 11 | beringovskiy\n",
      "Processing Record 41 of Set 11 | srostki\n",
      "Processing Record 42 of Set 11 | sola\n",
      "Processing Record 43 of Set 11 | hami\n",
      "Processing Record 44 of Set 11 | atbasar\n",
      "City not found. Skipping...\n",
      "Processing Record 46 of Set 11 | rio gallegos\n",
      "Processing Record 47 of Set 11 | banbury\n",
      "Processing Record 48 of Set 11 | high level\n",
      "Processing Record 49 of Set 11 | saint-michel-des-saints\n",
      "Processing Record 50 of Set 11 | chalmette\n",
      "Processing Record 1 of Set 12 | ginir\n",
      "Processing Record 2 of Set 12 | kashary\n",
      "Processing Record 3 of Set 12 | arandis\n",
      "Processing Record 4 of Set 12 | huntington\n",
      "Processing Record 5 of Set 12 | nikolayevsk-na-amure\n",
      "Processing Record 6 of Set 12 | kapit\n",
      "Processing Record 7 of Set 12 | kafanchan\n",
      "Processing Record 8 of Set 12 | pouembout\n",
      "Processing Record 9 of Set 12 | sortland\n",
      "Processing Record 10 of Set 12 | virginia beach\n",
      "Processing Record 11 of Set 12 | banikoara\n",
      "Processing Record 12 of Set 12 | anloga\n",
      "Processing Record 13 of Set 12 | amahai\n",
      "Processing Record 14 of Set 12 | palana\n",
      "Processing Record 15 of Set 12 | snezhnogorsk\n",
      "Processing Record 16 of Set 12 | khandyga\n",
      "Processing Record 17 of Set 12 | varhaug\n",
      "Processing Record 18 of Set 12 | uribia\n",
      "Processing Record 19 of Set 12 | north branch\n",
      "Processing Record 20 of Set 12 | eirunepe\n",
      "Processing Record 21 of Set 12 | reconquista\n",
      "Processing Record 22 of Set 12 | batamshinskiy\n",
      "Processing Record 23 of Set 12 | carutapera\n",
      "Processing Record 24 of Set 12 | igarka\n",
      "Processing Record 25 of Set 12 | tabriz\n",
      "City not found. Skipping...\n",
      "Processing Record 27 of Set 12 | namtsy\n",
      "Processing Record 28 of Set 12 | krasnoselkup\n",
      "Processing Record 29 of Set 12 | karera\n",
      "Processing Record 30 of Set 12 | sept-iles\n",
      "Processing Record 31 of Set 12 | cefalu\n",
      "Processing Record 32 of Set 12 | taoudenni\n",
      "Processing Record 33 of Set 12 | savanur\n",
      "Processing Record 34 of Set 12 | uniao\n",
      "Processing Record 35 of Set 12 | kolyshley\n",
      "Processing Record 36 of Set 12 | kampene\n",
      "Processing Record 37 of Set 12 | macon\n",
      "Processing Record 38 of Set 12 | altay\n",
      "Processing Record 39 of Set 12 | yumen\n",
      "Processing Record 40 of Set 12 | port-cartier\n",
      "City not found. Skipping...\n",
      "Processing Record 42 of Set 12 | ulety\n",
      "Processing Record 43 of Set 12 | boa vista\n",
      "Processing Record 44 of Set 12 | borogontsy\n",
      "Processing Record 45 of Set 12 | saint anthony\n",
      "Processing Record 46 of Set 12 | basco\n",
      "Processing Record 47 of Set 12 | vardo\n",
      "Processing Record 48 of Set 12 | rafraf\n",
      "Processing Record 49 of Set 12 | nabire\n",
      "Processing Record 50 of Set 12 | tual\n",
      "Processing Record 1 of Set 13 | namatanai\n",
      "Processing Record 2 of Set 13 | constantine\n",
      "Processing Record 3 of Set 13 | la rioja\n",
      "Processing Record 4 of Set 13 | portland\n",
      "Processing Record 5 of Set 13 | utete\n",
      "Processing Record 6 of Set 13 | les cayes\n",
      "Processing Record 7 of Set 13 | guerrero negro\n",
      "Processing Record 8 of Set 13 | goias\n",
      "Processing Record 9 of Set 13 | kysyl-syr\n"
     ]
    },
    {
     "name": "stdout",
     "output_type": "stream",
     "text": [
      "Processing Record 10 of Set 13 | chapais\n",
      "Processing Record 11 of Set 13 | salinas\n",
      "Processing Record 12 of Set 13 | qasigiannguit\n",
      "Processing Record 13 of Set 13 | mitsamiouli\n",
      "Processing Record 14 of Set 13 | manzhouli\n",
      "Processing Record 15 of Set 13 | akhtanizovskaya\n",
      "Processing Record 16 of Set 13 | culleredo\n",
      "Processing Record 17 of Set 13 | mangrol\n",
      "Processing Record 18 of Set 13 | selkirk\n",
      "Processing Record 19 of Set 13 | khorixas\n",
      "Processing Record 20 of Set 13 | taltal\n",
      "Processing Record 21 of Set 13 | vestmannaeyjar\n",
      "Processing Record 22 of Set 13 | araceli\n",
      "Processing Record 23 of Set 13 | moindou\n",
      "Processing Record 24 of Set 13 | bojnurd\n",
      "Processing Record 25 of Set 13 | beroroha\n",
      "Processing Record 26 of Set 13 | shenkursk\n",
      "Processing Record 27 of Set 13 | kamenka\n",
      "Processing Record 28 of Set 13 | mount isa\n",
      "Processing Record 29 of Set 13 | ishigaki\n",
      "Processing Record 30 of Set 13 | asau\n",
      "Processing Record 31 of Set 13 | puerto madryn\n",
      "Processing Record 32 of Set 13 | teguldet\n",
      "Processing Record 33 of Set 13 | kuytun\n",
      "City not found. Skipping...\n",
      "City not found. Skipping...\n",
      "Processing Record 36 of Set 13 | dunedin\n",
      "Processing Record 37 of Set 13 | inyonga\n",
      "Processing Record 38 of Set 13 | talara\n",
      "-----------------------------\n",
      "Data Retrieval Complete\n",
      "-----------------------------\n"
     ]
    }
   ],
   "source": [
    "cities_2=[]\n",
    "lat=[]\n",
    "lng=[]\n",
    "max_temp=[]\n",
    "humidity=[]\n",
    "cloudiness=[]\n",
    "wind_speed=[]\n",
    "country=[]\n",
    "date=[]\n",
    "\n",
    "index=0\n",
    "group=1\n",
    "count=1\n",
    "success=0\n",
    "fail=0\n",
    "\n",
    "print('Beginning Data Retrieval\\n-----------------------------')\n",
    "while index< len(cities):\n",
    "    for city in cities[index:index+50]:\n",
    "        query_url=f\"{url}appid={weather_api_key}&units={units}&q=\"\n",
    "        weather_response = requests.get(query_url+city).json()\n",
    "\n",
    "        try:\n",
    "            cities_2.append(weather_response['name'])\n",
    "            lat.append(weather_response['coord']['lat'])\n",
    "            lng.append(weather_response['coord']['lon'])\n",
    "            max_temp.append(weather_response['main']['temp_max'])\n",
    "            humidity.append(weather_response['main']['humidity'])\n",
    "            wind_speed.append(weather_response['wind']['speed'])\n",
    "            cloudiness.append(weather_response['clouds']['all'])\n",
    "            date.append(weather_response['dt'])\n",
    "            country.append(weather_response['sys']['country'])\n",
    "            print(f'Processing Record {count} of Set {group} | {city}')\n",
    "            \n",
    "            success+=1\n",
    "            count+=1\n",
    "            index+=1\n",
    "        except KeyError:\n",
    "            print('City not found. Skipping...')\n",
    "            count+=1\n",
    "            index+=1\n",
    "            fail+=1\n",
    "\n",
    "    group+=1\n",
    "    count=1\n",
    "    time.sleep(60)\n",
    "print('''-----------------------------\n",
    "Data Retrieval Complete\n",
    "-----------------------------''')\n",
    "        "
   ]
  },
  {
   "cell_type": "code",
   "execution_count": null,
   "metadata": {},
   "outputs": [],
   "source": []
  },
  {
   "cell_type": "code",
   "execution_count": 5,
   "metadata": {},
   "outputs": [
    {
     "name": "stdout",
     "output_type": "stream",
     "text": [
      "success: 587  fail: 51\n"
     ]
    },
    {
     "data": {
      "text/plain": [
       "638"
      ]
     },
     "execution_count": 5,
     "metadata": {},
     "output_type": "execute_result"
    }
   ],
   "source": [
    "print(f'success: {success}  fail: {fail}')\n",
    "success + fail"
   ]
  },
  {
   "cell_type": "markdown",
   "metadata": {},
   "source": [
    "### Convert Raw Data to DataFrame\n",
    "* Export the city data into a .csv.\n",
    "* Display the DataFrame"
   ]
  },
  {
   "cell_type": "code",
   "execution_count": 6,
   "metadata": {},
   "outputs": [
    {
     "data": {
      "text/plain": [
       "City          587\n",
       "Lat           587\n",
       "Lng           587\n",
       "Max Temp      587\n",
       "Humidity      587\n",
       "Cloudiness    587\n",
       "Wind Speed    587\n",
       "Country       587\n",
       "Date          587\n",
       "dtype: int64"
      ]
     },
     "execution_count": 6,
     "metadata": {},
     "output_type": "execute_result"
    }
   ],
   "source": [
    "data={\n",
    "    'City': cities_2,# this will equal 606 but  I only have 553 of the others\n",
    "    'Lat': lat,\n",
    "    'Lng': lng,\n",
    "    'Max Temp': max_temp,\n",
    "    'Humidity': humidity,\n",
    "    'Cloudiness': cloudiness,\n",
    "    'Wind Speed': wind_speed,\n",
    "    'Country': country,\n",
    "    'Date': date\n",
    "\n",
    "}\n",
    "weather_df=pd.DataFrame(data)\n",
    "weather_df.count()"
   ]
  },
  {
   "cell_type": "code",
   "execution_count": 19,
   "metadata": {},
   "outputs": [
    {
     "data": {
      "text/html": [
       "<div>\n",
       "<style scoped>\n",
       "    .dataframe tbody tr th:only-of-type {\n",
       "        vertical-align: middle;\n",
       "    }\n",
       "\n",
       "    .dataframe tbody tr th {\n",
       "        vertical-align: top;\n",
       "    }\n",
       "\n",
       "    .dataframe thead th {\n",
       "        text-align: right;\n",
       "    }\n",
       "</style>\n",
       "<table border=\"1\" class=\"dataframe\">\n",
       "  <thead>\n",
       "    <tr style=\"text-align: right;\">\n",
       "      <th></th>\n",
       "      <th>City</th>\n",
       "      <th>Lat</th>\n",
       "      <th>Lng</th>\n",
       "      <th>Max Temp</th>\n",
       "      <th>Humidity</th>\n",
       "      <th>Cloudiness</th>\n",
       "      <th>Wind Speed</th>\n",
       "      <th>Country</th>\n",
       "      <th>Date</th>\n",
       "    </tr>\n",
       "  </thead>\n",
       "  <tbody>\n",
       "    <tr>\n",
       "      <th>0</th>\n",
       "      <td>Turan</td>\n",
       "      <td>16.07</td>\n",
       "      <td>108.22</td>\n",
       "      <td>93.20</td>\n",
       "      <td>52</td>\n",
       "      <td>40</td>\n",
       "      <td>8.05</td>\n",
       "      <td>VN</td>\n",
       "      <td>1596343972</td>\n",
       "    </tr>\n",
       "    <tr>\n",
       "      <th>1</th>\n",
       "      <td>Punta Arenas</td>\n",
       "      <td>-53.15</td>\n",
       "      <td>-70.92</td>\n",
       "      <td>35.60</td>\n",
       "      <td>93</td>\n",
       "      <td>100</td>\n",
       "      <td>14.99</td>\n",
       "      <td>CL</td>\n",
       "      <td>1596343889</td>\n",
       "    </tr>\n",
       "    <tr>\n",
       "      <th>2</th>\n",
       "      <td>Pangnirtung</td>\n",
       "      <td>66.15</td>\n",
       "      <td>-65.71</td>\n",
       "      <td>45.10</td>\n",
       "      <td>80</td>\n",
       "      <td>96</td>\n",
       "      <td>1.16</td>\n",
       "      <td>CA</td>\n",
       "      <td>1596343972</td>\n",
       "    </tr>\n",
       "    <tr>\n",
       "      <th>3</th>\n",
       "      <td>Ucluelet</td>\n",
       "      <td>48.93</td>\n",
       "      <td>-125.55</td>\n",
       "      <td>61.00</td>\n",
       "      <td>86</td>\n",
       "      <td>89</td>\n",
       "      <td>0.92</td>\n",
       "      <td>CA</td>\n",
       "      <td>1596343973</td>\n",
       "    </tr>\n",
       "    <tr>\n",
       "      <th>4</th>\n",
       "      <td>Port Macquarie</td>\n",
       "      <td>-31.43</td>\n",
       "      <td>152.92</td>\n",
       "      <td>69.01</td>\n",
       "      <td>64</td>\n",
       "      <td>0</td>\n",
       "      <td>1.01</td>\n",
       "      <td>AU</td>\n",
       "      <td>1596343973</td>\n",
       "    </tr>\n",
       "  </tbody>\n",
       "</table>\n",
       "</div>"
      ],
      "text/plain": [
       "             City    Lat     Lng  Max Temp  Humidity  Cloudiness  Wind Speed  \\\n",
       "0           Turan  16.07  108.22     93.20        52          40        8.05   \n",
       "1    Punta Arenas -53.15  -70.92     35.60        93         100       14.99   \n",
       "2     Pangnirtung  66.15  -65.71     45.10        80          96        1.16   \n",
       "3        Ucluelet  48.93 -125.55     61.00        86          89        0.92   \n",
       "4  Port Macquarie -31.43  152.92     69.01        64           0        1.01   \n",
       "\n",
       "  Country        Date  \n",
       "0      VN  1596343972  \n",
       "1      CL  1596343889  \n",
       "2      CA  1596343972  \n",
       "3      CA  1596343973  \n",
       "4      AU  1596343973  "
      ]
     },
     "execution_count": 19,
     "metadata": {},
     "output_type": "execute_result"
    }
   ],
   "source": [
    "weather_df.to_csv('../output_data/weather_data.csv', index_label='City_ID')\n",
    "weather_df.head()"
   ]
  },
  {
   "cell_type": "markdown",
   "metadata": {},
   "source": [
    "## Inspect the data and remove the cities where the humidity > 100%.\n",
    "----\n",
    "Skip this step if there are no cities that have humidity > 100%. "
   ]
  },
  {
   "cell_type": "code",
   "execution_count": 8,
   "metadata": {},
   "outputs": [
    {
     "data": {
      "text/html": [
       "<div>\n",
       "<style scoped>\n",
       "    .dataframe tbody tr th:only-of-type {\n",
       "        vertical-align: middle;\n",
       "    }\n",
       "\n",
       "    .dataframe tbody tr th {\n",
       "        vertical-align: top;\n",
       "    }\n",
       "\n",
       "    .dataframe thead th {\n",
       "        text-align: right;\n",
       "    }\n",
       "</style>\n",
       "<table border=\"1\" class=\"dataframe\">\n",
       "  <thead>\n",
       "    <tr style=\"text-align: right;\">\n",
       "      <th></th>\n",
       "      <th>City</th>\n",
       "      <th>Lat</th>\n",
       "      <th>Lng</th>\n",
       "      <th>Max Temp</th>\n",
       "      <th>Humidity</th>\n",
       "      <th>Cloudiness</th>\n",
       "      <th>Wind Speed</th>\n",
       "      <th>Country</th>\n",
       "      <th>Date</th>\n",
       "    </tr>\n",
       "  </thead>\n",
       "  <tbody>\n",
       "  </tbody>\n",
       "</table>\n",
       "</div>"
      ],
      "text/plain": [
       "Empty DataFrame\n",
       "Columns: [City, Lat, Lng, Max Temp, Humidity, Cloudiness, Wind Speed, Country, Date]\n",
       "Index: []"
      ]
     },
     "execution_count": 8,
     "metadata": {},
     "output_type": "execute_result"
    }
   ],
   "source": [
    "check_for_humidity_errors=weather_df.loc[weather_df['Humidity']>100]\n",
    "check_for_humidity_errors # No humidity error detected"
   ]
  },
  {
   "cell_type": "code",
   "execution_count": 9,
   "metadata": {},
   "outputs": [
    {
     "data": {
      "text/html": [
       "<div>\n",
       "<style scoped>\n",
       "    .dataframe tbody tr th:only-of-type {\n",
       "        vertical-align: middle;\n",
       "    }\n",
       "\n",
       "    .dataframe tbody tr th {\n",
       "        vertical-align: top;\n",
       "    }\n",
       "\n",
       "    .dataframe thead th {\n",
       "        text-align: right;\n",
       "    }\n",
       "</style>\n",
       "<table border=\"1\" class=\"dataframe\">\n",
       "  <thead>\n",
       "    <tr style=\"text-align: right;\">\n",
       "      <th></th>\n",
       "      <th>City</th>\n",
       "      <th>Lat</th>\n",
       "      <th>Lng</th>\n",
       "      <th>Max Temp</th>\n",
       "      <th>Humidity</th>\n",
       "      <th>Cloudiness</th>\n",
       "      <th>Wind Speed</th>\n",
       "      <th>Country</th>\n",
       "      <th>Date</th>\n",
       "    </tr>\n",
       "  </thead>\n",
       "  <tbody>\n",
       "    <tr>\n",
       "      <th>0</th>\n",
       "      <td>Turan</td>\n",
       "      <td>16.07</td>\n",
       "      <td>108.22</td>\n",
       "      <td>93.20</td>\n",
       "      <td>52</td>\n",
       "      <td>40</td>\n",
       "      <td>8.05</td>\n",
       "      <td>VN</td>\n",
       "      <td>1596343972</td>\n",
       "    </tr>\n",
       "    <tr>\n",
       "      <th>1</th>\n",
       "      <td>Punta Arenas</td>\n",
       "      <td>-53.15</td>\n",
       "      <td>-70.92</td>\n",
       "      <td>35.60</td>\n",
       "      <td>93</td>\n",
       "      <td>100</td>\n",
       "      <td>14.99</td>\n",
       "      <td>CL</td>\n",
       "      <td>1596343889</td>\n",
       "    </tr>\n",
       "    <tr>\n",
       "      <th>2</th>\n",
       "      <td>Pangnirtung</td>\n",
       "      <td>66.15</td>\n",
       "      <td>-65.71</td>\n",
       "      <td>45.10</td>\n",
       "      <td>80</td>\n",
       "      <td>96</td>\n",
       "      <td>1.16</td>\n",
       "      <td>CA</td>\n",
       "      <td>1596343972</td>\n",
       "    </tr>\n",
       "    <tr>\n",
       "      <th>3</th>\n",
       "      <td>Ucluelet</td>\n",
       "      <td>48.93</td>\n",
       "      <td>-125.55</td>\n",
       "      <td>61.00</td>\n",
       "      <td>86</td>\n",
       "      <td>89</td>\n",
       "      <td>0.92</td>\n",
       "      <td>CA</td>\n",
       "      <td>1596343973</td>\n",
       "    </tr>\n",
       "    <tr>\n",
       "      <th>4</th>\n",
       "      <td>Port Macquarie</td>\n",
       "      <td>-31.43</td>\n",
       "      <td>152.92</td>\n",
       "      <td>69.01</td>\n",
       "      <td>64</td>\n",
       "      <td>0</td>\n",
       "      <td>1.01</td>\n",
       "      <td>AU</td>\n",
       "      <td>1596343973</td>\n",
       "    </tr>\n",
       "  </tbody>\n",
       "</table>\n",
       "</div>"
      ],
      "text/plain": [
       "             City    Lat     Lng  Max Temp  Humidity  Cloudiness  Wind Speed  \\\n",
       "0           Turan  16.07  108.22     93.20        52          40        8.05   \n",
       "1    Punta Arenas -53.15  -70.92     35.60        93         100       14.99   \n",
       "2     Pangnirtung  66.15  -65.71     45.10        80          96        1.16   \n",
       "3        Ucluelet  48.93 -125.55     61.00        86          89        0.92   \n",
       "4  Port Macquarie -31.43  152.92     69.01        64           0        1.01   \n",
       "\n",
       "  Country        Date  \n",
       "0      VN  1596343972  \n",
       "1      CL  1596343889  \n",
       "2      CA  1596343972  \n",
       "3      CA  1596343973  \n",
       "4      AU  1596343973  "
      ]
     },
     "execution_count": 9,
     "metadata": {},
     "output_type": "execute_result"
    }
   ],
   "source": [
    "weather_df.head()"
   ]
  },
  {
   "cell_type": "code",
   "execution_count": 10,
   "metadata": {},
   "outputs": [
    {
     "data": {
      "text/plain": [
       "Int64Index([], dtype='int64')"
      ]
     },
     "execution_count": 10,
     "metadata": {},
     "output_type": "execute_result"
    }
   ],
   "source": [
    "#  Get the indices of cities that have humidity over 100%.\n",
    "# N/A But, if I were to have humidity over 100% I would do the following because the return for check_for... \n",
    "# keeps original index values\n",
    "check_for_humidity_errors.index"
   ]
  },
  {
   "cell_type": "code",
   "execution_count": 11,
   "metadata": {},
   "outputs": [],
   "source": [
    "# Make a new DataFrame equal to the city data to drop all humidity outliers by index.\n",
    "# Passing \"inplace=False\" will make a copy of the city_data DataFrame, which we call \"clean_city_data\".\n",
    "# There are none humidity outliers based on \"over 100%\""
   ]
  },
  {
   "cell_type": "code",
   "execution_count": 12,
   "metadata": {},
   "outputs": [
    {
     "data": {
      "text/plain": [
       "0      16.07\n",
       "1     -53.15\n",
       "2      66.15\n",
       "3      48.93\n",
       "4     -31.43\n",
       "       ...  \n",
       "582    57.31\n",
       "583    54.34\n",
       "584   -45.87\n",
       "585    -6.72\n",
       "586    -4.58\n",
       "Name: Lat, Length: 587, dtype: float64"
      ]
     },
     "execution_count": 12,
     "metadata": {},
     "output_type": "execute_result"
    }
   ],
   "source": [
    "# Extract relevant fields from the data frame\n",
    "latitudes=weather_df['Lat']\n",
    "temperatures=weather_df['Max Temp']\n",
    "humidity=weather_df['Humidity']\n",
    "cloudiness=weather_df['Cloudiness']\n",
    "wind_speed=weather_df['Wind Speed']\n",
    "\n",
    "# Export the City_Data into a csv\n",
    "# I could have kept the column order with: columns=['City', 'Lat', 'Lng', 'Max Temp', 'Humidity', \n",
    "# 'Cloudiness', 'Wind Speed', 'Country', 'Date']\n",
    "weather_df.to_csv('weather_data.csv', index_label='City_ID')\n",
    "latitudes"
   ]
  },
  {
   "cell_type": "markdown",
   "metadata": {},
   "source": [
    "## Plotting the Data\n",
    "* Use proper labeling of the plots using plot titles (including date of analysis) and axes labels.\n",
    "* Save the plotted figures as .pngs."
   ]
  },
  {
   "cell_type": "markdown",
   "metadata": {},
   "source": [
    "## Latitude vs. Temperature Plot"
   ]
  },
  {
   "cell_type": "code",
   "execution_count": 14,
   "metadata": {},
   "outputs": [
    {
     "data": {
      "image/png": "[encoded data removed]",
      "text/plain": [
       "<Figure size 432x288 with 1 Axes>"
      ]
     },
     "metadata": {
      "needs_background": "light"
     },
     "output_type": "display_data"
    }
   ],
   "source": [
    "plt.scatter(latitudes, temperatures, marker='o')\n",
    "\n",
    "plt.title(\"City Latitude vs. Max Temperature (07/26/20)\")\n",
    "plt.ylabel(\"Max Temperature(F)\")\n",
    "plt.xlabel(\"Latitude\")\n",
    "plt.grid(True)\n",
    "plt.savefig('../output_data/lat_max_temp.png')\n",
    "plt.show()"
   ]
  },
  {
   "cell_type": "markdown",
   "metadata": {},
   "source": [
    "## Latitude vs. Humidity Plot"
   ]
  },
  {
   "cell_type": "code",
   "execution_count": 15,
   "metadata": {},
   "outputs": [
    {
     "data": {
      "image/png": "[encoded data removed]",
      "text/plain": [
       "<Figure size 432x288 with 1 Axes>"
      ]
     },
     "metadata": {
      "needs_background": "light"
     },
     "output_type": "display_data"
    }
   ],
   "source": [
    "plt.scatter(latitudes, humidity, marker='o')\n",
    "\n",
    "plt.title(\"City Latitude vs. Humidity (07/26/20)\")\n",
    "plt.ylabel(\"Humidity (%)\")\n",
    "plt.xlabel(\"Latitude\")\n",
    "plt.grid(True)\n",
    "plt.savefig('../output_data/lat_humidity.png')\n",
    "plt.show()"
   ]
  },
  {
   "cell_type": "markdown",
   "metadata": {},
   "source": [
    "## Latitude vs. Cloudiness Plot"
   ]
  },
  {
   "cell_type": "code",
   "execution_count": 16,
   "metadata": {},
   "outputs": [
    {
     "data": {
      "image/png": "[encoded data removed]",
      "text/plain": [
       "<Figure size 432x288 with 1 Axes>"
      ]
     },
     "metadata": {
      "needs_background": "light"
     },
     "output_type": "display_data"
    }
   ],
   "source": [
    "plt.scatter(latitudes, cloudiness, marker='o')\n",
    "\n",
    "plt.title(\"City Latitude vs. Cloudiness (07/26/20)\")\n",
    "plt.ylabel(\"Cloudiness(%)\")\n",
    "plt.xlabel(\"Latitude\")\n",
    "plt.grid(True)\n",
    "plt.savefig('../output_data/lat_cloudiness.png')\n",
    "plt.show()"
   ]
  },
  {
   "cell_type": "markdown",
   "metadata": {},
   "source": [
    "## Latitude vs. Wind Speed Plot"
   ]
  },
  {
   "cell_type": "code",
   "execution_count": 17,
   "metadata": {},
   "outputs": [
    {
     "data": {
      "image/png": "[encoded data removed]",
      "text/plain": [
       "<Figure size 432x288 with 1 Axes>"
      ]
     },
     "metadata": {
      "needs_background": "light"
     },
     "output_type": "display_data"
    }
   ],
   "source": [
    "plt.scatter(latitudes, wind_speed, marker='o')\n",
    "\n",
    "plt.title(\"City Latitude vs. Wind Speed (07/26/20)\")\n",
    "plt.ylabel(\"Wind Speed (mph)\")\n",
    "plt.xlabel(\"Latitude\")\n",
    "plt.grid(True)\n",
    "plt.savefig('../output_data/lat_wind_speed.png')\n",
    "plt.show()"
   ]
  },
  {
   "cell_type": "markdown",
   "metadata": {},
   "source": [
    "## Linear Regression"
   ]
  },
  {
   "cell_type": "code",
   "execution_count": 14,
   "metadata": {},
   "outputs": [],
   "source": [
    "# OPTIONAL: Create a function to create Linear Regression plots"
   ]
  },
  {
   "cell_type": "code",
   "execution_count": 69,
   "metadata": {},
   "outputs": [],
   "source": [
    "# Create Northern and Southern Hemisphere DataFrames\n",
    "norther_weather_df=weather_df.loc[weather_df['Lat']>=0]\n",
    "n_latitudes=norther_weather_df['Lat']\n",
    "n_temperatures=norther_weather_df['Max Temp']\n",
    "n_humidity=norther_weather_df['Humidity']\n",
    "n_cloudiness=norther_weather_df['Cloudiness']\n",
    "n_wind_speed=norther_weather_df['Wind Speed']\n",
    "\n",
    "s_souther_weather_df=weather_df.loc[weather_df['Lat']<0]\n",
    "s_latitudes=souther_weather_df['Lat']\n",
    "s_temperatures=souther_weather_df['Max Temp']\n",
    "s_humidity=souther_weather_df['Humidity']\n",
    "s_cloudiness=souther_weather_df['Cloudiness']\n",
    "s_wind_speed=souther_weather_df['Wind Speed']\n",
    "\n",
    "# norther_weather_df.head()\n",
    "# souther_weather_df.head()"
   ]
  },
  {
   "cell_type": "markdown",
   "metadata": {},
   "source": [
    "####  Northern Hemisphere - Max Temp vs. Latitude Linear Regression"
   ]
  },
  {
   "cell_type": "code",
   "execution_count": 77,
   "metadata": {},
   "outputs": [
    {
     "name": "stdout",
     "output_type": "stream",
     "text": [
      "The r-squared is: 0.39853461227413206\n"
     ]
    },
    {
     "data": {
      "image/png": "[encoded data removed]",
      "text/plain": [
       "<Figure size 432x288 with 1 Axes>"
      ]
     },
     "metadata": {
      "needs_background": "light"
     },
     "output_type": "display_data"
    }
   ],
   "source": [
    "# Perform a linear regression on temperature vs. latitude\n",
    "(slope, intercept, rvalue, pvalue, stderr) = linregress(n_latitudes, n_temperatures)\n",
    "# Get regression values\n",
    "regress_values = n_latitudes * slope + intercept\n",
    "#print(regress_values)\n",
    "# Create line equation string\n",
    "line_eq = \"y = \" + str(round(slope,2)) + \"x +\" + str(round(intercept,2))\n",
    "#print(line_eq)\n",
    "# Create Plot\n",
    "plt.scatter(n_latitudes,n_temperatures)\n",
    "plt.plot(n_latitudes,regress_values,\"r-\")\n",
    "\n",
    "# Label plot and annotate the line equation\n",
    "plt.xlabel('Latitude')\n",
    "plt.ylabel('Max Temp')\n",
    "plt.annotate(line_eq,(5,55),fontsize=15,color=\"red\")\n",
    "\n",
    "# Print r square value\n",
    "print(f\"The r-squared is: {rvalue**2}\")\n",
    "\n",
    "# Show plot\n",
    "plt.show()"
   ]
  },
  {
   "cell_type": "markdown",
   "metadata": {},
   "source": [
    "####  Southern Hemisphere - Max Temp vs. Latitude Linear Regression"
   ]
  },
  {
   "cell_type": "code",
   "execution_count": 81,
   "metadata": {},
   "outputs": [
    {
     "name": "stdout",
     "output_type": "stream",
     "text": [
      "The r-squared is: 0.6164374867755709\n"
     ]
    },
    {
     "data": {
      "image/png": "[encoded data removed]",
      "text/plain": [
       "<Figure size 432x288 with 1 Axes>"
      ]
     },
     "metadata": {
      "needs_background": "light"
     },
     "output_type": "display_data"
    }
   ],
   "source": [
    "# Perform a linear regression on temperature vs. latitude\n",
    "(slope, intercept, rvalue, pvalue, stderr) = linregress(s_latitudes, s_temperatures)\n",
    "# Get regression values\n",
    "regress_values = s_latitudes * slope + intercept\n",
    "#print(regress_values)\n",
    "# Create line equation string\n",
    "line_eq = \"y = \" + str(round(slope,2)) + \"x +\" + str(round(intercept,2))\n",
    "#print(line_eq)\n",
    "# Create Plot\n",
    "plt.scatter(s_latitudes,s_temperatures)\n",
    "plt.plot(s_latitudes,regress_values,\"r-\")\n",
    "\n",
    "# Label plot and annotate the line equation\n",
    "plt.xlabel('Latitude')\n",
    "plt.ylabel('Max Temp')\n",
    "plt.annotate(line_eq,(-55,80),fontsize=15,color=\"red\")\n",
    "\n",
    "# Print r square value\n",
    "print(f\"The r-squared is: {rvalue**2}\")\n",
    "\n",
    "# Show plot\n",
    "plt.show()"
   ]
  },
  {
   "cell_type": "markdown",
   "metadata": {},
   "source": [
    "####  Northern Hemisphere - Humidity (%) vs. Latitude Linear Regression"
   ]
  },
  {
   "cell_type": "code",
   "execution_count": 84,
   "metadata": {},
   "outputs": [
    {
     "name": "stdout",
     "output_type": "stream",
     "text": [
      "The r-squared is: 0.005101250319421484\n"
     ]
    },
    {
     "data": {
      "image/png": "[encoded data removed]",
      "text/plain": [
       "<Figure size 432x288 with 1 Axes>"
      ]
     },
     "metadata": {
      "needs_background": "light"
     },
     "output_type": "display_data"
    }
   ],
   "source": [
    "# Perform a linear regression on temperature vs. latitude\n",
    "(slope, intercept, rvalue, pvalue, stderr) = linregress(n_latitudes, n_humidity)\n",
    "# Get regression values\n",
    "regress_values = n_latitudes * slope + intercept\n",
    "#print(regress_values)\n",
    "# Create line equation string\n",
    "line_eq = \"y = \" + str(round(slope,2)) + \"x +\" + str(round(intercept,2))\n",
    "#print(line_eq)\n",
    "# Create Plot\n",
    "plt.scatter(n_latitudes,n_humidity)\n",
    "plt.plot(n_latitudes,regress_values,\"r-\")\n",
    "\n",
    "# Label plot and annotate the line equation\n",
    "plt.xlabel('Latitude')\n",
    "plt.ylabel('Humidity')\n",
    "plt.annotate(line_eq,(40,10),fontsize=15,color=\"red\")\n",
    "\n",
    "# Print r square value\n",
    "print(f\"The r-squared is: {rvalue**2}\")\n",
    "\n",
    "# Show plot\n",
    "plt.show()"
   ]
  },
  {
   "cell_type": "markdown",
   "metadata": {},
   "source": [
    "####  Southern Hemisphere - Humidity (%) vs. Latitude Linear Regression"
   ]
  },
  {
   "cell_type": "code",
   "execution_count": 87,
   "metadata": {},
   "outputs": [
    {
     "name": "stdout",
     "output_type": "stream",
     "text": [
      "The r-squared is: 0.011247293701897176\n"
     ]
    },
    {
     "data": {
      "image/png": "[encoded data removed]",
      "text/plain": [
       "<Figure size 432x288 with 1 Axes>"
      ]
     },
     "metadata": {
      "needs_background": "light"
     },
     "output_type": "display_data"
    }
   ],
   "source": [
    "# Perform a linear regression on temperature vs. latitude\n",
    "(slope, intercept, rvalue, pvalue, stderr) = linregress(s_latitudes, s_humidity)\n",
    "# Get regression values\n",
    "regress_values = s_latitudes * slope + intercept\n",
    "#print(regress_values)\n",
    "# Create line equation string\n",
    "line_eq = \"y = \" + str(round(slope,2)) + \"x +\" + str(round(intercept,2))\n",
    "#print(line_eq)\n",
    "# Create Plot\n",
    "plt.scatter(s_latitudes,s_humidity)\n",
    "plt.plot(s_latitudes,regress_values,\"r-\")\n",
    "\n",
    "# Label plot and annotate the line equation\n",
    "plt.xlabel('Latitude')\n",
    "plt.ylabel('Humidity')\n",
    "plt.annotate(line_eq,(-50,30),fontsize=15,color=\"red\")\n",
    "\n",
    "# Print r square value\n",
    "print(f\"The r-squared is: {rvalue**2}\")\n",
    "\n",
    "# Show plot\n",
    "plt.show()"
   ]
  },
  {
   "cell_type": "markdown",
   "metadata": {},
   "source": [
    "####  Northern Hemisphere - Cloudiness (%) vs. Latitude Linear Regression"
   ]
  },
  {
   "cell_type": "code",
   "execution_count": 89,
   "metadata": {},
   "outputs": [
    {
     "name": "stdout",
     "output_type": "stream",
     "text": [
      "The r-squared is: 5.141917152320586e-05\n"
     ]
    },
    {
     "data": {
      "image/png": "[encoded data removed]",
      "text/plain": [
       "<Figure size 432x288 with 1 Axes>"
      ]
     },
     "metadata": {
      "needs_background": "light"
     },
     "output_type": "display_data"
    }
   ],
   "source": [
    "# Perform a linear regression on temperature vs. latitude\n",
    "(slope, intercept, rvalue, pvalue, stderr) = linregress(n_latitudes, n_cloudiness)\n",
    "# Get regression values\n",
    "regress_values = n_latitudes * slope + intercept\n",
    "#print(regress_values)\n",
    "# Create line equation string\n",
    "line_eq = \"y = \" + str(round(slope,2)) + \"x +\" + str(round(intercept,2))\n",
    "#print(line_eq)\n",
    "# Create Plot\n",
    "plt.scatter(n_latitudes,n_cloudiness)\n",
    "plt.plot(n_latitudes,regress_values,\"r-\")\n",
    "\n",
    "# Label plot and annotate the line equation\n",
    "plt.xlabel('Latitude')\n",
    "plt.ylabel('Cloudiness')\n",
    "plt.annotate(line_eq,(40,10),fontsize=15,color=\"red\")\n",
    "\n",
    "# Print r square value\n",
    "print(f\"The r-squared is: {rvalue**2}\")\n",
    "\n",
    "# Show plot\n",
    "plt.show()"
   ]
  },
  {
   "cell_type": "markdown",
   "metadata": {},
   "source": [
    "####  Southern Hemisphere - Cloudiness (%) vs. Latitude Linear Regression"
   ]
  },
  {
   "cell_type": "code",
   "execution_count": 92,
   "metadata": {},
   "outputs": [
    {
     "name": "stdout",
     "output_type": "stream",
     "text": [
      "The r-squared is: 0.004711595956631444\n"
     ]
    },
    {
     "data": {
      "image/png": "[encoded data removed]",
      "text/plain": [
       "<Figure size 432x288 with 1 Axes>"
      ]
     },
     "metadata": {
      "needs_background": "light"
     },
     "output_type": "display_data"
    }
   ],
   "source": [
    "# Perform a linear regression on temperature vs. latitude\n",
    "(slope, intercept, rvalue, pvalue, stderr) = linregress(s_latitudes, s_cloudiness)\n",
    "# Get regression values\n",
    "regress_values = s_latitudes * slope + intercept\n",
    "#print(regress_values)\n",
    "# Create line equation string\n",
    "line_eq = \"y = \" + str(round(slope,2)) + \"x +\" + str(round(intercept,2))\n",
    "#print(line_eq)\n",
    "# Create Plot\n",
    "plt.scatter(s_latitudes,s_cloudiness)\n",
    "plt.plot(s_latitudes,regress_values,\"r-\")\n",
    "\n",
    "# Label plot and annotate the line equation\n",
    "plt.xlabel('Latitude')\n",
    "plt.ylabel('Cloudiness')\n",
    "plt.annotate(line_eq,(-30,30),fontsize=15,color=\"red\")\n",
    "\n",
    "# Print r square value\n",
    "print(f\"The r-squared is: {rvalue**2}\")\n",
    "\n",
    "# Show plot\n",
    "plt.show()"
   ]
  },
  {
   "cell_type": "markdown",
   "metadata": {},
   "source": [
    "####  Northern Hemisphere - Wind Speed (mph) vs. Latitude Linear Regression"
   ]
  },
  {
   "cell_type": "code",
   "execution_count": 95,
   "metadata": {},
   "outputs": [
    {
     "name": "stdout",
     "output_type": "stream",
     "text": [
      "The r-squared is: 0.003099368327365178\n"
     ]
    },
    {
     "data": {
      "image/png": "[encoded data removed]",
      "text/plain": [
       "<Figure size 432x288 with 1 Axes>"
      ]
     },
     "metadata": {
      "needs_background": "light"
     },
     "output_type": "display_data"
    }
   ],
   "source": [
    "# Perform a linear regression on temperature vs. latitude\n",
    "(slope, intercept, rvalue, pvalue, stderr) = linregress(n_latitudes, n_wind_speed)\n",
    "# Get regression values\n",
    "regress_values = n_latitudes * slope + intercept\n",
    "#print(regress_values)\n",
    "# Create line equation string\n",
    "line_eq = \"y = \" + str(round(slope,2)) + \"x +\" + str(round(intercept,2))\n",
    "#print(line_eq)\n",
    "# Create Plot\n",
    "plt.scatter(n_latitudes, n_wind_speed)\n",
    "plt.plot(n_latitudes,regress_values,\"r-\")\n",
    "\n",
    "# Label plot and annotate the line equation\n",
    "plt.xlabel('Latitude')\n",
    "plt.ylabel('Wind Speed')\n",
    "plt.annotate(line_eq,(40,15),fontsize=15,color=\"red\")\n",
    "\n",
    "# Print r square value\n",
    "print(f\"The r-squared is: {rvalue**2}\")\n",
    "\n",
    "# Show plot\n",
    "plt.show()"
   ]
  },
  {
   "cell_type": "markdown",
   "metadata": {},
   "source": [
    "####  Southern Hemisphere - Wind Speed (mph) vs. Latitude Linear Regression"
   ]
  },
  {
   "cell_type": "code",
   "execution_count": 99,
   "metadata": {},
   "outputs": [
    {
     "name": "stdout",
     "output_type": "stream",
     "text": [
      "The r-squared is: 0.01257501925010261\n"
     ]
    },
    {
     "data": {
      "image/png": "[encoded data removed]",
      "text/plain": [
       "<Figure size 432x288 with 1 Axes>"
      ]
     },
     "metadata": {
      "needs_background": "light"
     },
     "output_type": "display_data"
    }
   ],
   "source": [
    "# Perform a linear regression on temperature vs. latitude\n",
    "(slope, intercept, rvalue, pvalue, stderr) = linregress(s_latitudes, s_wind_speed)\n",
    "# Get regression values\n",
    "regress_values = s_latitudes * slope + intercept\n",
    "#print(regress_values)\n",
    "# Create line equation string\n",
    "line_eq = \"y = \" + str(round(slope,2)) + \"x +\" + str(round(intercept,2))\n",
    "#print(line_eq)\n",
    "# Create Plot\n",
    "plt.scatter(s_latitudes, s_wind_speed)\n",
    "plt.plot(s_latitudes,regress_values,\"r-\")\n",
    "\n",
    "# Label plot and annotate the line equation\n",
    "plt.xlabel('Latitude')\n",
    "plt.ylabel('Wind Speed')\n",
    "plt.annotate(line_eq,(-50,25),fontsize=15,color=\"red\")\n",
    "\n",
    "# Print r square value\n",
    "print(f\"The r-squared is: {rvalue**2}\")\n",
    "\n",
    "# Show plot\n",
    "plt.show()"
   ]
  },
  {
   "cell_type": "code",
   "execution_count": null,
   "metadata": {},
   "outputs": [],
   "source": []
  }
 ],
 "metadata": {
  "anaconda-cloud": {},
  "kernel_info": {
   "name": "python3"
  },
  "kernelspec": {
   "display_name": "Python 3",
   "language": "python",
   "name": "python3"
  },
  "language_info": {
   "codemirror_mode": {
    "name": "ipython",
    "version": 3
   },
   "file_extension": ".py",
   "mimetype": "text/x-python",
   "name": "python",
   "nbconvert_exporter": "python",
   "pygments_lexer": "ipython3",
   "version": "3.7.6"
  },
  "latex_envs": {
   "LaTeX_envs_menu_present": true,
   "autoclose": false,
   "autocomplete": true,
   "bibliofile": "biblio.bib",
   "cite_by": "apalike",
   "current_citInitial": 1,
   "eqLabelWithNumbers": true,
   "eqNumInitial": 1,
   "hotkeys": {
    "equation": "Ctrl-E",
    "itemize": "Ctrl-I"
   },
   "labels_anchors": false,
   "latex_user_defs": false,
   "report_style_numbering": false,
   "user_envs_cfg": false
  },
  "nteract": {
   "version": "0.12.3"
  }
 },
 "nbformat": 4,
 "nbformat_minor": 2
}
